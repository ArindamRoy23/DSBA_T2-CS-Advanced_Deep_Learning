{
  "cells": [
    {
      "cell_type": "markdown",
      "metadata": {
        "id": "nlCNZsWlOSfP"
      },
      "source": [
        "# Practical Session on Graph Neural Networks\n",
        "\n",
        "**by Matthieu Nastorg**"
      ]
    },
    {
      "cell_type": "markdown",
      "metadata": {
        "id": "p0RMEfCaEehI"
      },
      "source": [
        "## **PART 1 : CODING** (8/20)"
      ]
    },
    {
      "cell_type": "markdown",
      "metadata": {
        "id": "v5Lp4PasOby4"
      },
      "source": [
        "### Install Pytorch Geometric\n",
        "\n",
        "To handle graph data, we use the library Pytorch Geometric : https://pytorch-geometric.readthedocs.io/en/latest/\n",
        "\n",
        "*   If you use _Google Colab_, simply run the following cell to install Pytorch Geometric (**advised**).\n",
        "*   If you plan using your _own environment_, follow the documentation to install Pytorch Geometric : https://pytorch-geometric.readthedocs.io/en/latest/install/installation.html and skip the following cell."
      ]
    },
    {
      "cell_type": "code",
      "execution_count": 1,
      "metadata": {
        "colab": {
          "base_uri": "https://localhost:8080/",
          "height": 1000
        },
        "id": "buW3eZmrj1N2",
        "outputId": "a41177dd-9a6a-4751-8c7d-b6d5728b17a7"
      },
      "outputs": [
        {
          "output_type": "stream",
          "name": "stdout",
          "text": [
            "Looking in indexes: https://pypi.org/simple, https://us-python.pkg.dev/colab-wheels/public/simple/\n",
            "Looking in links: https://pytorch-geometric.com/whl/torch-1.13.1+cu116.html\n",
            "Collecting torch-scatter\n",
            "  Downloading https://data.pyg.org/whl/torch-1.13.0%2Bcu116/torch_scatter-2.1.0%2Bpt113cu116-cp38-cp38-linux_x86_64.whl (9.4 MB)\n",
            "\u001b[2K     \u001b[90m━━━━━━━━━━━━━━━━━━━━━━━━━━━━━━━━━━━━━━━━\u001b[0m \u001b[32m9.4/9.4 MB\u001b[0m \u001b[31m31.5 MB/s\u001b[0m eta \u001b[36m0:00:00\u001b[0m\n",
            "\u001b[?25hInstalling collected packages: torch-scatter\n",
            "Successfully installed torch-scatter-2.1.0+pt113cu116\n",
            "Looking in indexes: https://pypi.org/simple, https://us-python.pkg.dev/colab-wheels/public/simple/\n",
            "Looking in links: https://pytorch-geometric.com/whl/torch-1.13.1+cu116.html\n",
            "Collecting torch-sparse\n",
            "  Downloading https://data.pyg.org/whl/torch-1.13.0%2Bcu116/torch_sparse-0.6.16%2Bpt113cu116-cp38-cp38-linux_x86_64.whl (4.5 MB)\n",
            "\u001b[2K     \u001b[90m━━━━━━━━━━━━━━━━━━━━━━━━━━━━━━━━━━━━━━━━\u001b[0m \u001b[32m4.5/4.5 MB\u001b[0m \u001b[31m18.0 MB/s\u001b[0m eta \u001b[36m0:00:00\u001b[0m\n",
            "\u001b[?25hRequirement already satisfied: scipy in /usr/local/lib/python3.8/dist-packages (from torch-sparse) (1.10.1)\n",
            "Requirement already satisfied: numpy<1.27.0,>=1.19.5 in /usr/local/lib/python3.8/dist-packages (from scipy->torch-sparse) (1.22.4)\n",
            "Installing collected packages: torch-sparse\n",
            "Successfully installed torch-sparse-0.6.16+pt113cu116\n",
            "Looking in indexes: https://pypi.org/simple, https://us-python.pkg.dev/colab-wheels/public/simple/\n",
            "Looking in links: https://pytorch-geometric.com/whl/torch-1.13.1+cu116.html\n",
            "Collecting torch-cluster\n",
            "  Downloading https://data.pyg.org/whl/torch-1.13.0%2Bcu116/torch_cluster-1.6.0%2Bpt113cu116-cp38-cp38-linux_x86_64.whl (3.2 MB)\n",
            "\u001b[2K     \u001b[90m━━━━━━━━━━━━━━━━━━━━━━━━━━━━━━━━━━━━━━━━\u001b[0m \u001b[32m3.2/3.2 MB\u001b[0m \u001b[31m30.8 MB/s\u001b[0m eta \u001b[36m0:00:00\u001b[0m\n",
            "\u001b[?25hRequirement already satisfied: scipy in /usr/local/lib/python3.8/dist-packages (from torch-cluster) (1.10.1)\n",
            "Requirement already satisfied: numpy<1.27.0,>=1.19.5 in /usr/local/lib/python3.8/dist-packages (from scipy->torch-cluster) (1.22.4)\n",
            "Installing collected packages: torch-cluster\n",
            "Successfully installed torch-cluster-1.6.0+pt113cu116\n",
            "Looking in indexes: https://pypi.org/simple, https://us-python.pkg.dev/colab-wheels/public/simple/\n",
            "Looking in links: https://pytorch-geometric.com/whl/torch-1.13.1+cu116.html\n",
            "Collecting torch-spline-conv\n",
            "  Downloading https://data.pyg.org/whl/torch-1.13.0%2Bcu116/torch_spline_conv-1.2.1%2Bpt113cu116-cp38-cp38-linux_x86_64.whl (873 kB)\n",
            "\u001b[2K     \u001b[90m━━━━━━━━━━━━━━━━━━━━━━━━━━━━━━━━━━━━━━\u001b[0m \u001b[32m873.9/873.9 KB\u001b[0m \u001b[31m14.3 MB/s\u001b[0m eta \u001b[36m0:00:00\u001b[0m\n",
            "\u001b[?25hInstalling collected packages: torch-spline-conv\n",
            "Successfully installed torch-spline-conv-1.2.1+pt113cu116\n",
            "Looking in indexes: https://pypi.org/simple, https://us-python.pkg.dev/colab-wheels/public/simple/\n",
            "Collecting torch-geometric\n",
            "  Downloading torch_geometric-2.2.0.tar.gz (564 kB)\n",
            "\u001b[2K     \u001b[90m━━━━━━━━━━━━━━━━━━━━━━━━━━━━━━━━━━━━━━\u001b[0m \u001b[32m565.0/565.0 KB\u001b[0m \u001b[31m10.0 MB/s\u001b[0m eta \u001b[36m0:00:00\u001b[0m\n",
            "\u001b[?25h  Preparing metadata (setup.py) ... \u001b[?25l\u001b[?25hdone\n",
            "Requirement already satisfied: tqdm in /usr/local/lib/python3.8/dist-packages (from torch-geometric) (4.64.1)\n",
            "Requirement already satisfied: numpy in /usr/local/lib/python3.8/dist-packages (from torch-geometric) (1.22.4)\n",
            "Requirement already satisfied: scipy in /usr/local/lib/python3.8/dist-packages (from torch-geometric) (1.10.1)\n",
            "Requirement already satisfied: jinja2 in /usr/local/lib/python3.8/dist-packages (from torch-geometric) (3.1.2)\n",
            "Requirement already satisfied: requests in /usr/local/lib/python3.8/dist-packages (from torch-geometric) (2.25.1)\n",
            "Requirement already satisfied: pyparsing in /usr/local/lib/python3.8/dist-packages (from torch-geometric) (3.0.9)\n",
            "Requirement already satisfied: scikit-learn in /usr/local/lib/python3.8/dist-packages (from torch-geometric) (1.2.1)\n",
            "Collecting psutil>=5.8.0\n",
            "  Downloading psutil-5.9.4-cp36-abi3-manylinux_2_12_x86_64.manylinux2010_x86_64.manylinux_2_17_x86_64.manylinux2014_x86_64.whl (280 kB)\n",
            "\u001b[2K     \u001b[90m━━━━━━━━━━━━━━━━━━━━━━━━━━━━━━━━━━━━━━\u001b[0m \u001b[32m280.2/280.2 KB\u001b[0m \u001b[31m29.5 MB/s\u001b[0m eta \u001b[36m0:00:00\u001b[0m\n",
            "\u001b[?25hRequirement already satisfied: MarkupSafe>=2.0 in /usr/local/lib/python3.8/dist-packages (from jinja2->torch-geometric) (2.1.2)\n",
            "Requirement already satisfied: chardet<5,>=3.0.2 in /usr/local/lib/python3.8/dist-packages (from requests->torch-geometric) (4.0.0)\n",
            "Requirement already satisfied: idna<3,>=2.5 in /usr/local/lib/python3.8/dist-packages (from requests->torch-geometric) (2.10)\n",
            "Requirement already satisfied: urllib3<1.27,>=1.21.1 in /usr/local/lib/python3.8/dist-packages (from requests->torch-geometric) (1.26.14)\n",
            "Requirement already satisfied: certifi>=2017.4.17 in /usr/local/lib/python3.8/dist-packages (from requests->torch-geometric) (2022.12.7)\n",
            "Requirement already satisfied: threadpoolctl>=2.0.0 in /usr/local/lib/python3.8/dist-packages (from scikit-learn->torch-geometric) (3.1.0)\n",
            "Requirement already satisfied: joblib>=1.1.1 in /usr/local/lib/python3.8/dist-packages (from scikit-learn->torch-geometric) (1.2.0)\n",
            "Building wheels for collected packages: torch-geometric\n",
            "  Building wheel for torch-geometric (setup.py) ... \u001b[?25l\u001b[?25hdone\n",
            "  Created wheel for torch-geometric: filename=torch_geometric-2.2.0-py3-none-any.whl size=773302 sha256=17b6676ed08f64f11ebb9672c5d9a847f6b3ef193ff01f29c3a928bad334dd0f\n",
            "  Stored in directory: /root/.cache/pip/wheels/59/a3/20/198928106d3169865ae73afcbd3d3d1796cf6b429b55c65378\n",
            "Successfully built torch-geometric\n",
            "Installing collected packages: psutil, torch-geometric\n",
            "  Attempting uninstall: psutil\n",
            "    Found existing installation: psutil 5.4.8\n",
            "    Uninstalling psutil-5.4.8:\n",
            "      Successfully uninstalled psutil-5.4.8\n",
            "Successfully installed psutil-5.9.4 torch-geometric-2.2.0\n"
          ]
        },
        {
          "output_type": "display_data",
          "data": {
            "application/vnd.colab-display-data+json": {
              "pip_warning": {
                "packages": [
                  "psutil"
                ]
              }
            }
          },
          "metadata": {}
        }
      ],
      "source": [
        "########## INSTALL TORCH GEOMETRIC ##################\n",
        "# https://pytorch-geometric.readthedocs.io/en/latest/ \n",
        "#####################################################\n",
        "import torch \n",
        "\n",
        "def format_pytorch_version(version):\n",
        "  return version.split('+')[0]\n",
        "\n",
        "TORCH_version = torch.__version__\n",
        "TORCH = format_pytorch_version(TORCH_version)\n",
        "\n",
        "def format_cuda_version(version):\n",
        "  return 'cu' + version.replace('.', '')\n",
        "\n",
        "CUDA_version = torch.version.cuda\n",
        "CUDA = format_cuda_version(CUDA_version)\n",
        "\n",
        "!pip install torch-scatter     -f https://pytorch-geometric.com/whl/torch-{TORCH}+{CUDA}.html\n",
        "!pip install torch-sparse      -f https://pytorch-geometric.com/whl/torch-{TORCH}+{CUDA}.html\n",
        "!pip install torch-cluster     -f https://pytorch-geometric.com/whl/torch-{TORCH}+{CUDA}.html\n",
        "!pip install torch-spline-conv -f https://pytorch-geometric.com/whl/torch-{TORCH}+{CUDA}.html\n",
        "!pip install torch-geometric"
      ]
    },
    {
      "cell_type": "markdown",
      "metadata": {
        "id": "04JPKXjDclTj"
      },
      "source": [
        "### Import required packages\n",
        "\n",
        "Run the following cell to import all required packages. This cell **must not** be modified.\n",
        "\n",
        "To significantly accelerate your training, it is advised to use GPU. Using Google Colab, you need to activate it : \n",
        "\n",
        "*   Edit --> Notebook Setting --> Hardware accelerator --> GPU"
      ]
    },
    {
      "cell_type": "code",
      "execution_count": 9,
      "metadata": {
        "id": "qXGDmBMYgA_x"
      },
      "outputs": [],
      "source": [
        "#####################################################\n",
        "################## PACKAGES #########################\n",
        "#####################################################\n",
        "import numpy as np\n",
        "import matplotlib.pyplot as plt\n",
        "\n",
        "import torch.nn as nn\n",
        "import torch_geometric.nn as graphnn\n",
        "from sklearn.metrics import f1_score\n",
        "from torch_geometric.datasets import PPI\n",
        "from torch_geometric.loader import DataLoader\n",
        "import torch.nn.functional as F"
      ]
    },
    {
      "cell_type": "markdown",
      "metadata": {
        "id": "3UvCNG8FgdS-"
      },
      "source": [
        "### Dataset\n",
        "\n",
        "We use the Protein-Protein Interaction (PPI) network dataset which includes:\n",
        "- 20 graphs for training \n",
        "- 2 graphs for validation\n",
        "- 2 graphs for testing\n",
        "\n",
        "One graph of the PPI dataset has on average 2372 nodes. Each node:\n",
        "- 50 features : positional gene sets / motif gene / immunological signatures ...\n",
        "- 121 (binary) labels : gene ontology sets (way to classify gene products like proteins).\n",
        "\n",
        "**This problem aims to predict, for a given PPI graph, the correct node's labels**.\n",
        "\n",
        "**It is a node (multi-level) classification task** (trained using supervised learning). \n",
        "\n",
        "For your curiosity, more details information on the dataset and some applications:\n",
        "- https://cs.stanford.edu/~jure/pubs/pathways-psb18.pdf\n",
        "- https://arxiv.org/abs/1707.04638\n",
        "\n",
        "To understand how a graph data is implemented in Pytorch Geometric, refer to : https://pytorch-geometric.readthedocs.io/en/latest/get_started/introduction.html\n"
      ]
    },
    {
      "cell_type": "code",
      "execution_count": 3,
      "metadata": {
        "colab": {
          "base_uri": "https://localhost:8080/"
        },
        "id": "IwdNhvzVNkZB",
        "outputId": "3d97e015-24cf-4799-c6cb-fd2ca83e0d49"
      },
      "outputs": [
        {
          "output_type": "stream",
          "name": "stderr",
          "text": [
            "Downloading https://data.dgl.ai/dataset/ppi.zip\n",
            "Extracting ./ppi.zip\n",
            "Processing...\n"
          ]
        },
        {
          "output_type": "stream",
          "name": "stdout",
          "text": [
            "Number of samples in the train dataset:  20\n",
            "Number of samples in the val dataset:  2\n",
            "Number of samples in the test dataset:  2\n",
            "Output of one sample from the train dataset:  Data(x=[1767, 50], edge_index=[2, 32318], y=[1767, 121])\n",
            "Edge_index :\n",
            "tensor([[   0,    0,    0,  ..., 1744, 1745, 1749],\n",
            "        [ 372, 1101,  766,  ..., 1745, 1744, 1739]])\n",
            "Number of features per node:  50\n",
            "Number of classes per node:  121\n"
          ]
        },
        {
          "output_type": "stream",
          "name": "stderr",
          "text": [
            "Done!\n"
          ]
        }
      ],
      "source": [
        "### LOAD DATASETS\n",
        "\n",
        "BATCH_SIZE = 2 \n",
        "\n",
        "# Train Dataset\n",
        "train_dataset = PPI(root=\"\", split='train')\n",
        "train_dataloader = DataLoader(train_dataset, batch_size=BATCH_SIZE)\n",
        "# Val Dataset\n",
        "val_dataset = PPI(root=\"\", split='val')\n",
        "val_dataloader = DataLoader(val_dataset, batch_size=BATCH_SIZE)\n",
        "# Test Dataset\n",
        "test_dataset = PPI(root=\"\", split='test')\n",
        "test_dataloader = DataLoader(test_dataset, batch_size=BATCH_SIZE)\n",
        "\n",
        "# Number of features and classes\n",
        "n_features, n_classes = train_dataset[0].x.shape[1], train_dataset[0].y.shape[1]\n",
        "\n",
        "print(\"Number of samples in the train dataset: \", len(train_dataset))\n",
        "print(\"Number of samples in the val dataset: \", len(test_dataset))\n",
        "print(\"Number of samples in the test dataset: \", len(test_dataset))\n",
        "print(\"Output of one sample from the train dataset: \", train_dataset[0])\n",
        "print(\"Edge_index :\")\n",
        "print(train_dataset[0].edge_index)\n",
        "print(\"Number of features per node: \", n_features)\n",
        "print(\"Number of classes per node: \", n_classes)"
      ]
    },
    {
      "cell_type": "markdown",
      "metadata": {
        "id": "hiCcn9qeO6Nm"
      },
      "source": [
        "### Define a basic Model"
      ]
    },
    {
      "cell_type": "markdown",
      "metadata": {
        "id": "8RjzEiJ-eVot"
      },
      "source": [
        "Here we define a very simple Graph Neural Network model which will be used as our baseline. This model consists of three graph convolutional layers (from https://arxiv.org/pdf/1609.02907.pdf). The first two layers computes 256 features, followed by an ELU activation function. The last layer is used for (multi-level) classification task, computing 121 features."
      ]
    },
    {
      "cell_type": "code",
      "execution_count": 4,
      "metadata": {
        "id": "2Km-GN1aMpd_"
      },
      "outputs": [],
      "source": [
        "#####################################################\n",
        "################## MODEL ############################\n",
        "#####################################################\n",
        "class BasicGraphModel(nn.Module):\n",
        "\n",
        "    def __init__(self, input_size, hidden_size, output_size):\n",
        "        super().__init__()\n",
        "\n",
        "        self.graphconv1 = graphnn.GCNConv(input_size, hidden_size)\n",
        "        self.graphconv2 = graphnn.GCNConv(hidden_size, hidden_size)\n",
        "        self.graphconv3 = graphnn.GCNConv(hidden_size, output_size)\n",
        "\n",
        "        self.elu = nn.ELU()\n",
        "\n",
        "    def forward(self, x, edge_index):\n",
        "\n",
        "        x = self.graphconv1(x, edge_index)\n",
        "        x = self.elu(x)\n",
        "        x = self.graphconv2(x, edge_index)\n",
        "        x = self.elu(x)\n",
        "        x = self.graphconv3(x, edge_index)\n",
        "\n",
        "        return x"
      ]
    },
    {
      "cell_type": "markdown",
      "metadata": {
        "id": "6ekk0TrOktOB"
      },
      "source": [
        "Next we construct the function to train the model."
      ]
    },
    {
      "cell_type": "code",
      "execution_count": 5,
      "metadata": {
        "id": "m4lneoadMxqy"
      },
      "outputs": [],
      "source": [
        "#####################################################\n",
        "############## TRAIN FUNCTION #######################\n",
        "#####################################################\n",
        "def train(model, loss_fcn, device, optimizer, max_epochs, train_dataloader, val_dataloader):\n",
        "\n",
        "    epoch_list = []\n",
        "    scores_list = []\n",
        "\n",
        "    # loop over epochs\n",
        "    for epoch in range(max_epochs):\n",
        "        model.train()\n",
        "        losses = []\n",
        "        # loop over batches\n",
        "        for i, train_batch in enumerate(train_dataloader):\n",
        "            optimizer.zero_grad()\n",
        "            train_batch_device = train_batch.to(device)\n",
        "            # logits is the output of the model\n",
        "            logits = model(train_batch_device.x, train_batch_device.edge_index)\n",
        "            # compute the loss\n",
        "            loss = loss_fcn(logits, train_batch_device.y)\n",
        "            # optimizer step\n",
        "            loss.backward()\n",
        "            optimizer.step()\n",
        "            losses.append(loss.item())\n",
        "        loss_data = np.array(losses).mean()\n",
        "        print(\"Epoch {:05d} | Loss: {:.4f}\".format(epoch + 1, loss_data))\n",
        "\n",
        "        if epoch % 5 == 0:\n",
        "            # evaluate the model on the validation set\n",
        "            # computes the f1-score (see next function)\n",
        "            score = evaluate(model, loss_fcn, device, val_dataloader)\n",
        "            print(\"F1-Score: {:.4f}\".format(score))\n",
        "            scores_list.append(score)\n",
        "            epoch_list.append(epoch)\n",
        "\n",
        "    return epoch_list, scores_list"
      ]
    },
    {
      "cell_type": "markdown",
      "metadata": {
        "id": "PTd9OqaelLni"
      },
      "source": [
        "Next function is designed to evaluate the performance of the model, computing the F1-Score"
      ]
    },
    {
      "cell_type": "code",
      "execution_count": 6,
      "metadata": {
        "id": "PajZzg5zM7V1"
      },
      "outputs": [],
      "source": [
        "#####################################################\n",
        "############### TEST FUNCTION #######################\n",
        "#####################################################\n",
        "def evaluate(model, loss_fcn, device, dataloader):\n",
        "\n",
        "    score_list_batch = []\n",
        "\n",
        "    model.eval()\n",
        "    for i, batch in enumerate(dataloader):\n",
        "        batch = batch.to(device)\n",
        "        output = model(batch.x, batch.edge_index)\n",
        "        loss_test = loss_fcn(output, batch.y)\n",
        "        predict = np.where(output.detach().cpu().numpy() >= 0, 1, 0)\n",
        "        score = f1_score(batch.y.cpu().numpy(), predict, average=\"micro\")\n",
        "        score_list_batch.append(score)\n",
        "\n",
        "    return np.array(score_list_batch).mean()"
      ]
    },
    {
      "cell_type": "markdown",
      "metadata": {
        "id": "EilgopwMlpsu"
      },
      "source": [
        "Let's train this model !"
      ]
    },
    {
      "cell_type": "code",
      "execution_count": 7,
      "metadata": {
        "colab": {
          "base_uri": "https://localhost:8080/"
        },
        "id": "Xkqo7e0gNACE",
        "outputId": "694f84e6-4f24-443f-f98e-b5e549059830"
      },
      "outputs": [
        {
          "output_type": "stream",
          "name": "stdout",
          "text": [
            "\n",
            "Device:  cuda\n",
            "Epoch 00001 | Loss: 0.6384\n",
            "F1-Score: 0.4556\n",
            "Epoch 00002 | Loss: 0.5803\n",
            "Epoch 00003 | Loss: 0.5627\n",
            "Epoch 00004 | Loss: 0.5557\n",
            "Epoch 00005 | Loss: 0.5508\n",
            "Epoch 00006 | Loss: 0.5463\n",
            "F1-Score: 0.4998\n",
            "Epoch 00007 | Loss: 0.5419\n",
            "Epoch 00008 | Loss: 0.5375\n",
            "Epoch 00009 | Loss: 0.5340\n",
            "Epoch 00010 | Loss: 0.5313\n",
            "Epoch 00011 | Loss: 0.5285\n",
            "F1-Score: 0.5257\n",
            "Epoch 00012 | Loss: 0.5260\n",
            "Epoch 00013 | Loss: 0.5236\n",
            "Epoch 00014 | Loss: 0.5212\n",
            "Epoch 00015 | Loss: 0.5189\n",
            "Epoch 00016 | Loss: 0.5168\n",
            "F1-Score: 0.5304\n",
            "Epoch 00017 | Loss: 0.5147\n",
            "Epoch 00018 | Loss: 0.5126\n",
            "Epoch 00019 | Loss: 0.5106\n",
            "Epoch 00020 | Loss: 0.5085\n",
            "Epoch 00021 | Loss: 0.5063\n",
            "F1-Score: 0.5141\n",
            "Epoch 00022 | Loss: 0.5041\n",
            "Epoch 00023 | Loss: 0.5019\n",
            "Epoch 00024 | Loss: 0.4998\n",
            "Epoch 00025 | Loss: 0.4978\n",
            "Epoch 00026 | Loss: 0.4958\n",
            "F1-Score: 0.5331\n",
            "Epoch 00027 | Loss: 0.4939\n",
            "Epoch 00028 | Loss: 0.4921\n",
            "Epoch 00029 | Loss: 0.4904\n",
            "Epoch 00030 | Loss: 0.4885\n",
            "Epoch 00031 | Loss: 0.4868\n",
            "F1-Score: 0.5504\n",
            "Epoch 00032 | Loss: 0.4850\n",
            "Epoch 00033 | Loss: 0.4835\n",
            "Epoch 00034 | Loss: 0.4819\n",
            "Epoch 00035 | Loss: 0.4807\n",
            "Epoch 00036 | Loss: 0.4794\n",
            "F1-Score: 0.5662\n",
            "Epoch 00037 | Loss: 0.4783\n",
            "Epoch 00038 | Loss: 0.4770\n",
            "Epoch 00039 | Loss: 0.4757\n",
            "Epoch 00040 | Loss: 0.4748\n",
            "Epoch 00041 | Loss: 0.4734\n",
            "F1-Score: 0.5633\n",
            "Epoch 00042 | Loss: 0.4715\n",
            "Epoch 00043 | Loss: 0.4700\n",
            "Epoch 00044 | Loss: 0.4685\n",
            "Epoch 00045 | Loss: 0.4670\n",
            "Epoch 00046 | Loss: 0.4663\n",
            "F1-Score: 0.5785\n",
            "Epoch 00047 | Loss: 0.4654\n",
            "Epoch 00048 | Loss: 0.4649\n",
            "Epoch 00049 | Loss: 0.4634\n",
            "Epoch 00050 | Loss: 0.4625\n",
            "Epoch 00051 | Loss: 0.4610\n",
            "F1-Score: 0.5830\n",
            "Epoch 00052 | Loss: 0.4610\n",
            "Epoch 00053 | Loss: 0.4589\n",
            "Epoch 00054 | Loss: 0.4598\n",
            "Epoch 00055 | Loss: 0.4576\n",
            "Epoch 00056 | Loss: 0.4574\n",
            "F1-Score: 0.5914\n",
            "Epoch 00057 | Loss: 0.4555\n",
            "Epoch 00058 | Loss: 0.4543\n",
            "Epoch 00059 | Loss: 0.4540\n",
            "Epoch 00060 | Loss: 0.4531\n",
            "Epoch 00061 | Loss: 0.4517\n",
            "F1-Score: 0.5909\n",
            "Epoch 00062 | Loss: 0.4514\n",
            "Epoch 00063 | Loss: 0.4506\n",
            "Epoch 00064 | Loss: 0.4495\n",
            "Epoch 00065 | Loss: 0.4485\n",
            "Epoch 00066 | Loss: 0.4479\n",
            "F1-Score: 0.5939\n",
            "Epoch 00067 | Loss: 0.4478\n",
            "Epoch 00068 | Loss: 0.4474\n",
            "Epoch 00069 | Loss: 0.4467\n",
            "Epoch 00070 | Loss: 0.4468\n",
            "Epoch 00071 | Loss: 0.4459\n",
            "F1-Score: 0.6057\n",
            "Epoch 00072 | Loss: 0.4462\n",
            "Epoch 00073 | Loss: 0.4453\n",
            "Epoch 00074 | Loss: 0.4438\n",
            "Epoch 00075 | Loss: 0.4438\n",
            "Epoch 00076 | Loss: 0.4430\n",
            "F1-Score: 0.6060\n",
            "Epoch 00077 | Loss: 0.4415\n",
            "Epoch 00078 | Loss: 0.4410\n",
            "Epoch 00079 | Loss: 0.4410\n",
            "Epoch 00080 | Loss: 0.4400\n",
            "Epoch 00081 | Loss: 0.4408\n",
            "F1-Score: 0.6134\n",
            "Epoch 00082 | Loss: 0.4414\n",
            "Epoch 00083 | Loss: 0.4419\n",
            "Epoch 00084 | Loss: 0.4408\n",
            "Epoch 00085 | Loss: 0.4408\n",
            "Epoch 00086 | Loss: 0.4392\n",
            "F1-Score: 0.5989\n",
            "Epoch 00087 | Loss: 0.4396\n",
            "Epoch 00088 | Loss: 0.4386\n",
            "Epoch 00089 | Loss: 0.4389\n",
            "Epoch 00090 | Loss: 0.4430\n",
            "Epoch 00091 | Loss: 0.4420\n",
            "F1-Score: 0.5839\n",
            "Epoch 00092 | Loss: 0.4404\n",
            "Epoch 00093 | Loss: 0.4400\n",
            "Epoch 00094 | Loss: 0.4373\n",
            "Epoch 00095 | Loss: 0.4350\n",
            "Epoch 00096 | Loss: 0.4355\n",
            "F1-Score: 0.6035\n",
            "Epoch 00097 | Loss: 0.4339\n",
            "Epoch 00098 | Loss: 0.4324\n",
            "Epoch 00099 | Loss: 0.4308\n",
            "Epoch 00100 | Loss: 0.4298\n",
            "Epoch 00101 | Loss: 0.4287\n",
            "F1-Score: 0.6166\n",
            "Epoch 00102 | Loss: 0.4275\n",
            "Epoch 00103 | Loss: 0.4268\n",
            "Epoch 00104 | Loss: 0.4263\n",
            "Epoch 00105 | Loss: 0.4260\n",
            "Epoch 00106 | Loss: 0.4255\n",
            "F1-Score: 0.6212\n",
            "Epoch 00107 | Loss: 0.4256\n",
            "Epoch 00108 | Loss: 0.4260\n",
            "Epoch 00109 | Loss: 0.4266\n",
            "Epoch 00110 | Loss: 0.4278\n",
            "Epoch 00111 | Loss: 0.4291\n",
            "F1-Score: 0.5760\n",
            "Epoch 00112 | Loss: 0.4324\n",
            "Epoch 00113 | Loss: 0.4336\n",
            "Epoch 00114 | Loss: 0.4376\n",
            "Epoch 00115 | Loss: 0.4398\n",
            "Epoch 00116 | Loss: 0.4397\n",
            "F1-Score: 0.6251\n",
            "Epoch 00117 | Loss: 0.4369\n",
            "Epoch 00118 | Loss: 0.4320\n",
            "Epoch 00119 | Loss: 0.4292\n",
            "Epoch 00120 | Loss: 0.4270\n",
            "Epoch 00121 | Loss: 0.4264\n",
            "F1-Score: 0.5983\n",
            "Epoch 00122 | Loss: 0.4241\n",
            "Epoch 00123 | Loss: 0.4263\n",
            "Epoch 00124 | Loss: 0.4243\n",
            "Epoch 00125 | Loss: 0.4229\n",
            "Epoch 00126 | Loss: 0.4220\n",
            "F1-Score: 0.6100\n",
            "Epoch 00127 | Loss: 0.4205\n",
            "Epoch 00128 | Loss: 0.4197\n",
            "Epoch 00129 | Loss: 0.4188\n",
            "Epoch 00130 | Loss: 0.4171\n",
            "Epoch 00131 | Loss: 0.4163\n",
            "F1-Score: 0.6250\n",
            "Epoch 00132 | Loss: 0.4161\n",
            "Epoch 00133 | Loss: 0.4153\n",
            "Epoch 00134 | Loss: 0.4153\n",
            "Epoch 00135 | Loss: 0.4165\n",
            "Epoch 00136 | Loss: 0.4166\n",
            "F1-Score: 0.6084\n",
            "Epoch 00137 | Loss: 0.4173\n",
            "Epoch 00138 | Loss: 0.4176\n",
            "Epoch 00139 | Loss: 0.4183\n",
            "Epoch 00140 | Loss: 0.4182\n",
            "Epoch 00141 | Loss: 0.4205\n",
            "F1-Score: 0.5991\n",
            "Epoch 00142 | Loss: 0.4246\n",
            "Epoch 00143 | Loss: 0.4256\n",
            "Epoch 00144 | Loss: 0.4271\n",
            "Epoch 00145 | Loss: 0.4245\n",
            "Epoch 00146 | Loss: 0.4257\n",
            "F1-Score: 0.6129\n",
            "Epoch 00147 | Loss: 0.4257\n",
            "Epoch 00148 | Loss: 0.4208\n",
            "Epoch 00149 | Loss: 0.4204\n",
            "Epoch 00150 | Loss: 0.4196\n",
            "Epoch 00151 | Loss: 0.4194\n",
            "F1-Score: 0.6374\n",
            "Epoch 00152 | Loss: 0.4170\n",
            "Epoch 00153 | Loss: 0.4169\n",
            "Epoch 00154 | Loss: 0.4166\n",
            "Epoch 00155 | Loss: 0.4162\n",
            "Epoch 00156 | Loss: 0.4134\n",
            "F1-Score: 0.6165\n",
            "Epoch 00157 | Loss: 0.4128\n",
            "Epoch 00158 | Loss: 0.4122\n",
            "Epoch 00159 | Loss: 0.4123\n",
            "Epoch 00160 | Loss: 0.4111\n",
            "Epoch 00161 | Loss: 0.4123\n",
            "F1-Score: 0.6066\n",
            "Epoch 00162 | Loss: 0.4120\n",
            "Epoch 00163 | Loss: 0.4111\n",
            "Epoch 00164 | Loss: 0.4116\n",
            "Epoch 00165 | Loss: 0.4125\n",
            "Epoch 00166 | Loss: 0.4123\n",
            "F1-Score: 0.6486\n",
            "Epoch 00167 | Loss: 0.4127\n",
            "Epoch 00168 | Loss: 0.4148\n",
            "Epoch 00169 | Loss: 0.4149\n",
            "Epoch 00170 | Loss: 0.4133\n",
            "Epoch 00171 | Loss: 0.4125\n",
            "F1-Score: 0.6272\n",
            "Epoch 00172 | Loss: 0.4106\n",
            "Epoch 00173 | Loss: 0.4108\n",
            "Epoch 00174 | Loss: 0.4104\n",
            "Epoch 00175 | Loss: 0.4104\n",
            "Epoch 00176 | Loss: 0.4084\n",
            "F1-Score: 0.6412\n",
            "Epoch 00177 | Loss: 0.4094\n",
            "Epoch 00178 | Loss: 0.4146\n",
            "Epoch 00179 | Loss: 0.4127\n",
            "Epoch 00180 | Loss: 0.4139\n",
            "Epoch 00181 | Loss: 0.4132\n",
            "F1-Score: 0.6507\n",
            "Epoch 00182 | Loss: 0.4154\n",
            "Epoch 00183 | Loss: 0.4130\n",
            "Epoch 00184 | Loss: 0.4134\n",
            "Epoch 00185 | Loss: 0.4110\n",
            "Epoch 00186 | Loss: 0.4090\n",
            "F1-Score: 0.6421\n",
            "Epoch 00187 | Loss: 0.4069\n",
            "Epoch 00188 | Loss: 0.4054\n",
            "Epoch 00189 | Loss: 0.4042\n",
            "Epoch 00190 | Loss: 0.4043\n",
            "Epoch 00191 | Loss: 0.4036\n",
            "F1-Score: 0.6308\n",
            "Epoch 00192 | Loss: 0.4040\n",
            "Epoch 00193 | Loss: 0.4034\n",
            "Epoch 00194 | Loss: 0.4042\n",
            "Epoch 00195 | Loss: 0.4033\n",
            "Epoch 00196 | Loss: 0.4036\n",
            "F1-Score: 0.6106\n",
            "Epoch 00197 | Loss: 0.4027\n",
            "Epoch 00198 | Loss: 0.4034\n",
            "Epoch 00199 | Loss: 0.4033\n",
            "Epoch 00200 | Loss: 0.4024\n"
          ]
        }
      ],
      "source": [
        "### DEVICE GPU OR CPU : will select GPU if available\n",
        "device = torch.device('cuda' if torch.cuda.is_available() else 'cpu')\n",
        "print(\"\\nDevice: \", device)\n",
        "\n",
        "### Max number of epochs\n",
        "max_epochs = 200\n",
        "\n",
        "### DEFINE THE MODEL\n",
        "basic_model = BasicGraphModel(  input_size = n_features, \n",
        "                                hidden_size = 256, \n",
        "                                output_size = n_classes).to(device)\n",
        "\n",
        "### DEFINE LOSS FUNCTION\n",
        "loss_fcn = nn.BCEWithLogitsLoss()\n",
        "\n",
        "### DEFINE OPTIMIZER\n",
        "optimizer = torch.optim.Adam(basic_model.parameters(), lr=0.005)\n",
        "\n",
        "### TRAIN THE MODEL\n",
        "epoch_list, basic_model_scores = train(basic_model, loss_fcn, device, optimizer, max_epochs, train_dataloader, val_dataloader)"
      ]
    },
    {
      "cell_type": "markdown",
      "metadata": {
        "id": "2sGc5g7Xmap2"
      },
      "source": [
        "Let's evaluate the performance of this basic model"
      ]
    },
    {
      "cell_type": "code",
      "execution_count": 8,
      "metadata": {
        "colab": {
          "base_uri": "https://localhost:8080/",
          "height": 354
        },
        "id": "ztfbbg2TNP7F",
        "outputId": "58784df1-e4ee-48bf-b79f-e2fe14230e7b"
      },
      "outputs": [
        {
          "output_type": "stream",
          "name": "stdout",
          "text": [
            "Basic Model : F1-Score on the test set: 0.6655\n"
          ]
        },
        {
          "output_type": "display_data",
          "data": {
            "text/plain": [
              "<Figure size 720x360 with 1 Axes>"
            ],
            "image/png": "[encoded data removed]"
          },
          "metadata": {
            "needs_background": "light"
          }
        }
      ],
      "source": [
        "### F1-SCORE ON TEST DATASET\n",
        "score_test = evaluate(basic_model, loss_fcn, device, test_dataloader)\n",
        "print(\"Basic Model : F1-Score on the test set: {:.4f}\".format(score_test))\n",
        "\n",
        "### PLOT EVOLUTION OF F1-SCORE W.R.T EPOCHS\n",
        "def plot_f1_score(epoch_list, scores) :\n",
        "    plt.figure(figsize=[10,5])\n",
        "    plt.plot(epoch_list, scores)\n",
        "    plt.title(\"Evolution of F1S-Score w.r.t epochs\")\n",
        "    plt.ylim([0.0, 1.0])\n",
        "    plt.show()\n",
        "    \n",
        "plot_f1_score(epoch_list, basic_model_scores)"
      ]
    },
    {
      "cell_type": "markdown",
      "metadata": {
        "id": "TRVsy5vLnWm_"
      },
      "source": [
        "### Define a better model\n",
        "\n",
        "Now, it's your turn to improve this basic model ! To do so, complete whenever ###### YOUR ANSWER ######## and run the two following cells.\n",
        "\n",
        "**HINT :** https://arxiv.org/pdf/1710.10903.pdf"
      ]
    },
    {
      "cell_type": "code",
      "execution_count": 17,
      "metadata": {
        "id": "qTo7PxFpRHzL"
      },
      "outputs": [],
      "source": [
        "class StudentModel(nn.Module):\n",
        "  def __init__(self, input_size, hidden_size, output_size):\n",
        "      super(StudentModel, self).__init__()\n",
        "      self.conv1 = graphnn.GCNConv(input_size, hidden_size)\n",
        "      self.conv2 = graphnn.GCNConv(hidden_size, output_size)\n",
        "      \n",
        "      ####### YOUR ANSWER #######\n",
        "      \n",
        "  def forward(self, x, edge_index):\n",
        "      x = F.relu(self.conv1(x, edge_index))\n",
        "      x = F.dropout(x, training=self.training)\n",
        "      x = self.conv2(x, edge_index)\n",
        "      return x\n",
        "\n",
        "      ####### YOUR ANSWER #######"
      ]
    },
    {
      "cell_type": "markdown",
      "metadata": {
        "id": "4yGdQ2uxpCAX"
      },
      "source": [
        "Let's train your model !"
      ]
    },
    {
      "cell_type": "code",
      "execution_count": 21,
      "metadata": {
        "id": "6XIYzkYRo3AQ",
        "colab": {
          "base_uri": "https://localhost:8080/"
        },
        "outputId": "ef39c904-74d7-4d77-f853-16269fe53ffe"
      },
      "outputs": [
        {
          "output_type": "stream",
          "name": "stdout",
          "text": [
            "Epoch 00001 | Loss: 0.6433\n",
            "F1-Score: 0.4225\n",
            "Epoch 00002 | Loss: 0.5862\n",
            "Epoch 00003 | Loss: 0.5759\n",
            "Epoch 00004 | Loss: 0.5676\n",
            "Epoch 00005 | Loss: 0.5605\n",
            "Epoch 00006 | Loss: 0.5539\n",
            "F1-Score: 0.4726\n",
            "Epoch 00007 | Loss: 0.5477\n",
            "Epoch 00008 | Loss: 0.5427\n",
            "Epoch 00009 | Loss: 0.5382\n",
            "Epoch 00010 | Loss: 0.5341\n",
            "Epoch 00011 | Loss: 0.5305\n",
            "F1-Score: 0.5036\n",
            "Epoch 00012 | Loss: 0.5273\n",
            "Epoch 00013 | Loss: 0.5241\n",
            "Epoch 00014 | Loss: 0.5212\n",
            "Epoch 00015 | Loss: 0.5191\n",
            "Epoch 00016 | Loss: 0.5166\n",
            "F1-Score: 0.5123\n",
            "Epoch 00017 | Loss: 0.5146\n",
            "Epoch 00018 | Loss: 0.5124\n",
            "Epoch 00019 | Loss: 0.5102\n",
            "Epoch 00020 | Loss: 0.5086\n",
            "Epoch 00021 | Loss: 0.5067\n",
            "F1-Score: 0.5196\n",
            "Epoch 00022 | Loss: 0.5051\n",
            "Epoch 00023 | Loss: 0.5031\n",
            "Epoch 00024 | Loss: 0.5022\n",
            "Epoch 00025 | Loss: 0.5002\n",
            "Epoch 00026 | Loss: 0.4991\n",
            "F1-Score: 0.5241\n",
            "Epoch 00027 | Loss: 0.4979\n",
            "Epoch 00028 | Loss: 0.4967\n",
            "Epoch 00029 | Loss: 0.4955\n",
            "Epoch 00030 | Loss: 0.4942\n",
            "Epoch 00031 | Loss: 0.4925\n",
            "F1-Score: 0.5320\n",
            "Epoch 00032 | Loss: 0.4919\n",
            "Epoch 00033 | Loss: 0.4906\n",
            "Epoch 00034 | Loss: 0.4894\n",
            "Epoch 00035 | Loss: 0.4888\n",
            "Epoch 00036 | Loss: 0.4886\n",
            "F1-Score: 0.5332\n",
            "Epoch 00037 | Loss: 0.4867\n",
            "Epoch 00038 | Loss: 0.4861\n",
            "Epoch 00039 | Loss: 0.4858\n",
            "Epoch 00040 | Loss: 0.4844\n",
            "Epoch 00041 | Loss: 0.4835\n",
            "F1-Score: 0.5444\n",
            "Epoch 00042 | Loss: 0.4827\n",
            "Epoch 00043 | Loss: 0.4824\n",
            "Epoch 00044 | Loss: 0.4816\n",
            "Epoch 00045 | Loss: 0.4814\n",
            "Epoch 00046 | Loss: 0.4812\n",
            "F1-Score: 0.5383\n",
            "Epoch 00047 | Loss: 0.4796\n",
            "Epoch 00048 | Loss: 0.4790\n",
            "Epoch 00049 | Loss: 0.4790\n",
            "Epoch 00050 | Loss: 0.4784\n",
            "Epoch 00051 | Loss: 0.4778\n",
            "F1-Score: 0.5460\n",
            "Epoch 00052 | Loss: 0.4771\n",
            "Epoch 00053 | Loss: 0.4765\n",
            "Epoch 00054 | Loss: 0.4763\n",
            "Epoch 00055 | Loss: 0.4754\n",
            "Epoch 00056 | Loss: 0.4750\n",
            "F1-Score: 0.5529\n",
            "Epoch 00057 | Loss: 0.4748\n",
            "Epoch 00058 | Loss: 0.4743\n",
            "Epoch 00059 | Loss: 0.4736\n",
            "Epoch 00060 | Loss: 0.4735\n",
            "Epoch 00061 | Loss: 0.4733\n",
            "F1-Score: 0.5523\n",
            "Epoch 00062 | Loss: 0.4726\n",
            "Epoch 00063 | Loss: 0.4723\n",
            "Epoch 00064 | Loss: 0.4726\n",
            "Epoch 00065 | Loss: 0.4714\n",
            "Epoch 00066 | Loss: 0.4711\n",
            "F1-Score: 0.5574\n",
            "Epoch 00067 | Loss: 0.4711\n",
            "Epoch 00068 | Loss: 0.4710\n",
            "Epoch 00069 | Loss: 0.4708\n",
            "Epoch 00070 | Loss: 0.4714\n",
            "Epoch 00071 | Loss: 0.4698\n",
            "F1-Score: 0.5583\n",
            "Epoch 00072 | Loss: 0.4701\n",
            "Epoch 00073 | Loss: 0.4690\n",
            "Epoch 00074 | Loss: 0.4694\n",
            "Epoch 00075 | Loss: 0.4693\n",
            "Epoch 00076 | Loss: 0.4687\n",
            "F1-Score: 0.5601\n",
            "Epoch 00077 | Loss: 0.4681\n",
            "Epoch 00078 | Loss: 0.4683\n",
            "Epoch 00079 | Loss: 0.4685\n",
            "Epoch 00080 | Loss: 0.4682\n",
            "Epoch 00081 | Loss: 0.4671\n",
            "F1-Score: 0.5626\n",
            "Epoch 00082 | Loss: 0.4670\n",
            "Epoch 00083 | Loss: 0.4675\n",
            "Epoch 00084 | Loss: 0.4670\n",
            "Epoch 00085 | Loss: 0.4667\n",
            "Epoch 00086 | Loss: 0.4662\n",
            "F1-Score: 0.5648\n",
            "Epoch 00087 | Loss: 0.4665\n",
            "Epoch 00088 | Loss: 0.4659\n",
            "Epoch 00089 | Loss: 0.4657\n",
            "Epoch 00090 | Loss: 0.4660\n",
            "Epoch 00091 | Loss: 0.4658\n",
            "F1-Score: 0.5629\n",
            "Epoch 00092 | Loss: 0.4655\n",
            "Epoch 00093 | Loss: 0.4653\n",
            "Epoch 00094 | Loss: 0.4651\n",
            "Epoch 00095 | Loss: 0.4653\n",
            "Epoch 00096 | Loss: 0.4648\n",
            "F1-Score: 0.5624\n",
            "Epoch 00097 | Loss: 0.4645\n",
            "Epoch 00098 | Loss: 0.4650\n",
            "Epoch 00099 | Loss: 0.4652\n",
            "Epoch 00100 | Loss: 0.4643\n",
            "Epoch 00101 | Loss: 0.4640\n",
            "F1-Score: 0.5682\n",
            "Epoch 00102 | Loss: 0.4633\n",
            "Epoch 00103 | Loss: 0.4630\n",
            "Epoch 00104 | Loss: 0.4634\n",
            "Epoch 00105 | Loss: 0.4633\n",
            "Epoch 00106 | Loss: 0.4635\n",
            "F1-Score: 0.5654\n",
            "Epoch 00107 | Loss: 0.4631\n",
            "Epoch 00108 | Loss: 0.4634\n",
            "Epoch 00109 | Loss: 0.4626\n",
            "Epoch 00110 | Loss: 0.4628\n",
            "Epoch 00111 | Loss: 0.4629\n",
            "F1-Score: 0.5632\n",
            "Epoch 00112 | Loss: 0.4624\n",
            "Epoch 00113 | Loss: 0.4625\n",
            "Epoch 00114 | Loss: 0.4627\n",
            "Epoch 00115 | Loss: 0.4617\n",
            "Epoch 00116 | Loss: 0.4618\n",
            "F1-Score: 0.5710\n",
            "Epoch 00117 | Loss: 0.4617\n",
            "Epoch 00118 | Loss: 0.4621\n",
            "Epoch 00119 | Loss: 0.4615\n",
            "Epoch 00120 | Loss: 0.4619\n",
            "Epoch 00121 | Loss: 0.4617\n",
            "F1-Score: 0.5744\n",
            "Epoch 00122 | Loss: 0.4620\n",
            "Epoch 00123 | Loss: 0.4614\n",
            "Epoch 00124 | Loss: 0.4612\n",
            "Epoch 00125 | Loss: 0.4615\n",
            "Epoch 00126 | Loss: 0.4611\n",
            "F1-Score: 0.5747\n",
            "Epoch 00127 | Loss: 0.4608\n",
            "Epoch 00128 | Loss: 0.4613\n",
            "Epoch 00129 | Loss: 0.4599\n",
            "Epoch 00130 | Loss: 0.4605\n",
            "Epoch 00131 | Loss: 0.4607\n",
            "F1-Score: 0.5718\n",
            "Epoch 00132 | Loss: 0.4609\n",
            "Epoch 00133 | Loss: 0.4607\n",
            "Epoch 00134 | Loss: 0.4605\n",
            "Epoch 00135 | Loss: 0.4600\n",
            "Epoch 00136 | Loss: 0.4597\n",
            "F1-Score: 0.5758\n",
            "Epoch 00137 | Loss: 0.4595\n",
            "Epoch 00138 | Loss: 0.4598\n",
            "Epoch 00139 | Loss: 0.4602\n",
            "Epoch 00140 | Loss: 0.4593\n",
            "Epoch 00141 | Loss: 0.4596\n",
            "F1-Score: 0.5698\n",
            "Epoch 00142 | Loss: 0.4598\n",
            "Epoch 00143 | Loss: 0.4599\n",
            "Epoch 00144 | Loss: 0.4594\n",
            "Epoch 00145 | Loss: 0.4598\n",
            "Epoch 00146 | Loss: 0.4595\n",
            "F1-Score: 0.5723\n",
            "Epoch 00147 | Loss: 0.4590\n",
            "Epoch 00148 | Loss: 0.4587\n",
            "Epoch 00149 | Loss: 0.4593\n",
            "Epoch 00150 | Loss: 0.4584\n",
            "Epoch 00151 | Loss: 0.4595\n",
            "F1-Score: 0.5717\n",
            "Epoch 00152 | Loss: 0.4586\n",
            "Epoch 00153 | Loss: 0.4585\n",
            "Epoch 00154 | Loss: 0.4588\n",
            "Epoch 00155 | Loss: 0.4584\n",
            "Epoch 00156 | Loss: 0.4586\n",
            "F1-Score: 0.5707\n",
            "Epoch 00157 | Loss: 0.4583\n",
            "Epoch 00158 | Loss: 0.4589\n",
            "Epoch 00159 | Loss: 0.4588\n",
            "Epoch 00160 | Loss: 0.4577\n",
            "Epoch 00161 | Loss: 0.4581\n",
            "F1-Score: 0.5759\n",
            "Epoch 00162 | Loss: 0.4587\n",
            "Epoch 00163 | Loss: 0.4584\n",
            "Epoch 00164 | Loss: 0.4582\n",
            "Epoch 00165 | Loss: 0.4582\n",
            "Epoch 00166 | Loss: 0.4580\n",
            "F1-Score: 0.5806\n",
            "Epoch 00167 | Loss: 0.4582\n",
            "Epoch 00168 | Loss: 0.4578\n",
            "Epoch 00169 | Loss: 0.4579\n",
            "Epoch 00170 | Loss: 0.4579\n",
            "Epoch 00171 | Loss: 0.4576\n",
            "F1-Score: 0.5813\n",
            "Epoch 00172 | Loss: 0.4575\n",
            "Epoch 00173 | Loss: 0.4572\n",
            "Epoch 00174 | Loss: 0.4568\n",
            "Epoch 00175 | Loss: 0.4569\n",
            "Epoch 00176 | Loss: 0.4573\n",
            "F1-Score: 0.5776\n",
            "Epoch 00177 | Loss: 0.4569\n",
            "Epoch 00178 | Loss: 0.4570\n",
            "Epoch 00179 | Loss: 0.4566\n",
            "Epoch 00180 | Loss: 0.4570\n",
            "Epoch 00181 | Loss: 0.4567\n",
            "F1-Score: 0.5768\n",
            "Epoch 00182 | Loss: 0.4561\n",
            "Epoch 00183 | Loss: 0.4568\n",
            "Epoch 00184 | Loss: 0.4564\n",
            "Epoch 00185 | Loss: 0.4565\n",
            "Epoch 00186 | Loss: 0.4563\n",
            "F1-Score: 0.5815\n",
            "Epoch 00187 | Loss: 0.4566\n",
            "Epoch 00188 | Loss: 0.4563\n",
            "Epoch 00189 | Loss: 0.4558\n",
            "Epoch 00190 | Loss: 0.4559\n",
            "Epoch 00191 | Loss: 0.4563\n",
            "F1-Score: 0.5786\n",
            "Epoch 00192 | Loss: 0.4561\n",
            "Epoch 00193 | Loss: 0.4560\n",
            "Epoch 00194 | Loss: 0.4558\n",
            "Epoch 00195 | Loss: 0.4557\n",
            "Epoch 00196 | Loss: 0.4564\n",
            "F1-Score: 0.5830\n",
            "Epoch 00197 | Loss: 0.4560\n",
            "Epoch 00198 | Loss: 0.4560\n",
            "Epoch 00199 | Loss: 0.4561\n",
            "Epoch 00200 | Loss: 0.4556\n"
          ]
        }
      ],
      "source": [
        "## Student model\n",
        "student_model = StudentModel(input_size = n_features, hidden_size = 256, output_size = n_classes).to(device)\n",
        "\n",
        "### DEFINE LOSS FUNCTION AND OPTIMIZER\n",
        "optimizer = torch.optim.Adam(student_model.parameters(), lr=0.005)\n",
        "\n",
        "### TRAIN\n",
        "epoch_list, student_model_scores = train(student_model, loss_fcn, device, optimizer, max_epochs, train_dataloader, val_dataloader)"
      ]
    },
    {
      "cell_type": "markdown",
      "metadata": {
        "id": "aWatNTPBpQGY"
      },
      "source": [
        "Let's evaluate the performance of your model"
      ]
    },
    {
      "cell_type": "code",
      "execution_count": null,
      "metadata": {
        "id": "WFWMqwDuSj7b"
      },
      "outputs": [],
      "source": [
        "score_test = evaluate(student_model, loss_fcn, device, test_dataloader)\n",
        "print(\"Student Model : F1-Score on the test set: {:.4f}\".format(score_test))\n",
        "\n",
        "def plot_f1_score(epoch_list, basic_model_scores, student_model_scores) :\n",
        "    plt.figure(figsize = [10,5])\n",
        "    plt.plot(epoch_list, basic_model_scores, 'b', label = \"Basic Model\")\n",
        "    plt.plot(epoch_list, student_model_scores, 'r', label = \"Student Model\")\n",
        "    plt.title(\"Evolution of f1 score w.r.t epochs\")\n",
        "    plt.ylim([0.0, 1.0])\n",
        "    plt.ylabel(\"Epochs\")\n",
        "    plt.xlabel(\"F1-Score\")\n",
        "    plt.legend()\n",
        "    plt.show()\n",
        "    \n",
        "plot_f1_score(epoch_list, basic_model_scores, student_model_scores)"
      ]
    },
    {
      "cell_type": "markdown",
      "metadata": {
        "id": "i9aVEYkuR3fp"
      },
      "source": [
        "## **PART 2 : QUESTIONS** (12/20)"
      ]
    },
    {
      "cell_type": "markdown",
      "metadata": {
        "id": "vZ-r6AWtR-Co"
      },
      "source": [
        "**1. Make a small paragraph that : (4pts)**\n",
        "1. Explains your achitecture and justify your choices (why the Graph Layer you chose is more efficient than the GCNLayer from the Basic Model?).\n",
        "2. Analyses your results (what is the F1-Score ? are your results convincing ? what is your position w.r.t state-of-the-art ?)."
      ]
    },
    {
      "cell_type": "markdown",
      "metadata": {
        "id": "4aiCvW4q5jRY"
      },
      "source": [
        "(ANSWER)"
      ]
    },
    {
      "cell_type": "markdown",
      "metadata": {
        "id": "5HIVqG4u5jfc"
      },
      "source": [
        "**2. Provide a diagramm of your architecture, which includes a good and clear legend as well as shapes information. The diagramm must be submitted as an external file, along with this notebook (PDF, JEPG or PNG format accepted). (2pts)**"
      ]
    },
    {
      "cell_type": "code",
      "source": [
        "#TBU"
      ],
      "metadata": {
        "id": "6L4t6hxJ6kop"
      },
      "execution_count": null,
      "outputs": []
    },
    {
      "cell_type": "markdown",
      "metadata": {
        "id": "crMHLjkJ5pxl"
      },
      "source": [
        "**3. Make a small paragraph that explains: (6pts)**\n",
        "1. **What _oversmoothing_ is in the context of Graph Neural Network. Why is it an issue ?** <p>\n",
        "Oversmoothing in Graph Neural Networks (GNNs) refers to the phenomenon where the node representations become too similar after several layers of message passing, leading to a loss of discriminative power and hindering the GNN's ability to distinguish between nodes with different characteristics. This issue arises due to the aggregation process in each GNN layer, which can lead to an averaging effect. Oversmoothing is a particular concern in semi-supervised learning settings and can limit the GNN's ability to learn a meaningful classifier. Several techniques have been proposed to address this issue, including skip connections, residual connections, and adaptive normalization techniques, to preserve the discriminative power of node representations over multiple layers of message passing.\n",
        "\n",
        "2. **Are there solutions to overcome it ?** <p>\n",
        "Yes, there are several techniques that have been proposed to address the issue of oversmoothing in Graph Neural Networks (GNNs). One approach is to use skip connections or residual connections, similar to those used in convolutional neural networks (CNNs), to allow information to bypass some of the layers and preserve the original input information. Another approach is to use adaptive normalization techniques, such as layer normalization or batch normalization, to ensure that the node representations remain diverse across multiple layers of message passing. Additionally, some recent research has focused on developing new architectures for GNNs, such as graph attention networks or graph convolutional networks with attention mechanisms, that can selectively attend to different parts of the graph and avoid oversmoothing. These techniques have shown promise in improving the performance of GNNs on tasks that require the ability to distinguish between nodes with different characteristics.\n",
        "\n",
        "3. **Do you think the model you constructed is robust with respect to oversmoothing ? Why ?** <p>\n",
        "The model we constructed, which is a simple Graph Convolutional Network (GCN) with two layers of graph convolutions, may be susceptible to oversmoothing if used on large graphs or if the number of layers is increased. However, it is not possible to definitively say whether the model is robust to oversmoothing without evaluating its performance on a specific task and dataset. To make the GCN more robust to oversmoothing, we can incorporate some of the techniques that have been proposed to address this issue, such as skip connections, residual connections, or adaptive normalization techniques. Additionally, we can experiment with different numbers of layers, learning rates, and other hyperparameters to optimize the performance of the GCN on the task at hand. Ultimately, the robustness of a GNN model with respect to oversmoothing will depend on many factors, including the size and complexity of the graph, the amount of labeled data available, and the specific task being addressed. Therefore, it is important to carefully evaluate the performance of any GNN model on the target task and dataset, and to experiment with different architectures and hyperparameters to optimize its performance. <p>"
      ]
    }
  ],
  "metadata": {
    "accelerator": "GPU",
    "colab": {
      "provenance": []
    },
    "gpuClass": "standard",
    "kernelspec": {
      "display_name": "Python 3",
      "language": "python",
      "name": "python3"
    },
    "language_info": {
      "codemirror_mode": {
        "name": "ipython",
        "version": 3
      },
      "file_extension": ".py",
      "mimetype": "text/x-python",
      "name": "python",
      "nbconvert_exporter": "python",
      "pygments_lexer": "ipython3",
      "version": "3.7.6"
    }
  },
  "nbformat": 4,
  "nbformat_minor": 0
}