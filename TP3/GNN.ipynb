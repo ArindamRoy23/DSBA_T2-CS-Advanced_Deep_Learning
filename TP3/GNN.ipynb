{
  "cells": [
    {
      "cell_type": "markdown",
      "metadata": {
        "id": "nlCNZsWlOSfP"
      },
      "source": [
        "# Practical Session on Graph Neural Networks\n",
        "\n",
        "**by Matthieu Nastorg**"
      ]
    },
    {
      "cell_type": "markdown",
      "metadata": {
        "id": "p0RMEfCaEehI"
      },
      "source": [
        "## **PART 1 : CODING** (8/20)"
      ]
    },
    {
      "cell_type": "markdown",
      "metadata": {
        "id": "v5Lp4PasOby4"
      },
      "source": [
        "### Install Pytorch Geometric\n",
        "\n",
        "To handle graph data, we use the library Pytorch Geometric : https://pytorch-geometric.readthedocs.io/en/latest/\n",
        "\n",
        "*   If you use _Google Colab_, simply run the following cell to install Pytorch Geometric (**advised**).\n",
        "*   If you plan using your _own environment_, follow the documentation to install Pytorch Geometric : https://pytorch-geometric.readthedocs.io/en/latest/install/installation.html and skip the following cell."
      ]
    },
    {
      "cell_type": "code",
      "execution_count": 1,
      "metadata": {
        "colab": {
          "base_uri": "https://localhost:8080/"
        },
        "id": "buW3eZmrj1N2",
        "outputId": "1dedcbd2-b659-40dc-f84c-b8f722592327"
      },
      "outputs": [
        {
          "output_type": "stream",
          "name": "stdout",
          "text": [
            "Looking in indexes: https://pypi.org/simple, https://us-python.pkg.dev/colab-wheels/public/simple/\n",
            "Looking in links: https://pytorch-geometric.com/whl/torch-1.13.1+cu116.html\n",
            "Requirement already satisfied: torch-scatter in /usr/local/lib/python3.9/dist-packages (2.1.0+pt113cu116)\n",
            "Looking in indexes: https://pypi.org/simple, https://us-python.pkg.dev/colab-wheels/public/simple/\n",
            "Looking in links: https://pytorch-geometric.com/whl/torch-1.13.1+cu116.html\n",
            "Requirement already satisfied: torch-sparse in /usr/local/lib/python3.9/dist-packages (0.6.16+pt113cu116)\n",
            "Requirement already satisfied: scipy in /usr/local/lib/python3.9/dist-packages (from torch-sparse) (1.10.1)\n",
            "Requirement already satisfied: numpy<1.27.0,>=1.19.5 in /usr/local/lib/python3.9/dist-packages (from scipy->torch-sparse) (1.22.4)\n",
            "Looking in indexes: https://pypi.org/simple, https://us-python.pkg.dev/colab-wheels/public/simple/\n",
            "Looking in links: https://pytorch-geometric.com/whl/torch-1.13.1+cu116.html\n",
            "Requirement already satisfied: torch-cluster in /usr/local/lib/python3.9/dist-packages (1.6.0+pt113cu116)\n",
            "Requirement already satisfied: scipy in /usr/local/lib/python3.9/dist-packages (from torch-cluster) (1.10.1)\n",
            "Requirement already satisfied: numpy<1.27.0,>=1.19.5 in /usr/local/lib/python3.9/dist-packages (from scipy->torch-cluster) (1.22.4)\n",
            "Looking in indexes: https://pypi.org/simple, https://us-python.pkg.dev/colab-wheels/public/simple/\n",
            "Looking in links: https://pytorch-geometric.com/whl/torch-1.13.1+cu116.html\n",
            "Requirement already satisfied: torch-spline-conv in /usr/local/lib/python3.9/dist-packages (1.2.1+pt113cu116)\n",
            "Looking in indexes: https://pypi.org/simple, https://us-python.pkg.dev/colab-wheels/public/simple/\n",
            "Requirement already satisfied: torch-geometric in /usr/local/lib/python3.9/dist-packages (2.2.0)\n",
            "Requirement already satisfied: scipy in /usr/local/lib/python3.9/dist-packages (from torch-geometric) (1.10.1)\n",
            "Requirement already satisfied: pyparsing in /usr/local/lib/python3.9/dist-packages (from torch-geometric) (3.0.9)\n",
            "Requirement already satisfied: numpy in /usr/local/lib/python3.9/dist-packages (from torch-geometric) (1.22.4)\n",
            "Requirement already satisfied: psutil>=5.8.0 in /usr/local/lib/python3.9/dist-packages (from torch-geometric) (5.9.4)\n",
            "Requirement already satisfied: tqdm in /usr/local/lib/python3.9/dist-packages (from torch-geometric) (4.65.0)\n",
            "Requirement already satisfied: requests in /usr/local/lib/python3.9/dist-packages (from torch-geometric) (2.25.1)\n",
            "Requirement already satisfied: scikit-learn in /usr/local/lib/python3.9/dist-packages (from torch-geometric) (1.2.2)\n",
            "Requirement already satisfied: jinja2 in /usr/local/lib/python3.9/dist-packages (from torch-geometric) (3.1.2)\n",
            "Requirement already satisfied: MarkupSafe>=2.0 in /usr/local/lib/python3.9/dist-packages (from jinja2->torch-geometric) (2.1.2)\n",
            "Requirement already satisfied: urllib3<1.27,>=1.21.1 in /usr/local/lib/python3.9/dist-packages (from requests->torch-geometric) (1.26.14)\n",
            "Requirement already satisfied: chardet<5,>=3.0.2 in /usr/local/lib/python3.9/dist-packages (from requests->torch-geometric) (4.0.0)\n",
            "Requirement already satisfied: certifi>=2017.4.17 in /usr/local/lib/python3.9/dist-packages (from requests->torch-geometric) (2022.12.7)\n",
            "Requirement already satisfied: idna<3,>=2.5 in /usr/local/lib/python3.9/dist-packages (from requests->torch-geometric) (2.10)\n",
            "Requirement already satisfied: threadpoolctl>=2.0.0 in /usr/local/lib/python3.9/dist-packages (from scikit-learn->torch-geometric) (3.1.0)\n",
            "Requirement already satisfied: joblib>=1.1.1 in /usr/local/lib/python3.9/dist-packages (from scikit-learn->torch-geometric) (1.1.1)\n"
          ]
        }
      ],
      "source": [
        "########## INSTALL TORCH GEOMETRIC ##################\n",
        "# https://pytorch-geometric.readthedocs.io/en/latest/ \n",
        "#####################################################\n",
        "import torch \n",
        "\n",
        "def format_pytorch_version(version):\n",
        "  return version.split('+')[0]\n",
        "\n",
        "TORCH_version = torch.__version__\n",
        "TORCH = format_pytorch_version(TORCH_version)\n",
        "\n",
        "def format_cuda_version(version):\n",
        "  return 'cu' + version.replace('.', '')\n",
        "\n",
        "CUDA_version = torch.version.cuda\n",
        "CUDA = format_cuda_version(CUDA_version)\n",
        "\n",
        "!pip install torch-scatter     -f https://pytorch-geometric.com/whl/torch-{TORCH}+{CUDA}.html\n",
        "!pip install torch-sparse      -f https://pytorch-geometric.com/whl/torch-{TORCH}+{CUDA}.html\n",
        "!pip install torch-cluster     -f https://pytorch-geometric.com/whl/torch-{TORCH}+{CUDA}.html\n",
        "!pip install torch-spline-conv -f https://pytorch-geometric.com/whl/torch-{TORCH}+{CUDA}.html\n",
        "!pip install torch-geometric"
      ]
    },
    {
      "cell_type": "markdown",
      "metadata": {
        "id": "04JPKXjDclTj"
      },
      "source": [
        "### Import required packages\n",
        "\n",
        "Run the following cell to import all required packages. This cell **must not** be modified.\n",
        "\n",
        "To significantly accelerate your training, it is advised to use GPU. Using Google Colab, you need to activate it : \n",
        "\n",
        "*   Edit --> Notebook Setting --> Hardware accelerator --> GPU"
      ]
    },
    {
      "cell_type": "code",
      "execution_count": 2,
      "metadata": {
        "id": "qXGDmBMYgA_x"
      },
      "outputs": [],
      "source": [
        "#####################################################\n",
        "################## PACKAGES #########################\n",
        "#####################################################\n",
        "import numpy as np\n",
        "import matplotlib.pyplot as plt\n",
        "\n",
        "import torch.nn as nn\n",
        "import torch_geometric.nn as graphnn\n",
        "from sklearn.metrics import f1_score\n",
        "from torch_geometric.datasets import PPI\n",
        "from torch_geometric.loader import DataLoader\n",
        "import torch.nn.functional as F"
      ]
    },
    {
      "cell_type": "markdown",
      "metadata": {
        "id": "3UvCNG8FgdS-"
      },
      "source": [
        "### Dataset\n",
        "\n",
        "We use the Protein-Protein Interaction (PPI) network dataset which includes:\n",
        "- 20 graphs for training \n",
        "- 2 graphs for validation\n",
        "- 2 graphs for testing\n",
        "\n",
        "One graph of the PPI dataset has on average 2372 nodes. Each node:\n",
        "- 50 features : positional gene sets / motif gene / immunological signatures ...\n",
        "- 121 (binary) labels : gene ontology sets (way to classify gene products like proteins).\n",
        "\n",
        "**This problem aims to predict, for a given PPI graph, the correct node's labels**.\n",
        "\n",
        "**It is a node (multi-level) classification task** (trained using supervised learning). \n",
        "\n",
        "For your curiosity, more details information on the dataset and some applications:\n",
        "- https://cs.stanford.edu/~jure/pubs/pathways-psb18.pdf\n",
        "- https://arxiv.org/abs/1707.04638\n",
        "\n",
        "To understand how a graph data is implemented in Pytorch Geometric, refer to : https://pytorch-geometric.readthedocs.io/en/latest/get_started/introduction.html\n"
      ]
    },
    {
      "cell_type": "code",
      "execution_count": 3,
      "metadata": {
        "colab": {
          "base_uri": "https://localhost:8080/"
        },
        "id": "IwdNhvzVNkZB",
        "outputId": "8577fbd4-b5e3-4af3-b5bf-2cad6aef6cc5"
      },
      "outputs": [
        {
          "output_type": "stream",
          "name": "stderr",
          "text": [
            "Downloading https://data.dgl.ai/dataset/ppi.zip\n",
            "Extracting ./ppi.zip\n",
            "Processing...\n"
          ]
        },
        {
          "output_type": "stream",
          "name": "stdout",
          "text": [
            "Number of samples in the train dataset:  20\n",
            "Number of samples in the val dataset:  2\n",
            "Number of samples in the test dataset:  2\n",
            "Output of one sample from the train dataset:  Data(x=[1767, 50], edge_index=[2, 32318], y=[1767, 121])\n",
            "Edge_index :\n",
            "tensor([[   0,    0,    0,  ..., 1744, 1745, 1749],\n",
            "        [ 372, 1101,  766,  ..., 1745, 1744, 1739]])\n",
            "Number of features per node:  50\n",
            "Number of classes per node:  121\n"
          ]
        },
        {
          "output_type": "stream",
          "name": "stderr",
          "text": [
            "Done!\n"
          ]
        }
      ],
      "source": [
        "### LOAD DATASETS\n",
        "\n",
        "BATCH_SIZE = 2 \n",
        "\n",
        "# Train Dataset\n",
        "train_dataset = PPI(root=\"\", split='train')\n",
        "train_dataloader = DataLoader(train_dataset, batch_size=BATCH_SIZE)\n",
        "# Val Dataset\n",
        "val_dataset = PPI(root=\"\", split='val')\n",
        "val_dataloader = DataLoader(val_dataset, batch_size=BATCH_SIZE)\n",
        "# Test Dataset\n",
        "test_dataset = PPI(root=\"\", split='test')\n",
        "test_dataloader = DataLoader(test_dataset, batch_size=BATCH_SIZE)\n",
        "\n",
        "# Number of features and classes\n",
        "n_features, n_classes = train_dataset[0].x.shape[1], train_dataset[0].y.shape[1]\n",
        "\n",
        "print(\"Number of samples in the train dataset: \", len(train_dataset))\n",
        "print(\"Number of samples in the val dataset: \", len(test_dataset))\n",
        "print(\"Number of samples in the test dataset: \", len(test_dataset))\n",
        "print(\"Output of one sample from the train dataset: \", train_dataset[0])\n",
        "print(\"Edge_index :\")\n",
        "print(train_dataset[0].edge_index)\n",
        "print(\"Number of features per node: \", n_features)\n",
        "print(\"Number of classes per node: \", n_classes)"
      ]
    },
    {
      "cell_type": "markdown",
      "metadata": {
        "id": "hiCcn9qeO6Nm"
      },
      "source": [
        "### Define a basic Model"
      ]
    },
    {
      "cell_type": "markdown",
      "metadata": {
        "id": "8RjzEiJ-eVot"
      },
      "source": [
        "Here we define a very simple Graph Neural Network model which will be used as our baseline. This model consists of three graph convolutional layers (from https://arxiv.org/pdf/1609.02907.pdf). The first two layers computes 256 features, followed by an ELU activation function. The last layer is used for (multi-level) classification task, computing 121 features."
      ]
    },
    {
      "cell_type": "code",
      "execution_count": 4,
      "metadata": {
        "id": "2Km-GN1aMpd_"
      },
      "outputs": [],
      "source": [
        "#####################################################\n",
        "################## MODEL ############################\n",
        "#####################################################\n",
        "class BasicGraphModel(nn.Module):\n",
        "\n",
        "    def __init__(self, input_size, hidden_size, output_size):\n",
        "        super().__init__()\n",
        "\n",
        "        self.graphconv1 = graphnn.GCNConv(input_size, hidden_size)\n",
        "        self.graphconv2 = graphnn.GCNConv(hidden_size, hidden_size)\n",
        "        self.graphconv3 = graphnn.GCNConv(hidden_size, output_size)\n",
        "\n",
        "        self.elu = nn.ELU()\n",
        "\n",
        "    def forward(self, x, edge_index):\n",
        "\n",
        "        x = self.graphconv1(x, edge_index)\n",
        "        x = self.elu(x)\n",
        "        x = self.graphconv2(x, edge_index)\n",
        "        x = self.elu(x)\n",
        "        x = self.graphconv3(x, edge_index)\n",
        "\n",
        "        return x\n"
      ]
    },
    {
      "cell_type": "markdown",
      "metadata": {
        "id": "6ekk0TrOktOB"
      },
      "source": [
        "Next we construct the function to train the model."
      ]
    },
    {
      "cell_type": "code",
      "execution_count": 5,
      "metadata": {
        "id": "m4lneoadMxqy"
      },
      "outputs": [],
      "source": [
        "#####################################################\n",
        "############## TRAIN FUNCTION #######################\n",
        "#####################################################\n",
        "def train(model, loss_fcn, device, optimizer, max_epochs, train_dataloader, val_dataloader):\n",
        "\n",
        "    epoch_list = []\n",
        "    scores_list = []\n",
        "\n",
        "    # loop over epochs\n",
        "    for epoch in range(max_epochs):\n",
        "        model.train()\n",
        "        losses = []\n",
        "        # loop over batches\n",
        "        for i, train_batch in enumerate(train_dataloader):\n",
        "            optimizer.zero_grad()\n",
        "            train_batch_device = train_batch.to(device)\n",
        "            # logits is the output of the model\n",
        "            logits = model(train_batch_device.x, train_batch_device.edge_index)\n",
        "            # compute the loss\n",
        "            loss = loss_fcn(logits, train_batch_device.y)\n",
        "            # optimizer step\n",
        "            loss.backward()\n",
        "            optimizer.step()\n",
        "            losses.append(loss.item())\n",
        "        loss_data = np.array(losses).mean()\n",
        "        print(\"Epoch {:05d} | Loss: {:.4f}\".format(epoch + 1, loss_data))\n",
        "\n",
        "        if epoch % 5 == 0:\n",
        "            # evaluate the model on the validation set\n",
        "            # computes the f1-score (see next function)\n",
        "            score = evaluate(model, loss_fcn, device, val_dataloader)\n",
        "            print(\"F1-Score: {:.4f}\".format(score))\n",
        "            scores_list.append(score)\n",
        "            epoch_list.append(epoch)\n",
        "\n",
        "    return epoch_list, scores_list"
      ]
    },
    {
      "cell_type": "markdown",
      "metadata": {
        "id": "PTd9OqaelLni"
      },
      "source": [
        "Next function is designed to evaluate the performance of the model, computing the F1-Score"
      ]
    },
    {
      "cell_type": "code",
      "execution_count": 6,
      "metadata": {
        "id": "PajZzg5zM7V1"
      },
      "outputs": [],
      "source": [
        "#####################################################\n",
        "############### TEST FUNCTION #######################\n",
        "#####################################################\n",
        "def evaluate(model, loss_fcn, device, dataloader):\n",
        "\n",
        "    score_list_batch = []\n",
        "\n",
        "    model.eval()\n",
        "    for i, batch in enumerate(dataloader):\n",
        "        batch = batch.to(device)\n",
        "        output = model(batch.x, batch.edge_index)\n",
        "        loss_test = loss_fcn(output, batch.y)\n",
        "        predict = np.where(output.detach().cpu().numpy() >= 0, 1, 0)\n",
        "        score = f1_score(batch.y.cpu().numpy(), predict, average=\"micro\")\n",
        "        score_list_batch.append(score)\n",
        "\n",
        "    return np.array(score_list_batch).mean()"
      ]
    },
    {
      "cell_type": "markdown",
      "metadata": {
        "id": "EilgopwMlpsu"
      },
      "source": [
        "Let's train this model !"
      ]
    },
    {
      "cell_type": "code",
      "execution_count": 7,
      "metadata": {
        "colab": {
          "base_uri": "https://localhost:8080/"
        },
        "id": "Xkqo7e0gNACE",
        "outputId": "58a4519a-05b3-46a1-95d9-da2eaf863d5c"
      },
      "outputs": [
        {
          "output_type": "stream",
          "name": "stdout",
          "text": [
            "\n",
            "Device:  cuda\n",
            "Epoch 00001 | Loss: 0.6394\n",
            "F1-Score: 0.4451\n",
            "Epoch 00002 | Loss: 0.5831\n",
            "Epoch 00003 | Loss: 0.5628\n",
            "Epoch 00004 | Loss: 0.5570\n",
            "Epoch 00005 | Loss: 0.5520\n",
            "Epoch 00006 | Loss: 0.5459\n",
            "F1-Score: 0.4794\n",
            "Epoch 00007 | Loss: 0.5416\n",
            "Epoch 00008 | Loss: 0.5381\n",
            "Epoch 00009 | Loss: 0.5351\n",
            "Epoch 00010 | Loss: 0.5327\n",
            "Epoch 00011 | Loss: 0.5298\n",
            "F1-Score: 0.5245\n",
            "Epoch 00012 | Loss: 0.5269\n",
            "Epoch 00013 | Loss: 0.5243\n",
            "Epoch 00014 | Loss: 0.5219\n",
            "Epoch 00015 | Loss: 0.5195\n",
            "Epoch 00016 | Loss: 0.5170\n",
            "F1-Score: 0.5149\n",
            "Epoch 00017 | Loss: 0.5147\n",
            "Epoch 00018 | Loss: 0.5124\n",
            "Epoch 00019 | Loss: 0.5102\n",
            "Epoch 00020 | Loss: 0.5080\n",
            "Epoch 00021 | Loss: 0.5058\n",
            "F1-Score: 0.5335\n",
            "Epoch 00022 | Loss: 0.5037\n",
            "Epoch 00023 | Loss: 0.5016\n",
            "Epoch 00024 | Loss: 0.4996\n",
            "Epoch 00025 | Loss: 0.4975\n",
            "Epoch 00026 | Loss: 0.4955\n",
            "F1-Score: 0.5456\n",
            "Epoch 00027 | Loss: 0.4936\n",
            "Epoch 00028 | Loss: 0.4917\n",
            "Epoch 00029 | Loss: 0.4899\n",
            "Epoch 00030 | Loss: 0.4881\n",
            "Epoch 00031 | Loss: 0.4864\n",
            "F1-Score: 0.5557\n",
            "Epoch 00032 | Loss: 0.4847\n",
            "Epoch 00033 | Loss: 0.4832\n",
            "Epoch 00034 | Loss: 0.4815\n",
            "Epoch 00035 | Loss: 0.4801\n",
            "Epoch 00036 | Loss: 0.4784\n",
            "F1-Score: 0.5715\n",
            "Epoch 00037 | Loss: 0.4773\n",
            "Epoch 00038 | Loss: 0.4759\n",
            "Epoch 00039 | Loss: 0.4751\n",
            "Epoch 00040 | Loss: 0.4738\n",
            "Epoch 00041 | Loss: 0.4734\n",
            "F1-Score: 0.5718\n",
            "Epoch 00042 | Loss: 0.4729\n",
            "Epoch 00043 | Loss: 0.4724\n",
            "Epoch 00044 | Loss: 0.4712\n",
            "Epoch 00045 | Loss: 0.4696\n",
            "Epoch 00046 | Loss: 0.4682\n",
            "F1-Score: 0.5593\n",
            "Epoch 00047 | Loss: 0.4662\n",
            "Epoch 00048 | Loss: 0.4652\n",
            "Epoch 00049 | Loss: 0.4645\n",
            "Epoch 00050 | Loss: 0.4633\n",
            "Epoch 00051 | Loss: 0.4626\n",
            "F1-Score: 0.5568\n",
            "Epoch 00052 | Loss: 0.4617\n",
            "Epoch 00053 | Loss: 0.4603\n",
            "Epoch 00054 | Loss: 0.4598\n",
            "Epoch 00055 | Loss: 0.4587\n",
            "Epoch 00056 | Loss: 0.4583\n",
            "F1-Score: 0.5360\n",
            "Epoch 00057 | Loss: 0.4579\n",
            "Epoch 00058 | Loss: 0.4580\n",
            "Epoch 00059 | Loss: 0.4596\n",
            "Epoch 00060 | Loss: 0.4590\n",
            "Epoch 00061 | Loss: 0.4580\n",
            "F1-Score: 0.5984\n",
            "Epoch 00062 | Loss: 0.4558\n",
            "Epoch 00063 | Loss: 0.4559\n",
            "Epoch 00064 | Loss: 0.4532\n",
            "Epoch 00065 | Loss: 0.4513\n",
            "Epoch 00066 | Loss: 0.4501\n",
            "F1-Score: 0.5894\n",
            "Epoch 00067 | Loss: 0.4485\n",
            "Epoch 00068 | Loss: 0.4474\n",
            "Epoch 00069 | Loss: 0.4460\n",
            "Epoch 00070 | Loss: 0.4448\n",
            "Epoch 00071 | Loss: 0.4443\n",
            "F1-Score: 0.5927\n",
            "Epoch 00072 | Loss: 0.4435\n",
            "Epoch 00073 | Loss: 0.4423\n",
            "Epoch 00074 | Loss: 0.4412\n",
            "Epoch 00075 | Loss: 0.4409\n",
            "Epoch 00076 | Loss: 0.4407\n",
            "F1-Score: 0.5989\n",
            "Epoch 00077 | Loss: 0.4400\n",
            "Epoch 00078 | Loss: 0.4385\n",
            "Epoch 00079 | Loss: 0.4384\n",
            "Epoch 00080 | Loss: 0.4382\n",
            "Epoch 00081 | Loss: 0.4375\n",
            "F1-Score: 0.5980\n",
            "Epoch 00082 | Loss: 0.4367\n",
            "Epoch 00083 | Loss: 0.4362\n",
            "Epoch 00084 | Loss: 0.4355\n",
            "Epoch 00085 | Loss: 0.4355\n",
            "Epoch 00086 | Loss: 0.4351\n",
            "F1-Score: 0.5959\n",
            "Epoch 00087 | Loss: 0.4349\n",
            "Epoch 00088 | Loss: 0.4353\n",
            "Epoch 00089 | Loss: 0.4343\n",
            "Epoch 00090 | Loss: 0.4327\n",
            "Epoch 00091 | Loss: 0.4328\n",
            "F1-Score: 0.6114\n",
            "Epoch 00092 | Loss: 0.4334\n",
            "Epoch 00093 | Loss: 0.4333\n",
            "Epoch 00094 | Loss: 0.4332\n",
            "Epoch 00095 | Loss: 0.4321\n",
            "Epoch 00096 | Loss: 0.4319\n",
            "F1-Score: 0.5912\n",
            "Epoch 00097 | Loss: 0.4318\n",
            "Epoch 00098 | Loss: 0.4323\n",
            "Epoch 00099 | Loss: 0.4321\n",
            "Epoch 00100 | Loss: 0.4319\n",
            "Epoch 00101 | Loss: 0.4322\n",
            "F1-Score: 0.6179\n",
            "Epoch 00102 | Loss: 0.4307\n",
            "Epoch 00103 | Loss: 0.4319\n",
            "Epoch 00104 | Loss: 0.4299\n",
            "Epoch 00105 | Loss: 0.4268\n",
            "Epoch 00106 | Loss: 0.4261\n",
            "F1-Score: 0.6072\n",
            "Epoch 00107 | Loss: 0.4254\n",
            "Epoch 00108 | Loss: 0.4244\n",
            "Epoch 00109 | Loss: 0.4243\n",
            "Epoch 00110 | Loss: 0.4249\n",
            "Epoch 00111 | Loss: 0.4248\n",
            "F1-Score: 0.6099\n",
            "Epoch 00112 | Loss: 0.4239\n",
            "Epoch 00113 | Loss: 0.4225\n",
            "Epoch 00114 | Loss: 0.4222\n",
            "Epoch 00115 | Loss: 0.4242\n",
            "Epoch 00116 | Loss: 0.4240\n",
            "F1-Score: 0.5993\n",
            "Epoch 00117 | Loss: 0.4230\n",
            "Epoch 00118 | Loss: 0.4222\n",
            "Epoch 00119 | Loss: 0.4232\n",
            "Epoch 00120 | Loss: 0.4196\n",
            "Epoch 00121 | Loss: 0.4183\n",
            "F1-Score: 0.6182\n",
            "Epoch 00122 | Loss: 0.4174\n",
            "Epoch 00123 | Loss: 0.4160\n",
            "Epoch 00124 | Loss: 0.4153\n",
            "Epoch 00125 | Loss: 0.4161\n",
            "Epoch 00126 | Loss: 0.4163\n",
            "F1-Score: 0.6173\n",
            "Epoch 00127 | Loss: 0.4153\n",
            "Epoch 00128 | Loss: 0.4144\n",
            "Epoch 00129 | Loss: 0.4142\n",
            "Epoch 00130 | Loss: 0.4133\n",
            "Epoch 00131 | Loss: 0.4135\n",
            "F1-Score: 0.6308\n",
            "Epoch 00132 | Loss: 0.4138\n",
            "Epoch 00133 | Loss: 0.4139\n",
            "Epoch 00134 | Loss: 0.4131\n",
            "Epoch 00135 | Loss: 0.4136\n",
            "Epoch 00136 | Loss: 0.4128\n",
            "F1-Score: 0.6154\n",
            "Epoch 00137 | Loss: 0.4155\n",
            "Epoch 00138 | Loss: 0.4155\n",
            "Epoch 00139 | Loss: 0.4147\n",
            "Epoch 00140 | Loss: 0.4145\n",
            "Epoch 00141 | Loss: 0.4134\n",
            "F1-Score: 0.6335\n",
            "Epoch 00142 | Loss: 0.4118\n",
            "Epoch 00143 | Loss: 0.4139\n",
            "Epoch 00144 | Loss: 0.4115\n",
            "Epoch 00145 | Loss: 0.4105\n",
            "Epoch 00146 | Loss: 0.4107\n",
            "F1-Score: 0.6167\n",
            "Epoch 00147 | Loss: 0.4111\n",
            "Epoch 00148 | Loss: 0.4114\n",
            "Epoch 00149 | Loss: 0.4123\n",
            "Epoch 00150 | Loss: 0.4146\n",
            "Epoch 00151 | Loss: 0.4176\n",
            "F1-Score: 0.6462\n",
            "Epoch 00152 | Loss: 0.4177\n",
            "Epoch 00153 | Loss: 0.4197\n",
            "Epoch 00154 | Loss: 0.4197\n",
            "Epoch 00155 | Loss: 0.4155\n",
            "Epoch 00156 | Loss: 0.4131\n",
            "F1-Score: 0.6483\n",
            "Epoch 00157 | Loss: 0.4119\n",
            "Epoch 00158 | Loss: 0.4113\n",
            "Epoch 00159 | Loss: 0.4093\n",
            "Epoch 00160 | Loss: 0.4093\n",
            "Epoch 00161 | Loss: 0.4098\n",
            "F1-Score: 0.6530\n",
            "Epoch 00162 | Loss: 0.4102\n",
            "Epoch 00163 | Loss: 0.4104\n",
            "Epoch 00164 | Loss: 0.4144\n",
            "Epoch 00165 | Loss: 0.4171\n",
            "Epoch 00166 | Loss: 0.4235\n",
            "F1-Score: 0.6274\n",
            "Epoch 00167 | Loss: 0.4290\n",
            "Epoch 00168 | Loss: 0.4285\n",
            "Epoch 00169 | Loss: 0.4246\n",
            "Epoch 00170 | Loss: 0.4215\n",
            "Epoch 00171 | Loss: 0.4186\n",
            "F1-Score: 0.6306\n",
            "Epoch 00172 | Loss: 0.4196\n",
            "Epoch 00173 | Loss: 0.4162\n",
            "Epoch 00174 | Loss: 0.4142\n",
            "Epoch 00175 | Loss: 0.4130\n",
            "Epoch 00176 | Loss: 0.4146\n",
            "F1-Score: 0.6134\n",
            "Epoch 00177 | Loss: 0.4151\n",
            "Epoch 00178 | Loss: 0.4126\n",
            "Epoch 00179 | Loss: 0.4120\n",
            "Epoch 00180 | Loss: 0.4092\n",
            "Epoch 00181 | Loss: 0.4076\n",
            "F1-Score: 0.6483\n",
            "Epoch 00182 | Loss: 0.4079\n",
            "Epoch 00183 | Loss: 0.4094\n",
            "Epoch 00184 | Loss: 0.4073\n",
            "Epoch 00185 | Loss: 0.4081\n",
            "Epoch 00186 | Loss: 0.4087\n",
            "F1-Score: 0.6455\n",
            "Epoch 00187 | Loss: 0.4085\n",
            "Epoch 00188 | Loss: 0.4097\n",
            "Epoch 00189 | Loss: 0.4085\n",
            "Epoch 00190 | Loss: 0.4082\n",
            "Epoch 00191 | Loss: 0.4075\n",
            "F1-Score: 0.6445\n",
            "Epoch 00192 | Loss: 0.4051\n",
            "Epoch 00193 | Loss: 0.4031\n",
            "Epoch 00194 | Loss: 0.4010\n",
            "Epoch 00195 | Loss: 0.4028\n",
            "Epoch 00196 | Loss: 0.4019\n",
            "F1-Score: 0.6185\n",
            "Epoch 00197 | Loss: 0.4012\n",
            "Epoch 00198 | Loss: 0.4023\n",
            "Epoch 00199 | Loss: 0.4036\n",
            "Epoch 00200 | Loss: 0.4032\n"
          ]
        }
      ],
      "source": [
        "### DEVICE GPU OR CPU : will select GPU if available\n",
        "device = torch.device('cuda' if torch.cuda.is_available() else 'cpu')\n",
        "print(\"\\nDevice: \", device)\n",
        "\n",
        "### Max number of epochs\n",
        "max_epochs = 200\n",
        "\n",
        "### DEFINE THE MODEL\n",
        "basic_model = BasicGraphModel(  input_size = n_features, \n",
        "                                hidden_size = 256, \n",
        "                                output_size = n_classes).to(device)\n",
        "\n",
        "### DEFINE LOSS FUNCTION\n",
        "loss_fcn = nn.BCEWithLogitsLoss()\n",
        "\n",
        "### DEFINE OPTIMIZER\n",
        "optimizer = torch.optim.Adam(basic_model.parameters(), lr=0.005)\n",
        "\n",
        "### TRAIN THE MODEL\n",
        "epoch_list, basic_model_scores = train(basic_model, loss_fcn, device, optimizer, max_epochs, train_dataloader, val_dataloader)"
      ]
    },
    {
      "cell_type": "markdown",
      "metadata": {
        "id": "2sGc5g7Xmap2"
      },
      "source": [
        "Let's evaluate the performance of this basic model"
      ]
    },
    {
      "cell_type": "code",
      "execution_count": 8,
      "metadata": {
        "colab": {
          "base_uri": "https://localhost:8080/",
          "height": 354
        },
        "id": "ztfbbg2TNP7F",
        "outputId": "cd68721e-7d87-40bc-9f5b-cb0a97170eea"
      },
      "outputs": [
        {
          "output_type": "stream",
          "name": "stdout",
          "text": [
            "Basic Model : F1-Score on the test set: 0.6618\n"
          ]
        },
        {
          "output_type": "display_data",
          "data": {
            "text/plain": [
              "<Figure size 720x360 with 1 Axes>"
            ],
            "image/png": "[encoded data removed]"
          },
          "metadata": {
            "needs_background": "light"
          }
        }
      ],
      "source": [
        "### F1-SCORE ON TEST DATASET\n",
        "score_test = evaluate(basic_model, loss_fcn, device, test_dataloader)\n",
        "print(\"Basic Model : F1-Score on the test set: {:.4f}\".format(score_test))\n",
        "\n",
        "### PLOT EVOLUTION OF F1-SCORE W.R.T EPOCHS\n",
        "def plot_f1_score(epoch_list, scores) :\n",
        "    plt.figure(figsize=[10,5])\n",
        "    plt.plot(epoch_list, scores)\n",
        "    plt.title(\"Evolution of F1S-Score w.r.t epochs\")\n",
        "    plt.ylim([0.0, 1.0])\n",
        "    plt.show()\n",
        "    \n",
        "plot_f1_score(epoch_list, basic_model_scores)"
      ]
    },
    {
      "cell_type": "markdown",
      "metadata": {
        "id": "TRVsy5vLnWm_"
      },
      "source": [
        "### Define a better model\n",
        "\n",
        "Now, it's your turn to improve this basic model ! To do so, complete whenever ###### YOUR ANSWER ######## and run the two following cells.\n",
        "\n",
        "**HINT :** https://arxiv.org/pdf/1710.10903.pdf"
      ]
    },
    {
      "cell_type": "code",
      "execution_count": 9,
      "metadata": {
        "id": "qTo7PxFpRHzL"
      },
      "outputs": [],
      "source": [
        "from torch_geometric.nn import GATv2Conv\n",
        "class StudentModel(nn.Module):\n",
        "\n",
        "\n",
        "  def __init__(self, input_size, hidden_size, output_size):\n",
        "      super().__init__()\n",
        "\n",
        "      self.graphconv1 = GATv2Conv(input_size, hidden_size, heads=7)\n",
        "      self.graphconv2 = GATv2Conv(hidden_size*7, hidden_size, heads=7)\n",
        "      self.graphconv3 = GATv2Conv(hidden_size*7, output_size, heads=7, concat = False)\n",
        "      self.elu = nn.ELU()\n",
        "\n",
        "  def forward(self, x, edge_index):\n",
        "    x = self.graphconv1(x, edge_index)\n",
        "    x = self.elu(x)\n",
        "    x = self.graphconv2(x, edge_index)\n",
        "    x = self.elu(x)\n",
        "    x = self.graphconv3(x, edge_index)\n",
        "    return x"
      ]
    },
    {
      "cell_type": "markdown",
      "metadata": {
        "id": "4yGdQ2uxpCAX"
      },
      "source": [
        "Let's train your model !"
      ]
    },
    {
      "cell_type": "code",
      "execution_count": 12,
      "metadata": {
        "id": "6XIYzkYRo3AQ",
        "colab": {
          "base_uri": "https://localhost:8080/"
        },
        "outputId": "0d09b11b-43d6-484f-b40c-47b0312e8153"
      },
      "outputs": [
        {
          "output_type": "stream",
          "name": "stdout",
          "text": [
            "\n",
            "Device:  cuda\n",
            "Epoch 00001 | Loss: 1.3357\n",
            "F1-Score: 0.4264\n",
            "Epoch 00002 | Loss: 0.6094\n",
            "Epoch 00003 | Loss: 0.5862\n",
            "Epoch 00004 | Loss: 0.5851\n",
            "Epoch 00005 | Loss: 0.5552\n",
            "Epoch 00006 | Loss: 0.5450\n",
            "F1-Score: 0.4315\n",
            "Epoch 00007 | Loss: 0.5349\n",
            "Epoch 00008 | Loss: 0.5270\n",
            "Epoch 00009 | Loss: 0.5190\n",
            "Epoch 00010 | Loss: 0.5132\n",
            "Epoch 00011 | Loss: 0.5064\n",
            "F1-Score: 0.5401\n",
            "Epoch 00012 | Loss: 0.5114\n",
            "Epoch 00013 | Loss: 0.4999\n",
            "Epoch 00014 | Loss: 0.4918\n",
            "Epoch 00015 | Loss: 0.4816\n",
            "Epoch 00016 | Loss: 0.4734\n",
            "F1-Score: 0.5668\n",
            "Epoch 00017 | Loss: 0.4635\n",
            "Epoch 00018 | Loss: 0.4553\n",
            "Epoch 00019 | Loss: 0.4493\n",
            "Epoch 00020 | Loss: 0.4485\n",
            "Epoch 00021 | Loss: 0.4306\n",
            "F1-Score: 0.6240\n",
            "Epoch 00022 | Loss: 0.4129\n",
            "Epoch 00023 | Loss: 0.4021\n",
            "Epoch 00024 | Loss: 0.3947\n",
            "Epoch 00025 | Loss: 0.3910\n",
            "Epoch 00026 | Loss: 0.3816\n",
            "F1-Score: 0.6770\n",
            "Epoch 00027 | Loss: 0.3636\n",
            "Epoch 00028 | Loss: 0.3489\n",
            "Epoch 00029 | Loss: 0.3363\n",
            "Epoch 00030 | Loss: 0.3254\n",
            "Epoch 00031 | Loss: 0.3621\n",
            "F1-Score: 0.6652\n",
            "Epoch 00032 | Loss: 0.3628\n",
            "Epoch 00033 | Loss: 0.3306\n",
            "Epoch 00034 | Loss: 0.3051\n",
            "Epoch 00035 | Loss: 0.2854\n",
            "Epoch 00036 | Loss: 0.2694\n",
            "F1-Score: 0.7823\n",
            "Epoch 00037 | Loss: 0.2601\n",
            "Epoch 00038 | Loss: 0.2513\n",
            "Epoch 00039 | Loss: 0.2474\n",
            "Epoch 00040 | Loss: 0.2416\n",
            "Epoch 00041 | Loss: 0.2385\n",
            "F1-Score: 0.8172\n",
            "Epoch 00042 | Loss: 0.2249\n",
            "Epoch 00043 | Loss: 0.2116\n",
            "Epoch 00044 | Loss: 0.2020\n",
            "Epoch 00045 | Loss: 0.1957\n",
            "Epoch 00046 | Loss: 0.1837\n",
            "F1-Score: 0.8637\n",
            "Epoch 00047 | Loss: 0.1768\n",
            "Epoch 00048 | Loss: 0.1709\n",
            "Epoch 00049 | Loss: 0.1688\n",
            "Epoch 00050 | Loss: 0.1620\n",
            "Epoch 00051 | Loss: 0.1559\n",
            "F1-Score: 0.8862\n",
            "Epoch 00052 | Loss: 0.1473\n",
            "Epoch 00053 | Loss: 0.1381\n",
            "Epoch 00054 | Loss: 0.1292\n",
            "Epoch 00055 | Loss: 0.1229\n",
            "Epoch 00056 | Loss: 0.1234\n",
            "F1-Score: 0.8927\n",
            "Epoch 00057 | Loss: 0.1698\n",
            "Epoch 00058 | Loss: 0.1699\n",
            "Epoch 00059 | Loss: 0.1430\n",
            "Epoch 00060 | Loss: 0.1220\n",
            "Epoch 00061 | Loss: 0.1056\n",
            "F1-Score: 0.9243\n",
            "Epoch 00062 | Loss: 0.0937\n",
            "Epoch 00063 | Loss: 0.0850\n",
            "Epoch 00064 | Loss: 0.0786\n",
            "Epoch 00065 | Loss: 0.0744\n",
            "Epoch 00066 | Loss: 0.0712\n",
            "F1-Score: 0.9419\n",
            "Epoch 00067 | Loss: 0.0695\n",
            "Epoch 00068 | Loss: 0.0693\n",
            "Epoch 00069 | Loss: 0.0689\n",
            "Epoch 00070 | Loss: 0.0673\n",
            "Epoch 00071 | Loss: 0.0672\n",
            "F1-Score: 0.9454\n",
            "Epoch 00072 | Loss: 0.0656\n",
            "Epoch 00073 | Loss: 0.0652\n",
            "Epoch 00074 | Loss: 0.0631\n",
            "Epoch 00075 | Loss: 0.0622\n",
            "Epoch 00076 | Loss: 0.0587\n",
            "F1-Score: 0.9503\n",
            "Epoch 00077 | Loss: 0.0559\n",
            "Epoch 00078 | Loss: 0.0541\n",
            "Epoch 00079 | Loss: 0.0519\n",
            "Epoch 00080 | Loss: 0.0538\n",
            "Epoch 00081 | Loss: 0.0544\n",
            "F1-Score: 0.9527\n",
            "Epoch 00082 | Loss: 0.0559\n",
            "Epoch 00083 | Loss: 0.0562\n",
            "Epoch 00084 | Loss: 0.0576\n",
            "Epoch 00085 | Loss: 0.0571\n",
            "Epoch 00086 | Loss: 0.0573\n",
            "F1-Score: 0.9524\n",
            "Epoch 00087 | Loss: 0.0580\n",
            "Epoch 00088 | Loss: 0.0584\n",
            "Epoch 00089 | Loss: 0.0562\n",
            "Epoch 00090 | Loss: 0.0552\n",
            "Epoch 00091 | Loss: 0.0525\n",
            "F1-Score: 0.9544\n",
            "Epoch 00092 | Loss: 0.0490\n",
            "Epoch 00093 | Loss: 0.0457\n",
            "Epoch 00094 | Loss: 0.0417\n",
            "Epoch 00095 | Loss: 0.0369\n",
            "Epoch 00096 | Loss: 0.0340\n",
            "F1-Score: 0.9644\n",
            "Epoch 00097 | Loss: 0.0312\n",
            "Epoch 00098 | Loss: 0.0291\n",
            "Epoch 00099 | Loss: 0.0273\n",
            "Epoch 00100 | Loss: 0.0259\n",
            "Epoch 00101 | Loss: 0.0238\n",
            "F1-Score: 0.9697\n",
            "Epoch 00102 | Loss: 0.0225\n",
            "Epoch 00103 | Loss: 0.0221\n",
            "Epoch 00104 | Loss: 0.0220\n",
            "Epoch 00105 | Loss: 0.0214\n",
            "Epoch 00106 | Loss: 0.0210\n",
            "F1-Score: 0.9702\n",
            "Epoch 00107 | Loss: 0.0204\n",
            "Epoch 00108 | Loss: 0.0193\n",
            "Epoch 00109 | Loss: 0.0185\n",
            "Epoch 00110 | Loss: 0.0171\n",
            "Epoch 00111 | Loss: 0.0164\n",
            "F1-Score: 0.9737\n",
            "Epoch 00112 | Loss: 0.0163\n",
            "Epoch 00113 | Loss: 0.0153\n",
            "Epoch 00114 | Loss: 0.0157\n",
            "Epoch 00115 | Loss: 0.0163\n",
            "Epoch 00116 | Loss: 0.0170\n",
            "F1-Score: 0.9710\n",
            "Epoch 00117 | Loss: 0.0180\n",
            "Epoch 00118 | Loss: 0.0177\n",
            "Epoch 00119 | Loss: 0.0177\n",
            "Epoch 00120 | Loss: 0.0187\n",
            "Epoch 00121 | Loss: 0.0191\n",
            "F1-Score: 0.9707\n",
            "Epoch 00122 | Loss: 0.0203\n",
            "Epoch 00123 | Loss: 0.0213\n",
            "Epoch 00124 | Loss: 0.0230\n",
            "Epoch 00125 | Loss: 0.0239\n",
            "Epoch 00126 | Loss: 0.0255\n",
            "F1-Score: 0.9676\n",
            "Epoch 00127 | Loss: 0.0282\n",
            "Epoch 00128 | Loss: 0.0313\n",
            "Epoch 00129 | Loss: 0.0354\n",
            "Epoch 00130 | Loss: 0.0399\n",
            "Epoch 00131 | Loss: 0.0432\n",
            "F1-Score: 0.9604\n",
            "Epoch 00132 | Loss: 0.0869\n",
            "Epoch 00133 | Loss: 0.3987\n",
            "Epoch 00134 | Loss: 0.3186\n",
            "Epoch 00135 | Loss: 0.2075\n",
            "Epoch 00136 | Loss: 0.1355\n",
            "F1-Score: 0.9158\n",
            "Epoch 00137 | Loss: 0.0914\n",
            "Epoch 00138 | Loss: 0.0663\n",
            "Epoch 00139 | Loss: 0.0508\n",
            "Epoch 00140 | Loss: 0.0411\n",
            "Epoch 00141 | Loss: 0.0341\n",
            "F1-Score: 0.9652\n",
            "Epoch 00142 | Loss: 0.0295\n",
            "Epoch 00143 | Loss: 0.0268\n",
            "Epoch 00144 | Loss: 0.0265\n",
            "Epoch 00145 | Loss: 0.0241\n",
            "Epoch 00146 | Loss: 0.0239\n",
            "F1-Score: 0.9683\n",
            "Epoch 00147 | Loss: 0.0221\n",
            "Epoch 00148 | Loss: 0.0213\n",
            "Epoch 00149 | Loss: 0.0213\n",
            "Epoch 00150 | Loss: 0.0217\n",
            "Epoch 00151 | Loss: 0.0203\n",
            "F1-Score: 0.9718\n",
            "Epoch 00152 | Loss: 0.0181\n",
            "Epoch 00153 | Loss: 0.0159\n",
            "Epoch 00154 | Loss: 0.0144\n",
            "Epoch 00155 | Loss: 0.0133\n",
            "Epoch 00156 | Loss: 0.0124\n",
            "F1-Score: 0.9763\n",
            "Epoch 00157 | Loss: 0.0124\n",
            "Epoch 00158 | Loss: 0.0109\n",
            "Epoch 00159 | Loss: 0.0103\n",
            "Epoch 00160 | Loss: 0.0097\n",
            "Epoch 00161 | Loss: 0.0097\n",
            "F1-Score: 0.9774\n",
            "Epoch 00162 | Loss: 0.0088\n",
            "Epoch 00163 | Loss: 0.0085\n",
            "Epoch 00164 | Loss: 0.0085\n",
            "Epoch 00165 | Loss: 0.0083\n",
            "Epoch 00166 | Loss: 0.0077\n",
            "F1-Score: 0.9783\n",
            "Epoch 00167 | Loss: 0.0077\n",
            "Epoch 00168 | Loss: 0.0072\n",
            "Epoch 00169 | Loss: 0.0070\n",
            "Epoch 00170 | Loss: 0.0067\n",
            "Epoch 00171 | Loss: 0.0063\n",
            "F1-Score: 0.9787\n",
            "Epoch 00172 | Loss: 0.0061\n",
            "Epoch 00173 | Loss: 0.0058\n",
            "Epoch 00174 | Loss: 0.0062\n",
            "Epoch 00175 | Loss: 0.0063\n",
            "Epoch 00176 | Loss: 0.0063\n",
            "F1-Score: 0.9788\n",
            "Epoch 00177 | Loss: 0.0056\n",
            "Epoch 00178 | Loss: 0.0054\n",
            "Epoch 00179 | Loss: 0.0055\n",
            "Epoch 00180 | Loss: 0.0056\n",
            "Epoch 00181 | Loss: 0.0056\n",
            "F1-Score: 0.9785\n",
            "Epoch 00182 | Loss: 0.0054\n",
            "Epoch 00183 | Loss: 0.0050\n",
            "Epoch 00184 | Loss: 0.0054\n",
            "Epoch 00185 | Loss: 0.0053\n",
            "Epoch 00186 | Loss: 0.0054\n",
            "F1-Score: 0.9781\n",
            "Epoch 00187 | Loss: 0.0053\n",
            "Epoch 00188 | Loss: 0.0054\n",
            "Epoch 00189 | Loss: 0.0054\n",
            "Epoch 00190 | Loss: 0.0061\n",
            "Epoch 00191 | Loss: 0.0069\n",
            "F1-Score: 0.9777\n",
            "Epoch 00192 | Loss: 0.0084\n",
            "Epoch 00193 | Loss: 0.0097\n",
            "Epoch 00194 | Loss: 0.0208\n",
            "Epoch 00195 | Loss: 0.0421\n",
            "Epoch 00196 | Loss: 0.0601\n",
            "F1-Score: 0.9487\n",
            "Epoch 00197 | Loss: 0.0784\n",
            "Epoch 00198 | Loss: 0.0716\n",
            "Epoch 00199 | Loss: 0.0593\n",
            "Epoch 00200 | Loss: 0.0503\n"
          ]
        }
      ],
      "source": [
        "### DEVICE GPU OR CPU : will select GPU if available\n",
        "device = torch.device('cuda' if torch.cuda.is_available() else 'cpu')\n",
        "print(\"\\nDevice: \", device)\n",
        "\n",
        "### Max number of epochs\n",
        "max_epochs = 200\n",
        "## Student model\n",
        "student_model = StudentModel(input_size = n_features, hidden_size = 256, output_size = n_classes).to(device)\n",
        "\n",
        "### DEFINE LOSS FUNCTION AND OPTIMIZER\n",
        "optimizer = torch.optim.Adam(student_model.parameters(), lr=0.006)\n",
        "loss_fcn = nn.BCEWithLogitsLoss()\n",
        "### TRAIN\n",
        "epoch_list, student_model_scores = train(student_model, loss_fcn, device, optimizer, max_epochs, train_dataloader, val_dataloader)"
      ]
    },
    {
      "cell_type": "markdown",
      "metadata": {
        "id": "aWatNTPBpQGY"
      },
      "source": [
        "Let's evaluate the performance of your model"
      ]
    },
    {
      "cell_type": "code",
      "execution_count": 13,
      "metadata": {
        "id": "WFWMqwDuSj7b",
        "colab": {
          "base_uri": "https://localhost:8080/",
          "height": 368
        },
        "outputId": "f7cac548-4114-4fba-a59d-fa1efe1436ff"
      },
      "outputs": [
        {
          "output_type": "stream",
          "name": "stdout",
          "text": [
            "Student Model : F1-Score on the test set: 0.9731\n"
          ]
        },
        {
          "output_type": "display_data",
          "data": {
            "text/plain": [
              "<Figure size 720x360 with 1 Axes>"
            ],
            "image/png": "[encoded data removed]"
          },
          "metadata": {
            "needs_background": "light"
          }
        }
      ],
      "source": [
        "score_test = evaluate(student_model, loss_fcn, device, test_dataloader)\n",
        "print(\"Student Model : F1-Score on the test set: {:.4f}\".format(score_test))\n",
        "\n",
        "def plot_f1_score(epoch_list, basic_model_scores, student_model_scores) :\n",
        "    plt.figure(figsize = [10,5])\n",
        "    plt.plot(epoch_list, basic_model_scores, 'b', label = \"Basic Model\")\n",
        "    plt.plot(epoch_list, student_model_scores, 'r', label = \"Student Model\")\n",
        "    plt.title(\"Evolution of f1 score w.r.t epochs\")\n",
        "    plt.ylim([0.0, 1.0])\n",
        "    plt.ylabel(\"Epochs\")\n",
        "    plt.xlabel(\"F1-Score\")\n",
        "    plt.legend()\n",
        "    plt.show()\n",
        "    \n",
        "plot_f1_score(epoch_list, basic_model_scores, student_model_scores)"
      ]
    },
    {
      "cell_type": "markdown",
      "metadata": {
        "id": "i9aVEYkuR3fp"
      },
      "source": [
        "## **PART 2 : QUESTIONS** (12/20)"
      ]
    },
    {
      "cell_type": "markdown",
      "metadata": {
        "id": "vZ-r6AWtR-Co"
      },
      "source": [
        "**1. Make a small paragraph that : (4pts)**\n",
        "1. Explains your achitecture and justify your choices (why the Graph Layer you chose is more efficient than the GCNLayer from the Basic Model?).\n",
        "2. Analyses your results (what is the F1-Score ? are your results convincing ? what is your position w.r.t state-of-the-art ?)."
      ]
    },
    {
      "cell_type": "markdown",
      "metadata": {
        "id": "4aiCvW4q5jRY"
      },
      "source": [
        "Ans 1.1> In the BasicGraphModel, the architecture is based on the Graph Convolutional Network (GCN) layer. GCN layer performs message passing by aggregating the features of each node with its neighboring nodes. It then applies a linear transformation and activation function to compute the hidden representation for each node. The process is repeated for multiple layers to learn more complex features of the graph.\n",
        "\n",
        "On the other hand, in StudentModel, the architecture is based on the Graph Attention Network (GAT) layer. GAT is an improvement over GCN that uses attention mechanism to aggregate the features of neighboring nodes. Instead of computing a fixed normalized weight for each neighboring node, it computes a dynamic weight that depends on the similarity between the central node and its neighbors. This allows the network to learn a different weight for each neighboring node, capturing more nuanced relationships between nodes.\n",
        "\n",
        "In terms of efficiency, GAT has been shown to outperform GCN on various benchmark datasets. The attention mechanism in GAT allows it to capture more fine-grained information about the graph structure, leading to improved performance. In addition, the use of multiple attention heads in StudentModel allows the network to learn multiple representations of the graph simultaneously, leading to even better performance.\n",
        "\n",
        "Overall, the choice of GAT over GCN in StudentModel is justified by its superior performance on benchmark datasets and its ability to capture more fine-grained information about the graph structure.\n",
        "\n",
        "<br>\n",
        "<br>\n",
        "<br>\n",
        "<br>\n",
        "\n",
        "\n",
        "\n",
        "A1.2> The graph shows that our architecture's F1-score of 0.9731 represents a substantial improvement over the Basic model.\n",
        "Since a high F1-score indicates that the model can correctly classify the samples, the findings are undeniably convincing.\n",
        "\n",
        "The F1-score for modern architecture at this time is 0.973. Our model performs equally to the standard.\n",
        "\n",
        "\n"
      ]
    },
    {
      "cell_type": "markdown",
      "metadata": {
        "id": "5HIVqG4u5jfc"
      },
      "source": [
        "**2. Provide a diagramm of your architecture, which includes a good and clear legend as well as shapes information. The diagramm must be submitted as an external file, along with this notebook (PDF, JEPG or PNG format accepted). (2pts)**"
      ]
    },
    {
      "cell_type": "markdown",
      "metadata": {
        "id": "crMHLjkJ5pxl"
      },
      "source": [
        "**3. Make a small paragraph that explains: (6pts)**\n",
        "1. **What _oversmoothing_ is in the context of Graph Neural Network. Why is it an issue ?** <p>\n",
        "Oversmoothing in Graph Neural Networks (GNNs) refers to the phenomenon where the node representations become too similar after several layers of message passing, leading to a loss of discriminative power and hindering the GNN's ability to distinguish between nodes with different characteristics. This issue arises due to the aggregation process in each GNN layer, which can lead to an averaging effect. Oversmoothing is a particular concern in semi-supervised learning settings and can limit the GNN's ability to learn a meaningful classifier. Several techniques have been proposed to address this issue, including skip connections, residual connections, and adaptive normalization techniques, to preserve the discriminative power of node representations over multiple layers of message passing.\n",
        "\n",
        "2. **Are there solutions to overcome it ?** <p>\n",
        "Yes, there are several techniques that have been proposed to address the issue of oversmoothing in Graph Neural Networks (GNNs). One approach is to use skip connections or residual connections, similar to those used in convolutional neural networks (CNNs), to allow information to bypass some of the layers and preserve the original input information. Another approach is to use adaptive normalization techniques, such as layer normalization or batch normalization, to ensure that the node representations remain diverse across multiple layers of message passing. Additionally, some recent research has focused on developing new architectures for GNNs, such as graph attention networks or graph convolutional networks with attention mechanisms, that can selectively attend to different parts of the graph and avoid oversmoothing. These techniques have shown promise in improving the performance of GNNs on tasks that require the ability to distinguish between nodes with different characteristics.\n",
        "\n",
        "3. **Do you think the model you constructed is robust with respect to oversmoothing ? Why ?** <p>\n",
        "The model we constructed, which is a simple Graph Convolutional Network (GCN) with two layers of graph convolutions, may be susceptible to oversmoothing if used on large graphs or if the number of layers is increased. However, it is not possible to definitively say whether the model is robust to oversmoothing without evaluating its performance on a specific task and dataset. To make the GCN more robust to oversmoothing, we can incorporate some of the techniques that have been proposed to address this issue, such as skip connections, residual connections, or adaptive normalization techniques. Additionally, we can experiment with different numbers of layers, learning rates, and other hyperparameters to optimize the performance of the GCN on the task at hand. Ultimately, the robustness of a GNN model with respect to oversmoothing will depend on many factors, including the size and complexity of the graph, the amount of labeled data available, and the specific task being addressed. Therefore, it is important to carefully evaluate the performance of any GNN model on the target task and dataset, and to experiment with different architectures and hyperparameters to optimize its performance. <p>"
      ]
    }
  ],
  "metadata": {
    "accelerator": "GPU",
    "colab": {
      "provenance": []
    },
    "gpuClass": "standard",
    "kernelspec": {
      "display_name": "Python 3",
      "language": "python",
      "name": "python3"
    },
    "language_info": {
      "codemirror_mode": {
        "name": "ipython",
        "version": 3
      },
      "file_extension": ".py",
      "mimetype": "text/x-python",
      "name": "python",
      "nbconvert_exporter": "python",
      "pygments_lexer": "ipython3",
      "version": "3.7.6"
    }
  },
  "nbformat": 4,
  "nbformat_minor": 0
}