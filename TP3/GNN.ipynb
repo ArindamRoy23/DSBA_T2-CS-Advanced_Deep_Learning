{
  "cells": [
    {
      "cell_type": "markdown",
      "metadata": {
        "id": "nlCNZsWlOSfP"
      },
      "source": [
        "# Practical Session on Graph Neural Networks\n",
        "\n",
        "**by Matthieu Nastorg**"
      ]
    },
    {
      "cell_type": "markdown",
      "metadata": {
        "id": "p0RMEfCaEehI"
      },
      "source": [
        "## **PART 1 : CODING** (8/20)"
      ]
    },
    {
      "cell_type": "markdown",
      "metadata": {
        "id": "v5Lp4PasOby4"
      },
      "source": [
        "### Install Pytorch Geometric\n",
        "\n",
        "To handle graph data, we use the library Pytorch Geometric : https://pytorch-geometric.readthedocs.io/en/latest/\n",
        "\n",
        "*   If you use _Google Colab_, simply run the following cell to install Pytorch Geometric (**advised**).\n",
        "*   If you plan using your _own environment_, follow the documentation to install Pytorch Geometric : https://pytorch-geometric.readthedocs.io/en/latest/install/installation.html and skip the following cell."
      ]
    },
    {
      "cell_type": "code",
      "execution_count": 1,
      "metadata": {
        "colab": {
          "base_uri": "https://localhost:8080/"
        },
        "id": "buW3eZmrj1N2",
        "outputId": "f274a218-c220-4227-ed98-136e88db5e1f"
      },
      "outputs": [
        {
          "output_type": "stream",
          "name": "stdout",
          "text": [
            "Looking in indexes: https://pypi.org/simple, https://us-python.pkg.dev/colab-wheels/public/simple/\n",
            "Looking in links: https://pytorch-geometric.com/whl/torch-1.13.1+cu116.html\n",
            "Requirement already satisfied: torch-scatter in /usr/local/lib/python3.9/dist-packages (2.1.0+pt113cu116)\n",
            "Looking in indexes: https://pypi.org/simple, https://us-python.pkg.dev/colab-wheels/public/simple/\n",
            "Looking in links: https://pytorch-geometric.com/whl/torch-1.13.1+cu116.html\n",
            "Requirement already satisfied: torch-sparse in /usr/local/lib/python3.9/dist-packages (0.6.16+pt113cu116)\n",
            "Requirement already satisfied: scipy in /usr/local/lib/python3.9/dist-packages (from torch-sparse) (1.10.1)\n",
            "Requirement already satisfied: numpy<1.27.0,>=1.19.5 in /usr/local/lib/python3.9/dist-packages (from scipy->torch-sparse) (1.22.4)\n",
            "Looking in indexes: https://pypi.org/simple, https://us-python.pkg.dev/colab-wheels/public/simple/\n",
            "Looking in links: https://pytorch-geometric.com/whl/torch-1.13.1+cu116.html\n",
            "Requirement already satisfied: torch-cluster in /usr/local/lib/python3.9/dist-packages (1.6.0+pt113cu116)\n",
            "Requirement already satisfied: scipy in /usr/local/lib/python3.9/dist-packages (from torch-cluster) (1.10.1)\n",
            "Requirement already satisfied: numpy<1.27.0,>=1.19.5 in /usr/local/lib/python3.9/dist-packages (from scipy->torch-cluster) (1.22.4)\n",
            "Looking in indexes: https://pypi.org/simple, https://us-python.pkg.dev/colab-wheels/public/simple/\n",
            "Looking in links: https://pytorch-geometric.com/whl/torch-1.13.1+cu116.html\n",
            "Requirement already satisfied: torch-spline-conv in /usr/local/lib/python3.9/dist-packages (1.2.1+pt113cu116)\n",
            "Looking in indexes: https://pypi.org/simple, https://us-python.pkg.dev/colab-wheels/public/simple/\n",
            "Requirement already satisfied: torch-geometric in /usr/local/lib/python3.9/dist-packages (2.2.0)\n",
            "Requirement already satisfied: scikit-learn in /usr/local/lib/python3.9/dist-packages (from torch-geometric) (1.2.1)\n",
            "Requirement already satisfied: requests in /usr/local/lib/python3.9/dist-packages (from torch-geometric) (2.25.1)\n",
            "Requirement already satisfied: psutil>=5.8.0 in /usr/local/lib/python3.9/dist-packages (from torch-geometric) (5.9.4)\n",
            "Requirement already satisfied: jinja2 in /usr/local/lib/python3.9/dist-packages (from torch-geometric) (3.1.2)\n",
            "Requirement already satisfied: pyparsing in /usr/local/lib/python3.9/dist-packages (from torch-geometric) (3.0.9)\n",
            "Requirement already satisfied: scipy in /usr/local/lib/python3.9/dist-packages (from torch-geometric) (1.10.1)\n",
            "Requirement already satisfied: tqdm in /usr/local/lib/python3.9/dist-packages (from torch-geometric) (4.65.0)\n",
            "Requirement already satisfied: numpy in /usr/local/lib/python3.9/dist-packages (from torch-geometric) (1.22.4)\n",
            "Requirement already satisfied: MarkupSafe>=2.0 in /usr/local/lib/python3.9/dist-packages (from jinja2->torch-geometric) (2.1.2)\n",
            "Requirement already satisfied: certifi>=2017.4.17 in /usr/local/lib/python3.9/dist-packages (from requests->torch-geometric) (2022.12.7)\n",
            "Requirement already satisfied: urllib3<1.27,>=1.21.1 in /usr/local/lib/python3.9/dist-packages (from requests->torch-geometric) (1.26.14)\n",
            "Requirement already satisfied: chardet<5,>=3.0.2 in /usr/local/lib/python3.9/dist-packages (from requests->torch-geometric) (4.0.0)\n",
            "Requirement already satisfied: idna<3,>=2.5 in /usr/local/lib/python3.9/dist-packages (from requests->torch-geometric) (2.10)\n",
            "Requirement already satisfied: threadpoolctl>=2.0.0 in /usr/local/lib/python3.9/dist-packages (from scikit-learn->torch-geometric) (3.1.0)\n",
            "Requirement already satisfied: joblib>=1.1.1 in /usr/local/lib/python3.9/dist-packages (from scikit-learn->torch-geometric) (1.2.0)\n"
          ]
        }
      ],
      "source": [
        "########## INSTALL TORCH GEOMETRIC ##################\n",
        "# https://pytorch-geometric.readthedocs.io/en/latest/ \n",
        "#####################################################\n",
        "import torch \n",
        "\n",
        "def format_pytorch_version(version):\n",
        "  return version.split('+')[0]\n",
        "\n",
        "TORCH_version = torch.__version__\n",
        "TORCH = format_pytorch_version(TORCH_version)\n",
        "\n",
        "def format_cuda_version(version):\n",
        "  return 'cu' + version.replace('.', '')\n",
        "\n",
        "CUDA_version = torch.version.cuda\n",
        "CUDA = format_cuda_version(CUDA_version)\n",
        "\n",
        "!pip install torch-scatter     -f https://pytorch-geometric.com/whl/torch-{TORCH}+{CUDA}.html\n",
        "!pip install torch-sparse      -f https://pytorch-geometric.com/whl/torch-{TORCH}+{CUDA}.html\n",
        "!pip install torch-cluster     -f https://pytorch-geometric.com/whl/torch-{TORCH}+{CUDA}.html\n",
        "!pip install torch-spline-conv -f https://pytorch-geometric.com/whl/torch-{TORCH}+{CUDA}.html\n",
        "!pip install torch-geometric"
      ]
    },
    {
      "cell_type": "markdown",
      "metadata": {
        "id": "04JPKXjDclTj"
      },
      "source": [
        "### Import required packages\n",
        "\n",
        "Run the following cell to import all required packages. This cell **must not** be modified.\n",
        "\n",
        "To significantly accelerate your training, it is advised to use GPU. Using Google Colab, you need to activate it : \n",
        "\n",
        "*   Edit --> Notebook Setting --> Hardware accelerator --> GPU"
      ]
    },
    {
      "cell_type": "code",
      "execution_count": 2,
      "metadata": {
        "id": "qXGDmBMYgA_x"
      },
      "outputs": [],
      "source": [
        "#####################################################\n",
        "################## PACKAGES #########################\n",
        "#####################################################\n",
        "import numpy as np\n",
        "import matplotlib.pyplot as plt\n",
        "\n",
        "import torch.nn as nn\n",
        "import torch_geometric.nn as graphnn\n",
        "from sklearn.metrics import f1_score\n",
        "from torch_geometric.datasets import PPI\n",
        "from torch_geometric.loader import DataLoader\n",
        "import torch.nn.functional as F"
      ]
    },
    {
      "cell_type": "markdown",
      "metadata": {
        "id": "3UvCNG8FgdS-"
      },
      "source": [
        "### Dataset\n",
        "\n",
        "We use the Protein-Protein Interaction (PPI) network dataset which includes:\n",
        "- 20 graphs for training \n",
        "- 2 graphs for validation\n",
        "- 2 graphs for testing\n",
        "\n",
        "One graph of the PPI dataset has on average 2372 nodes. Each node:\n",
        "- 50 features : positional gene sets / motif gene / immunological signatures ...\n",
        "- 121 (binary) labels : gene ontology sets (way to classify gene products like proteins).\n",
        "\n",
        "**This problem aims to predict, for a given PPI graph, the correct node's labels**.\n",
        "\n",
        "**It is a node (multi-level) classification task** (trained using supervised learning). \n",
        "\n",
        "For your curiosity, more details information on the dataset and some applications:\n",
        "- https://cs.stanford.edu/~jure/pubs/pathways-psb18.pdf\n",
        "- https://arxiv.org/abs/1707.04638\n",
        "\n",
        "To understand how a graph data is implemented in Pytorch Geometric, refer to : https://pytorch-geometric.readthedocs.io/en/latest/get_started/introduction.html\n"
      ]
    },
    {
      "cell_type": "code",
      "execution_count": 3,
      "metadata": {
        "colab": {
          "base_uri": "https://localhost:8080/"
        },
        "id": "IwdNhvzVNkZB",
        "outputId": "eb35d32c-37ac-4fbb-ee94-dae8466ae613"
      },
      "outputs": [
        {
          "output_type": "stream",
          "name": "stdout",
          "text": [
            "Number of samples in the train dataset:  20\n",
            "Number of samples in the val dataset:  2\n",
            "Number of samples in the test dataset:  2\n",
            "Output of one sample from the train dataset:  Data(x=[1767, 50], edge_index=[2, 32318], y=[1767, 121])\n",
            "Edge_index :\n",
            "tensor([[   0,    0,    0,  ..., 1744, 1745, 1749],\n",
            "        [ 372, 1101,  766,  ..., 1745, 1744, 1739]])\n",
            "Number of features per node:  50\n",
            "Number of classes per node:  121\n"
          ]
        }
      ],
      "source": [
        "### LOAD DATASETS\n",
        "\n",
        "BATCH_SIZE = 2 \n",
        "\n",
        "# Train Dataset\n",
        "train_dataset = PPI(root=\"\", split='train')\n",
        "train_dataloader = DataLoader(train_dataset, batch_size=BATCH_SIZE)\n",
        "# Val Dataset\n",
        "val_dataset = PPI(root=\"\", split='val')\n",
        "val_dataloader = DataLoader(val_dataset, batch_size=BATCH_SIZE)\n",
        "# Test Dataset\n",
        "test_dataset = PPI(root=\"\", split='test')\n",
        "test_dataloader = DataLoader(test_dataset, batch_size=BATCH_SIZE)\n",
        "\n",
        "# Number of features and classes\n",
        "n_features, n_classes = train_dataset[0].x.shape[1], train_dataset[0].y.shape[1]\n",
        "\n",
        "print(\"Number of samples in the train dataset: \", len(train_dataset))\n",
        "print(\"Number of samples in the val dataset: \", len(test_dataset))\n",
        "print(\"Number of samples in the test dataset: \", len(test_dataset))\n",
        "print(\"Output of one sample from the train dataset: \", train_dataset[0])\n",
        "print(\"Edge_index :\")\n",
        "print(train_dataset[0].edge_index)\n",
        "print(\"Number of features per node: \", n_features)\n",
        "print(\"Number of classes per node: \", n_classes)"
      ]
    },
    {
      "cell_type": "markdown",
      "metadata": {
        "id": "hiCcn9qeO6Nm"
      },
      "source": [
        "### Define a basic Model"
      ]
    },
    {
      "cell_type": "markdown",
      "metadata": {
        "id": "8RjzEiJ-eVot"
      },
      "source": [
        "Here we define a very simple Graph Neural Network model which will be used as our baseline. This model consists of three graph convolutional layers (from https://arxiv.org/pdf/1609.02907.pdf). The first two layers computes 256 features, followed by an ELU activation function. The last layer is used for (multi-level) classification task, computing 121 features."
      ]
    },
    {
      "cell_type": "code",
      "execution_count": 4,
      "metadata": {
        "id": "2Km-GN1aMpd_"
      },
      "outputs": [],
      "source": [
        "#####################################################\n",
        "################## MODEL ############################\n",
        "#####################################################\n",
        "class BasicGraphModel(nn.Module):\n",
        "\n",
        "    def __init__(self, input_size, hidden_size, output_size):\n",
        "        super().__init__()\n",
        "\n",
        "        self.graphconv1 = graphnn.GCNConv(input_size, hidden_size)\n",
        "        self.graphconv2 = graphnn.GCNConv(hidden_size, hidden_size)\n",
        "        self.graphconv3 = graphnn.GCNConv(hidden_size, output_size)\n",
        "\n",
        "        self.elu = nn.ELU()\n",
        "\n",
        "    def forward(self, x, edge_index):\n",
        "\n",
        "        x = self.graphconv1(x, edge_index)\n",
        "        x = self.elu(x)\n",
        "        x = self.graphconv2(x, edge_index)\n",
        "        x = self.elu(x)\n",
        "        x = self.graphconv3(x, edge_index)\n",
        "\n",
        "        return x\n"
      ]
    },
    {
      "cell_type": "markdown",
      "metadata": {
        "id": "6ekk0TrOktOB"
      },
      "source": [
        "Next we construct the function to train the model."
      ]
    },
    {
      "cell_type": "code",
      "execution_count": 5,
      "metadata": {
        "id": "m4lneoadMxqy"
      },
      "outputs": [],
      "source": [
        "#####################################################\n",
        "############## TRAIN FUNCTION #######################\n",
        "#####################################################\n",
        "def train(model, loss_fcn, device, optimizer, max_epochs, train_dataloader, val_dataloader):\n",
        "\n",
        "    epoch_list = []\n",
        "    scores_list = []\n",
        "\n",
        "    # loop over epochs\n",
        "    for epoch in range(max_epochs):\n",
        "        model.train()\n",
        "        losses = []\n",
        "        # loop over batches\n",
        "        for i, train_batch in enumerate(train_dataloader):\n",
        "            optimizer.zero_grad()\n",
        "            train_batch_device = train_batch.to(device)\n",
        "            # logits is the output of the model\n",
        "            logits = model(train_batch_device.x, train_batch_device.edge_index)\n",
        "            # compute the loss\n",
        "            loss = loss_fcn(logits, train_batch_device.y)\n",
        "            # optimizer step\n",
        "            loss.backward()\n",
        "            optimizer.step()\n",
        "            losses.append(loss.item())\n",
        "        loss_data = np.array(losses).mean()\n",
        "        print(\"Epoch {:05d} | Loss: {:.4f}\".format(epoch + 1, loss_data))\n",
        "\n",
        "        if epoch % 5 == 0:\n",
        "            # evaluate the model on the validation set\n",
        "            # computes the f1-score (see next function)\n",
        "            score = evaluate(model, loss_fcn, device, val_dataloader)\n",
        "            print(\"F1-Score: {:.4f}\".format(score))\n",
        "            scores_list.append(score)\n",
        "            epoch_list.append(epoch)\n",
        "\n",
        "    return epoch_list, scores_list"
      ]
    },
    {
      "cell_type": "markdown",
      "metadata": {
        "id": "PTd9OqaelLni"
      },
      "source": [
        "Next function is designed to evaluate the performance of the model, computing the F1-Score"
      ]
    },
    {
      "cell_type": "code",
      "execution_count": 6,
      "metadata": {
        "id": "PajZzg5zM7V1"
      },
      "outputs": [],
      "source": [
        "#####################################################\n",
        "############### TEST FUNCTION #######################\n",
        "#####################################################\n",
        "def evaluate(model, loss_fcn, device, dataloader):\n",
        "\n",
        "    score_list_batch = []\n",
        "\n",
        "    model.eval()\n",
        "    for i, batch in enumerate(dataloader):\n",
        "        batch = batch.to(device)\n",
        "        output = model(batch.x, batch.edge_index)\n",
        "        loss_test = loss_fcn(output, batch.y)\n",
        "        predict = np.where(output.detach().cpu().numpy() >= 0, 1, 0)\n",
        "        score = f1_score(batch.y.cpu().numpy(), predict, average=\"micro\")\n",
        "        score_list_batch.append(score)\n",
        "\n",
        "    return np.array(score_list_batch).mean()"
      ]
    },
    {
      "cell_type": "markdown",
      "metadata": {
        "id": "EilgopwMlpsu"
      },
      "source": [
        "Let's train this model !"
      ]
    },
    {
      "cell_type": "code",
      "execution_count": 7,
      "metadata": {
        "colab": {
          "base_uri": "https://localhost:8080/"
        },
        "id": "Xkqo7e0gNACE",
        "outputId": "c7dcbf51-2456-415f-9b38-29fc955d8e47"
      },
      "outputs": [
        {
          "output_type": "stream",
          "name": "stdout",
          "text": [
            "\n",
            "Device:  cuda\n",
            "Epoch 00001 | Loss: 0.6368\n",
            "F1-Score: 0.4633\n",
            "Epoch 00002 | Loss: 0.5805\n",
            "Epoch 00003 | Loss: 0.5621\n",
            "Epoch 00004 | Loss: 0.5560\n",
            "Epoch 00005 | Loss: 0.5508\n",
            "Epoch 00006 | Loss: 0.5463\n",
            "F1-Score: 0.5032\n",
            "Epoch 00007 | Loss: 0.5421\n",
            "Epoch 00008 | Loss: 0.5378\n",
            "Epoch 00009 | Loss: 0.5344\n",
            "Epoch 00010 | Loss: 0.5316\n",
            "Epoch 00011 | Loss: 0.5289\n",
            "F1-Score: 0.5242\n",
            "Epoch 00012 | Loss: 0.5264\n",
            "Epoch 00013 | Loss: 0.5240\n",
            "Epoch 00014 | Loss: 0.5216\n",
            "Epoch 00015 | Loss: 0.5194\n",
            "Epoch 00016 | Loss: 0.5172\n",
            "F1-Score: 0.5244\n",
            "Epoch 00017 | Loss: 0.5151\n",
            "Epoch 00018 | Loss: 0.5130\n",
            "Epoch 00019 | Loss: 0.5108\n",
            "Epoch 00020 | Loss: 0.5086\n",
            "Epoch 00021 | Loss: 0.5063\n",
            "F1-Score: 0.5131\n",
            "Epoch 00022 | Loss: 0.5040\n",
            "Epoch 00023 | Loss: 0.5017\n",
            "Epoch 00024 | Loss: 0.4998\n",
            "Epoch 00025 | Loss: 0.4978\n",
            "Epoch 00026 | Loss: 0.4960\n",
            "F1-Score: 0.5338\n",
            "Epoch 00027 | Loss: 0.4941\n",
            "Epoch 00028 | Loss: 0.4924\n",
            "Epoch 00029 | Loss: 0.4906\n",
            "Epoch 00030 | Loss: 0.4888\n",
            "Epoch 00031 | Loss: 0.4869\n",
            "F1-Score: 0.5523\n",
            "Epoch 00032 | Loss: 0.4852\n",
            "Epoch 00033 | Loss: 0.4834\n",
            "Epoch 00034 | Loss: 0.4819\n",
            "Epoch 00035 | Loss: 0.4804\n",
            "Epoch 00036 | Loss: 0.4788\n",
            "F1-Score: 0.5633\n",
            "Epoch 00037 | Loss: 0.4775\n",
            "Epoch 00038 | Loss: 0.4759\n",
            "Epoch 00039 | Loss: 0.4743\n",
            "Epoch 00040 | Loss: 0.4725\n",
            "Epoch 00041 | Loss: 0.4714\n",
            "F1-Score: 0.5601\n",
            "Epoch 00042 | Loss: 0.4699\n",
            "Epoch 00043 | Loss: 0.4690\n",
            "Epoch 00044 | Loss: 0.4677\n",
            "Epoch 00045 | Loss: 0.4672\n",
            "Epoch 00046 | Loss: 0.4665\n",
            "F1-Score: 0.5807\n",
            "Epoch 00047 | Loss: 0.4663\n",
            "Epoch 00048 | Loss: 0.4663\n",
            "Epoch 00049 | Loss: 0.4676\n",
            "Epoch 00050 | Loss: 0.4658\n",
            "Epoch 00051 | Loss: 0.4637\n",
            "F1-Score: 0.5629\n",
            "Epoch 00052 | Loss: 0.4630\n",
            "Epoch 00053 | Loss: 0.4617\n",
            "Epoch 00054 | Loss: 0.4600\n",
            "Epoch 00055 | Loss: 0.4594\n",
            "Epoch 00056 | Loss: 0.4580\n",
            "F1-Score: 0.5806\n",
            "Epoch 00057 | Loss: 0.4552\n",
            "Epoch 00058 | Loss: 0.4536\n",
            "Epoch 00059 | Loss: 0.4525\n",
            "Epoch 00060 | Loss: 0.4514\n",
            "Epoch 00061 | Loss: 0.4509\n",
            "F1-Score: 0.5778\n",
            "Epoch 00062 | Loss: 0.4499\n",
            "Epoch 00063 | Loss: 0.4494\n",
            "Epoch 00064 | Loss: 0.4493\n",
            "Epoch 00065 | Loss: 0.4488\n",
            "Epoch 00066 | Loss: 0.4481\n",
            "F1-Score: 0.5893\n",
            "Epoch 00067 | Loss: 0.4485\n",
            "Epoch 00068 | Loss: 0.4478\n",
            "Epoch 00069 | Loss: 0.4468\n",
            "Epoch 00070 | Loss: 0.4460\n",
            "Epoch 00071 | Loss: 0.4451\n",
            "F1-Score: 0.5701\n",
            "Epoch 00072 | Loss: 0.4449\n",
            "Epoch 00073 | Loss: 0.4443\n",
            "Epoch 00074 | Loss: 0.4436\n",
            "Epoch 00075 | Loss: 0.4434\n",
            "Epoch 00076 | Loss: 0.4434\n",
            "F1-Score: 0.5599\n",
            "Epoch 00077 | Loss: 0.4429\n",
            "Epoch 00078 | Loss: 0.4422\n",
            "Epoch 00079 | Loss: 0.4409\n",
            "Epoch 00080 | Loss: 0.4410\n",
            "Epoch 00081 | Loss: 0.4435\n",
            "F1-Score: 0.5676\n",
            "Epoch 00082 | Loss: 0.4462\n",
            "Epoch 00083 | Loss: 0.4447\n",
            "Epoch 00084 | Loss: 0.4433\n",
            "Epoch 00085 | Loss: 0.4426\n",
            "Epoch 00086 | Loss: 0.4395\n",
            "F1-Score: 0.6052\n",
            "Epoch 00087 | Loss: 0.4380\n",
            "Epoch 00088 | Loss: 0.4372\n",
            "Epoch 00089 | Loss: 0.4357\n",
            "Epoch 00090 | Loss: 0.4341\n",
            "Epoch 00091 | Loss: 0.4331\n",
            "F1-Score: 0.5999\n",
            "Epoch 00092 | Loss: 0.4326\n",
            "Epoch 00093 | Loss: 0.4321\n",
            "Epoch 00094 | Loss: 0.4314\n",
            "Epoch 00095 | Loss: 0.4311\n",
            "Epoch 00096 | Loss: 0.4328\n",
            "F1-Score: 0.5731\n",
            "Epoch 00097 | Loss: 0.4347\n",
            "Epoch 00098 | Loss: 0.4367\n",
            "Epoch 00099 | Loss: 0.4394\n",
            "Epoch 00100 | Loss: 0.4363\n",
            "Epoch 00101 | Loss: 0.4341\n",
            "F1-Score: 0.6115\n",
            "Epoch 00102 | Loss: 0.4316\n",
            "Epoch 00103 | Loss: 0.4308\n",
            "Epoch 00104 | Loss: 0.4293\n",
            "Epoch 00105 | Loss: 0.4291\n",
            "Epoch 00106 | Loss: 0.4284\n",
            "F1-Score: 0.5966\n",
            "Epoch 00107 | Loss: 0.4286\n",
            "Epoch 00108 | Loss: 0.4284\n",
            "Epoch 00109 | Loss: 0.4295\n",
            "Epoch 00110 | Loss: 0.4293\n",
            "Epoch 00111 | Loss: 0.4281\n",
            "F1-Score: 0.6231\n",
            "Epoch 00112 | Loss: 0.4280\n",
            "Epoch 00113 | Loss: 0.4304\n",
            "Epoch 00114 | Loss: 0.4301\n",
            "Epoch 00115 | Loss: 0.4270\n",
            "Epoch 00116 | Loss: 0.4276\n",
            "F1-Score: 0.6211\n",
            "Epoch 00117 | Loss: 0.4272\n",
            "Epoch 00118 | Loss: 0.4259\n",
            "Epoch 00119 | Loss: 0.4241\n",
            "Epoch 00120 | Loss: 0.4271\n",
            "Epoch 00121 | Loss: 0.4247\n",
            "F1-Score: 0.6113\n",
            "Epoch 00122 | Loss: 0.4253\n",
            "Epoch 00123 | Loss: 0.4231\n",
            "Epoch 00124 | Loss: 0.4204\n",
            "Epoch 00125 | Loss: 0.4192\n",
            "Epoch 00126 | Loss: 0.4179\n",
            "F1-Score: 0.6182\n",
            "Epoch 00127 | Loss: 0.4176\n",
            "Epoch 00128 | Loss: 0.4166\n",
            "Epoch 00129 | Loss: 0.4156\n",
            "Epoch 00130 | Loss: 0.4157\n",
            "Epoch 00131 | Loss: 0.4150\n",
            "F1-Score: 0.6194\n",
            "Epoch 00132 | Loss: 0.4144\n",
            "Epoch 00133 | Loss: 0.4137\n",
            "Epoch 00134 | Loss: 0.4136\n",
            "Epoch 00135 | Loss: 0.4122\n",
            "Epoch 00136 | Loss: 0.4117\n",
            "F1-Score: 0.6186\n",
            "Epoch 00137 | Loss: 0.4117\n",
            "Epoch 00138 | Loss: 0.4119\n",
            "Epoch 00139 | Loss: 0.4112\n",
            "Epoch 00140 | Loss: 0.4102\n",
            "Epoch 00141 | Loss: 0.4102\n",
            "F1-Score: 0.6189\n",
            "Epoch 00142 | Loss: 0.4108\n",
            "Epoch 00143 | Loss: 0.4111\n",
            "Epoch 00144 | Loss: 0.4116\n",
            "Epoch 00145 | Loss: 0.4116\n",
            "Epoch 00146 | Loss: 0.4110\n",
            "F1-Score: 0.6264\n",
            "Epoch 00147 | Loss: 0.4120\n",
            "Epoch 00148 | Loss: 0.4127\n",
            "Epoch 00149 | Loss: 0.4129\n",
            "Epoch 00150 | Loss: 0.4114\n",
            "Epoch 00151 | Loss: 0.4116\n",
            "F1-Score: 0.6199\n",
            "Epoch 00152 | Loss: 0.4134\n",
            "Epoch 00153 | Loss: 0.4176\n",
            "Epoch 00154 | Loss: 0.4187\n",
            "Epoch 00155 | Loss: 0.4192\n",
            "Epoch 00156 | Loss: 0.4184\n",
            "F1-Score: 0.6272\n",
            "Epoch 00157 | Loss: 0.4169\n",
            "Epoch 00158 | Loss: 0.4164\n",
            "Epoch 00159 | Loss: 0.4159\n",
            "Epoch 00160 | Loss: 0.4135\n",
            "Epoch 00161 | Loss: 0.4117\n",
            "F1-Score: 0.6294\n",
            "Epoch 00162 | Loss: 0.4122\n",
            "Epoch 00163 | Loss: 0.4109\n",
            "Epoch 00164 | Loss: 0.4089\n",
            "Epoch 00165 | Loss: 0.4079\n",
            "Epoch 00166 | Loss: 0.4064\n",
            "F1-Score: 0.6157\n",
            "Epoch 00167 | Loss: 0.4046\n",
            "Epoch 00168 | Loss: 0.4041\n",
            "Epoch 00169 | Loss: 0.4047\n",
            "Epoch 00170 | Loss: 0.4032\n",
            "Epoch 00171 | Loss: 0.4018\n",
            "F1-Score: 0.6303\n",
            "Epoch 00172 | Loss: 0.4018\n",
            "Epoch 00173 | Loss: 0.4025\n",
            "Epoch 00174 | Loss: 0.4023\n",
            "Epoch 00175 | Loss: 0.4019\n",
            "Epoch 00176 | Loss: 0.4004\n",
            "F1-Score: 0.6350\n",
            "Epoch 00177 | Loss: 0.4000\n",
            "Epoch 00178 | Loss: 0.4019\n",
            "Epoch 00179 | Loss: 0.4000\n",
            "Epoch 00180 | Loss: 0.4010\n",
            "Epoch 00181 | Loss: 0.4011\n",
            "F1-Score: 0.6228\n",
            "Epoch 00182 | Loss: 0.4007\n",
            "Epoch 00183 | Loss: 0.4009\n",
            "Epoch 00184 | Loss: 0.4011\n",
            "Epoch 00185 | Loss: 0.3999\n",
            "Epoch 00186 | Loss: 0.4019\n",
            "F1-Score: 0.6363\n",
            "Epoch 00187 | Loss: 0.4013\n",
            "Epoch 00188 | Loss: 0.4009\n",
            "Epoch 00189 | Loss: 0.4031\n",
            "Epoch 00190 | Loss: 0.4033\n",
            "Epoch 00191 | Loss: 0.4086\n",
            "F1-Score: 0.6627\n",
            "Epoch 00192 | Loss: 0.4127\n",
            "Epoch 00193 | Loss: 0.4105\n",
            "Epoch 00194 | Loss: 0.4110\n",
            "Epoch 00195 | Loss: 0.4155\n",
            "Epoch 00196 | Loss: 0.4153\n",
            "F1-Score: 0.6194\n",
            "Epoch 00197 | Loss: 0.4158\n",
            "Epoch 00198 | Loss: 0.4156\n",
            "Epoch 00199 | Loss: 0.4165\n",
            "Epoch 00200 | Loss: 0.4108\n"
          ]
        }
      ],
      "source": [
        "### DEVICE GPU OR CPU : will select GPU if available\n",
        "device = torch.device('cuda' if torch.cuda.is_available() else 'cpu')\n",
        "print(\"\\nDevice: \", device)\n",
        "\n",
        "### Max number of epochs\n",
        "max_epochs = 200\n",
        "\n",
        "### DEFINE THE MODEL\n",
        "basic_model = BasicGraphModel(  input_size = n_features, \n",
        "                                hidden_size = 256, \n",
        "                                output_size = n_classes).to(device)\n",
        "\n",
        "### DEFINE LOSS FUNCTION\n",
        "loss_fcn = nn.BCEWithLogitsLoss()\n",
        "\n",
        "### DEFINE OPTIMIZER\n",
        "optimizer = torch.optim.Adam(basic_model.parameters(), lr=0.005)\n",
        "\n",
        "### TRAIN THE MODEL\n",
        "epoch_list, basic_model_scores = train(basic_model, loss_fcn, device, optimizer, max_epochs, train_dataloader, val_dataloader)"
      ]
    },
    {
      "cell_type": "markdown",
      "metadata": {
        "id": "2sGc5g7Xmap2"
      },
      "source": [
        "Let's evaluate the performance of this basic model"
      ]
    },
    {
      "cell_type": "code",
      "execution_count": 8,
      "metadata": {
        "colab": {
          "base_uri": "https://localhost:8080/",
          "height": 354
        },
        "id": "ztfbbg2TNP7F",
        "outputId": "744db2b8-76fe-4aae-dea7-9c92d76241a9"
      },
      "outputs": [
        {
          "output_type": "stream",
          "name": "stdout",
          "text": [
            "Basic Model : F1-Score on the test set: 0.6267\n"
          ]
        },
        {
          "output_type": "display_data",
          "data": {
            "text/plain": [
              "<Figure size 720x360 with 1 Axes>"
            ],
            "image/png": "[encoded data removed]"
          },
          "metadata": {
            "needs_background": "light"
          }
        }
      ],
      "source": [
        "### F1-SCORE ON TEST DATASET\n",
        "score_test = evaluate(basic_model, loss_fcn, device, test_dataloader)\n",
        "print(\"Basic Model : F1-Score on the test set: {:.4f}\".format(score_test))\n",
        "\n",
        "### PLOT EVOLUTION OF F1-SCORE W.R.T EPOCHS\n",
        "def plot_f1_score(epoch_list, scores) :\n",
        "    plt.figure(figsize=[10,5])\n",
        "    plt.plot(epoch_list, scores)\n",
        "    plt.title(\"Evolution of F1S-Score w.r.t epochs\")\n",
        "    plt.ylim([0.0, 1.0])\n",
        "    plt.show()\n",
        "    \n",
        "plot_f1_score(epoch_list, basic_model_scores)"
      ]
    },
    {
      "cell_type": "markdown",
      "metadata": {
        "id": "TRVsy5vLnWm_"
      },
      "source": [
        "### Define a better model\n",
        "\n",
        "Now, it's your turn to improve this basic model ! To do so, complete whenever ###### YOUR ANSWER ######## and run the two following cells.\n",
        "\n",
        "**HINT :** https://arxiv.org/pdf/1710.10903.pdf"
      ]
    },
    {
      "cell_type": "code",
      "execution_count": 9,
      "metadata": {
        "id": "qTo7PxFpRHzL"
      },
      "outputs": [],
      "source": [
        "from torch_geometric.nn import GATv2Conv\n",
        "class StudentModel(nn.Module):\n",
        "\n",
        "\n",
        "  def __init__(self, input_size, hidden_size, output_size):\n",
        "      super().__init__()\n",
        "\n",
        "      self.graphconv1 = GATv2Conv(input_size, hidden_size, heads=7)\n",
        "      self.graphconv2 = GATv2Conv(hidden_size*7, hidden_size, heads=7)\n",
        "      self.graphconv3 = GATv2Conv(hidden_size*7, output_size, heads=7, concat = False)\n",
        "      self.elu = nn.ELU()\n",
        "\n",
        "  def forward(self, x, edge_index):\n",
        "    x = self.graphconv1(x, edge_index)\n",
        "    x = self.elu(x)\n",
        "    x = self.graphconv2(x, edge_index)\n",
        "    x = self.elu(x)\n",
        "    x = self.graphconv3(x, edge_index)\n",
        "    return x"
      ]
    },
    {
      "cell_type": "markdown",
      "metadata": {
        "id": "4yGdQ2uxpCAX"
      },
      "source": [
        "Let's train your model !"
      ]
    },
    {
      "cell_type": "code",
      "execution_count": 10,
      "metadata": {
        "id": "6XIYzkYRo3AQ",
        "colab": {
          "base_uri": "https://localhost:8080/"
        },
        "outputId": "b5d2dc6b-ebbb-48cc-eb1a-f69303e3896a"
      },
      "outputs": [
        {
          "output_type": "stream",
          "name": "stdout",
          "text": [
            "Epoch 00001 | Loss: 0.7642\n",
            "F1-Score: 0.3714\n",
            "Epoch 00002 | Loss: 0.5918\n",
            "Epoch 00003 | Loss: 0.5636\n",
            "Epoch 00004 | Loss: 0.5505\n",
            "Epoch 00005 | Loss: 0.5350\n",
            "Epoch 00006 | Loss: 0.5244\n",
            "F1-Score: 0.4846\n",
            "Epoch 00007 | Loss: 0.5152\n",
            "Epoch 00008 | Loss: 0.5069\n",
            "Epoch 00009 | Loss: 0.4987\n",
            "Epoch 00010 | Loss: 0.4901\n",
            "Epoch 00011 | Loss: 0.4843\n",
            "F1-Score: 0.5204\n",
            "Epoch 00012 | Loss: 0.4847\n",
            "Epoch 00013 | Loss: 0.4753\n",
            "Epoch 00014 | Loss: 0.4607\n",
            "Epoch 00015 | Loss: 0.4462\n",
            "Epoch 00016 | Loss: 0.4342\n",
            "F1-Score: 0.6072\n",
            "Epoch 00017 | Loss: 0.4158\n",
            "Epoch 00018 | Loss: 0.4067\n",
            "Epoch 00019 | Loss: 0.3954\n",
            "Epoch 00020 | Loss: 0.3749\n",
            "Epoch 00021 | Loss: 0.3552\n",
            "F1-Score: 0.7000\n",
            "Epoch 00022 | Loss: 0.3601\n",
            "Epoch 00023 | Loss: 0.3423\n",
            "Epoch 00024 | Loss: 0.3160\n",
            "Epoch 00025 | Loss: 0.2902\n",
            "Epoch 00026 | Loss: 0.2648\n",
            "F1-Score: 0.7930\n",
            "Epoch 00027 | Loss: 0.2433\n",
            "Epoch 00028 | Loss: 0.2246\n",
            "Epoch 00029 | Loss: 0.2127\n",
            "Epoch 00030 | Loss: 0.2049\n",
            "Epoch 00031 | Loss: 0.1993\n",
            "F1-Score: 0.8548\n",
            "Epoch 00032 | Loss: 0.1966\n",
            "Epoch 00033 | Loss: 0.1860\n",
            "Epoch 00034 | Loss: 0.1741\n",
            "Epoch 00035 | Loss: 0.1545\n",
            "Epoch 00036 | Loss: 0.1440\n",
            "F1-Score: 0.8955\n",
            "Epoch 00037 | Loss: 0.1334\n",
            "Epoch 00038 | Loss: 0.1265\n",
            "Epoch 00039 | Loss: 0.1233\n",
            "Epoch 00040 | Loss: 0.1215\n",
            "Epoch 00041 | Loss: 0.1125\n",
            "F1-Score: 0.9185\n",
            "Epoch 00042 | Loss: 0.1041\n",
            "Epoch 00043 | Loss: 0.0961\n",
            "Epoch 00044 | Loss: 0.0885\n",
            "Epoch 00045 | Loss: 0.0804\n",
            "Epoch 00046 | Loss: 0.0751\n",
            "F1-Score: 0.9415\n",
            "Epoch 00047 | Loss: 0.0702\n",
            "Epoch 00048 | Loss: 0.0665\n",
            "Epoch 00049 | Loss: 0.0625\n",
            "Epoch 00050 | Loss: 0.0657\n",
            "Epoch 00051 | Loss: 0.0639\n",
            "F1-Score: 0.9490\n",
            "Epoch 00052 | Loss: 0.0624\n",
            "Epoch 00053 | Loss: 0.0599\n",
            "Epoch 00054 | Loss: 0.0562\n",
            "Epoch 00055 | Loss: 0.0507\n",
            "Epoch 00056 | Loss: 0.0472\n",
            "F1-Score: 0.9581\n",
            "Epoch 00057 | Loss: 0.0455\n",
            "Epoch 00058 | Loss: 0.0441\n",
            "Epoch 00059 | Loss: 0.0416\n",
            "Epoch 00060 | Loss: 0.0396\n",
            "Epoch 00061 | Loss: 0.0390\n",
            "F1-Score: 0.9620\n",
            "Epoch 00062 | Loss: 0.0377\n",
            "Epoch 00063 | Loss: 0.0368\n",
            "Epoch 00064 | Loss: 0.0365\n",
            "Epoch 00065 | Loss: 0.0358\n",
            "Epoch 00066 | Loss: 0.0353\n",
            "F1-Score: 0.9624\n",
            "Epoch 00067 | Loss: 0.0363\n",
            "Epoch 00068 | Loss: 0.0369\n",
            "Epoch 00069 | Loss: 0.0365\n",
            "Epoch 00070 | Loss: 0.0347\n",
            "Epoch 00071 | Loss: 0.0348\n",
            "F1-Score: 0.9637\n",
            "Epoch 00072 | Loss: 0.0332\n",
            "Epoch 00073 | Loss: 0.0319\n",
            "Epoch 00074 | Loss: 0.0282\n",
            "Epoch 00075 | Loss: 0.0278\n",
            "Epoch 00076 | Loss: 0.0263\n",
            "F1-Score: 0.9686\n",
            "Epoch 00077 | Loss: 0.0427\n",
            "Epoch 00078 | Loss: 0.0580\n",
            "Epoch 00079 | Loss: 0.0628\n",
            "Epoch 00080 | Loss: 0.0571\n",
            "Epoch 00081 | Loss: 0.0482\n",
            "F1-Score: 0.9602\n",
            "Epoch 00082 | Loss: 0.0412\n",
            "Epoch 00083 | Loss: 0.0365\n",
            "Epoch 00084 | Loss: 0.0331\n",
            "Epoch 00085 | Loss: 0.0281\n",
            "Epoch 00086 | Loss: 0.0251\n",
            "F1-Score: 0.9697\n",
            "Epoch 00087 | Loss: 0.0219\n",
            "Epoch 00088 | Loss: 0.0194\n",
            "Epoch 00089 | Loss: 0.0184\n",
            "Epoch 00090 | Loss: 0.0162\n",
            "Epoch 00091 | Loss: 0.0155\n",
            "F1-Score: 0.9756\n",
            "Epoch 00092 | Loss: 0.0139\n",
            "Epoch 00093 | Loss: 0.0134\n",
            "Epoch 00094 | Loss: 0.0122\n",
            "Epoch 00095 | Loss: 0.0117\n",
            "Epoch 00096 | Loss: 0.0112\n",
            "F1-Score: 0.9768\n",
            "Epoch 00097 | Loss: 0.0108\n",
            "Epoch 00098 | Loss: 0.0105\n",
            "Epoch 00099 | Loss: 0.0099\n",
            "Epoch 00100 | Loss: 0.0092\n",
            "Epoch 00101 | Loss: 0.0095\n",
            "F1-Score: 0.9778\n",
            "Epoch 00102 | Loss: 0.0094\n",
            "Epoch 00103 | Loss: 0.0091\n",
            "Epoch 00104 | Loss: 0.0084\n",
            "Epoch 00105 | Loss: 0.0084\n",
            "Epoch 00106 | Loss: 0.0082\n",
            "F1-Score: 0.9780\n",
            "Epoch 00107 | Loss: 0.0088\n",
            "Epoch 00108 | Loss: 0.0077\n",
            "Epoch 00109 | Loss: 0.0076\n",
            "Epoch 00110 | Loss: 0.0084\n",
            "Epoch 00111 | Loss: 0.0091\n",
            "F1-Score: 0.9759\n",
            "Epoch 00112 | Loss: 0.0107\n",
            "Epoch 00113 | Loss: 0.0146\n",
            "Epoch 00114 | Loss: 0.0169\n",
            "Epoch 00115 | Loss: 0.0266\n",
            "Epoch 00116 | Loss: 0.2650\n",
            "F1-Score: 0.7923\n",
            "Epoch 00117 | Loss: 0.3587\n",
            "Epoch 00118 | Loss: 0.2412\n",
            "Epoch 00119 | Loss: 0.1499\n",
            "Epoch 00120 | Loss: 0.0934\n",
            "Epoch 00121 | Loss: 0.0635\n",
            "F1-Score: 0.9516\n",
            "Epoch 00122 | Loss: 0.0457\n",
            "Epoch 00123 | Loss: 0.0345\n",
            "Epoch 00124 | Loss: 0.0275\n",
            "Epoch 00125 | Loss: 0.0226\n",
            "Epoch 00126 | Loss: 0.0194\n",
            "F1-Score: 0.9722\n",
            "Epoch 00127 | Loss: 0.0165\n",
            "Epoch 00128 | Loss: 0.0151\n",
            "Epoch 00129 | Loss: 0.0127\n",
            "Epoch 00130 | Loss: 0.0118\n",
            "Epoch 00131 | Loss: 0.0106\n",
            "F1-Score: 0.9763\n",
            "Epoch 00132 | Loss: 0.0102\n",
            "Epoch 00133 | Loss: 0.0091\n",
            "Epoch 00134 | Loss: 0.0087\n",
            "Epoch 00135 | Loss: 0.0081\n",
            "Epoch 00136 | Loss: 0.0080\n",
            "F1-Score: 0.9772\n",
            "Epoch 00137 | Loss: 0.0076\n",
            "Epoch 00138 | Loss: 0.0074\n",
            "Epoch 00139 | Loss: 0.0076\n",
            "Epoch 00140 | Loss: 0.0071\n",
            "Epoch 00141 | Loss: 0.0066\n",
            "F1-Score: 0.9778\n",
            "Epoch 00142 | Loss: 0.0066\n",
            "Epoch 00143 | Loss: 0.0064\n",
            "Epoch 00144 | Loss: 0.0061\n",
            "Epoch 00145 | Loss: 0.0059\n",
            "Epoch 00146 | Loss: 0.0055\n",
            "F1-Score: 0.9778\n",
            "Epoch 00147 | Loss: 0.0055\n",
            "Epoch 00148 | Loss: 0.0056\n",
            "Epoch 00149 | Loss: 0.0054\n",
            "Epoch 00150 | Loss: 0.0052\n",
            "Epoch 00151 | Loss: 0.0051\n",
            "F1-Score: 0.9783\n",
            "Epoch 00152 | Loss: 0.0050\n",
            "Epoch 00153 | Loss: 0.0050\n",
            "Epoch 00154 | Loss: 0.0047\n",
            "Epoch 00155 | Loss: 0.0047\n",
            "Epoch 00156 | Loss: 0.0046\n",
            "F1-Score: 0.9779\n",
            "Epoch 00157 | Loss: 0.0045\n",
            "Epoch 00158 | Loss: 0.0045\n",
            "Epoch 00159 | Loss: 0.0045\n",
            "Epoch 00160 | Loss: 0.0045\n",
            "Epoch 00161 | Loss: 0.0044\n",
            "F1-Score: 0.9779\n",
            "Epoch 00162 | Loss: 0.0045\n",
            "Epoch 00163 | Loss: 0.0043\n",
            "Epoch 00164 | Loss: 0.0047\n",
            "Epoch 00165 | Loss: 0.0045\n",
            "Epoch 00166 | Loss: 0.0045\n",
            "F1-Score: 0.9780\n",
            "Epoch 00167 | Loss: 0.0043\n",
            "Epoch 00168 | Loss: 0.0045\n",
            "Epoch 00169 | Loss: 0.0044\n",
            "Epoch 00170 | Loss: 0.0045\n",
            "Epoch 00171 | Loss: 0.0044\n",
            "F1-Score: 0.9777\n",
            "Epoch 00172 | Loss: 0.0045\n",
            "Epoch 00173 | Loss: 0.0044\n",
            "Epoch 00174 | Loss: 0.0048\n",
            "Epoch 00175 | Loss: 0.0060\n",
            "Epoch 00176 | Loss: 0.0083\n",
            "F1-Score: 0.9752\n",
            "Epoch 00177 | Loss: 0.0127\n",
            "Epoch 00178 | Loss: 0.0216\n",
            "Epoch 00179 | Loss: 0.0268\n",
            "Epoch 00180 | Loss: 0.0308\n",
            "Epoch 00181 | Loss: 0.0326\n",
            "F1-Score: 0.9648\n",
            "Epoch 00182 | Loss: 0.0316\n",
            "Epoch 00183 | Loss: 0.0278\n",
            "Epoch 00184 | Loss: 0.0233\n",
            "Epoch 00185 | Loss: 0.0195\n",
            "Epoch 00186 | Loss: 0.0160\n",
            "F1-Score: 0.9744\n",
            "Epoch 00187 | Loss: 0.0139\n",
            "Epoch 00188 | Loss: 0.0115\n",
            "Epoch 00189 | Loss: 0.0102\n",
            "Epoch 00190 | Loss: 0.0084\n",
            "Epoch 00191 | Loss: 0.0072\n",
            "F1-Score: 0.9793\n",
            "Epoch 00192 | Loss: 0.0061\n",
            "Epoch 00193 | Loss: 0.0060\n",
            "Epoch 00194 | Loss: 0.0057\n",
            "Epoch 00195 | Loss: 0.0055\n",
            "Epoch 00196 | Loss: 0.0049\n",
            "F1-Score: 0.9804\n",
            "Epoch 00197 | Loss: 0.0046\n",
            "Epoch 00198 | Loss: 0.0047\n",
            "Epoch 00199 | Loss: 0.0046\n",
            "Epoch 00200 | Loss: 0.0044\n"
          ]
        }
      ],
      "source": [
        "\n",
        "## Student model\n",
        "student_model = StudentModel(input_size = n_features, hidden_size = 256, output_size = n_classes).to(device)\n",
        "\n",
        "### DEFINE LOSS FUNCTION AND OPTIMIZER\n",
        "optimizer = torch.optim.Adam(student_model.parameters(), lr=0.005)\n",
        "loss_fcn = nn.BCEWithLogitsLoss()\n",
        "### TRAIN\n",
        "epoch_list, student_model_scores = train(student_model, loss_fcn, device, optimizer, max_epochs, train_dataloader, val_dataloader)"
      ]
    },
    {
      "cell_type": "markdown",
      "metadata": {
        "id": "aWatNTPBpQGY"
      },
      "source": [
        "Let's evaluate the performance of your model"
      ]
    },
    {
      "cell_type": "code",
      "execution_count": null,
      "metadata": {
        "id": "WFWMqwDuSj7b",
        "colab": {
          "base_uri": "https://localhost:8080/",
          "height": 368
        },
        "outputId": "a9b9eeee-b44b-40ed-a4a4-dc5e36067ab9"
      },
      "outputs": [
        {
          "output_type": "stream",
          "name": "stdout",
          "text": [
            "Student Model : F1-Score on the test set: 0.8243\n"
          ]
        },
        {
          "output_type": "display_data",
          "data": {
            "text/plain": [
              "<Figure size 720x360 with 1 Axes>"
            ],
            "image/png": "[encoded data removed]"
          },
          "metadata": {
            "needs_background": "light"
          }
        }
      ],
      "source": [
        "score_test = evaluate(student_model, loss_fcn, device, test_dataloader)\n",
        "print(\"Student Model : F1-Score on the test set: {:.4f}\".format(score_test))\n",
        "\n",
        "def plot_f1_score(epoch_list, basic_model_scores, student_model_scores) :\n",
        "    plt.figure(figsize = [10,5])\n",
        "    plt.plot(epoch_list, basic_model_scores, 'b', label = \"Basic Model\")\n",
        "    plt.plot(epoch_list, student_model_scores, 'r', label = \"Student Model\")\n",
        "    plt.title(\"Evolution of f1 score w.r.t epochs\")\n",
        "    plt.ylim([0.0, 1.0])\n",
        "    plt.ylabel(\"Epochs\")\n",
        "    plt.xlabel(\"F1-Score\")\n",
        "    plt.legend()\n",
        "    plt.show()\n",
        "    \n",
        "plot_f1_score(epoch_list, basic_model_scores, student_model_scores)"
      ]
    },
    {
      "cell_type": "markdown",
      "metadata": {
        "id": "i9aVEYkuR3fp"
      },
      "source": [
        "## **PART 2 : QUESTIONS** (12/20)"
      ]
    },
    {
      "cell_type": "markdown",
      "metadata": {
        "id": "vZ-r6AWtR-Co"
      },
      "source": [
        "**1. Make a small paragraph that : (4pts)**\n",
        "1. Explains your achitecture and justify your choices (why the Graph Layer you chose is more efficient than the GCNLayer from the Basic Model?).\n",
        "2. Analyses your results (what is the F1-Score ? are your results convincing ? what is your position w.r.t state-of-the-art ?)."
      ]
    },
    {
      "cell_type": "markdown",
      "metadata": {
        "id": "4aiCvW4q5jRY"
      },
      "source": [
        "(ANSWER)"
      ]
    },
    {
      "cell_type": "markdown",
      "metadata": {
        "id": "5HIVqG4u5jfc"
      },
      "source": [
        "**2. Provide a diagramm of your architecture, which includes a good and clear legend as well as shapes information. The diagramm must be submitted as an external file, along with this notebook (PDF, JEPG or PNG format accepted). (2pts)**"
      ]
    },
    {
      "cell_type": "markdown",
      "metadata": {
        "id": "crMHLjkJ5pxl"
      },
      "source": [
        "**3. Make a small paragraph that explains: (6pts)**\n",
        "1. **What _oversmoothing_ is in the context of Graph Neural Network. Why is it an issue ?** <p>\n",
        "Oversmoothing in Graph Neural Networks (GNNs) refers to the phenomenon where the node representations become too similar after several layers of message passing, leading to a loss of discriminative power and hindering the GNN's ability to distinguish between nodes with different characteristics. This issue arises due to the aggregation process in each GNN layer, which can lead to an averaging effect. Oversmoothing is a particular concern in semi-supervised learning settings and can limit the GNN's ability to learn a meaningful classifier. Several techniques have been proposed to address this issue, including skip connections, residual connections, and adaptive normalization techniques, to preserve the discriminative power of node representations over multiple layers of message passing.\n",
        "\n",
        "2. **Are there solutions to overcome it ?** <p>\n",
        "Yes, there are several techniques that have been proposed to address the issue of oversmoothing in Graph Neural Networks (GNNs). One approach is to use skip connections or residual connections, similar to those used in convolutional neural networks (CNNs), to allow information to bypass some of the layers and preserve the original input information. Another approach is to use adaptive normalization techniques, such as layer normalization or batch normalization, to ensure that the node representations remain diverse across multiple layers of message passing. Additionally, some recent research has focused on developing new architectures for GNNs, such as graph attention networks or graph convolutional networks with attention mechanisms, that can selectively attend to different parts of the graph and avoid oversmoothing. These techniques have shown promise in improving the performance of GNNs on tasks that require the ability to distinguish between nodes with different characteristics.\n",
        "\n",
        "3. **Do you think the model you constructed is robust with respect to oversmoothing ? Why ?** <p>\n",
        "The model we constructed, which is a simple Graph Convolutional Network (GCN) with two layers of graph convolutions, may be susceptible to oversmoothing if used on large graphs or if the number of layers is increased. However, it is not possible to definitively say whether the model is robust to oversmoothing without evaluating its performance on a specific task and dataset. To make the GCN more robust to oversmoothing, we can incorporate some of the techniques that have been proposed to address this issue, such as skip connections, residual connections, or adaptive normalization techniques. Additionally, we can experiment with different numbers of layers, learning rates, and other hyperparameters to optimize the performance of the GCN on the task at hand. Ultimately, the robustness of a GNN model with respect to oversmoothing will depend on many factors, including the size and complexity of the graph, the amount of labeled data available, and the specific task being addressed. Therefore, it is important to carefully evaluate the performance of any GNN model on the target task and dataset, and to experiment with different architectures and hyperparameters to optimize its performance. <p>"
      ]
    }
  ],
  "metadata": {
    "accelerator": "GPU",
    "colab": {
      "provenance": []
    },
    "gpuClass": "standard",
    "kernelspec": {
      "display_name": "Python 3",
      "language": "python",
      "name": "python3"
    },
    "language_info": {
      "codemirror_mode": {
        "name": "ipython",
        "version": 3
      },
      "file_extension": ".py",
      "mimetype": "text/x-python",
      "name": "python",
      "nbconvert_exporter": "python",
      "pygments_lexer": "ipython3",
      "version": "3.7.6"
    }
  },
  "nbformat": 4,
  "nbformat_minor": 0
}