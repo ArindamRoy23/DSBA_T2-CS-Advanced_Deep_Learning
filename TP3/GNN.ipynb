{
  "cells": [
    {
      "cell_type": "markdown",
      "metadata": {
        "id": "nlCNZsWlOSfP"
      },
      "source": [
        "# Practical Session on Graph Neural Networks\n",
        "\n",
        "**by Matthieu Nastorg**"
      ]
    },
    {
      "cell_type": "markdown",
      "metadata": {
        "id": "p0RMEfCaEehI"
      },
      "source": [
        "## **PART 1 : CODING** (8/20)"
      ]
    },
    {
      "cell_type": "markdown",
      "metadata": {
        "id": "v5Lp4PasOby4"
      },
      "source": [
        "### Install Pytorch Geometric\n",
        "\n",
        "To handle graph data, we use the library Pytorch Geometric : https://pytorch-geometric.readthedocs.io/en/latest/\n",
        "\n",
        "*   If you use _Google Colab_, simply run the following cell to install Pytorch Geometric (**advised**).\n",
        "*   If you plan using your _own environment_, follow the documentation to install Pytorch Geometric : https://pytorch-geometric.readthedocs.io/en/latest/install/installation.html and skip the following cell."
      ]
    },
    {
      "cell_type": "code",
      "execution_count": 1,
      "metadata": {
        "colab": {
          "base_uri": "https://localhost:8080/"
        },
        "id": "buW3eZmrj1N2",
        "outputId": "ff1437f5-3d91-49ca-b3b1-4b4ef726889f"
      },
      "outputs": [
        {
          "output_type": "stream",
          "name": "stdout",
          "text": [
            "Looking in indexes: https://pypi.org/simple, https://us-python.pkg.dev/colab-wheels/public/simple/\n",
            "Looking in links: https://pytorch-geometric.com/whl/torch-1.13.1+cu116.html\n",
            "Requirement already satisfied: torch-scatter in /usr/local/lib/python3.9/dist-packages (2.1.0+pt113cu116)\n",
            "Looking in indexes: https://pypi.org/simple, https://us-python.pkg.dev/colab-wheels/public/simple/\n",
            "Looking in links: https://pytorch-geometric.com/whl/torch-1.13.1+cu116.html\n",
            "Requirement already satisfied: torch-sparse in /usr/local/lib/python3.9/dist-packages (0.6.16+pt113cu116)\n",
            "Requirement already satisfied: scipy in /usr/local/lib/python3.9/dist-packages (from torch-sparse) (1.10.1)\n",
            "Requirement already satisfied: numpy<1.27.0,>=1.19.5 in /usr/local/lib/python3.9/dist-packages (from scipy->torch-sparse) (1.22.4)\n",
            "Looking in indexes: https://pypi.org/simple, https://us-python.pkg.dev/colab-wheels/public/simple/\n",
            "Looking in links: https://pytorch-geometric.com/whl/torch-1.13.1+cu116.html\n",
            "Requirement already satisfied: torch-cluster in /usr/local/lib/python3.9/dist-packages (1.6.0+pt113cu116)\n",
            "Requirement already satisfied: scipy in /usr/local/lib/python3.9/dist-packages (from torch-cluster) (1.10.1)\n",
            "Requirement already satisfied: numpy<1.27.0,>=1.19.5 in /usr/local/lib/python3.9/dist-packages (from scipy->torch-cluster) (1.22.4)\n",
            "Looking in indexes: https://pypi.org/simple, https://us-python.pkg.dev/colab-wheels/public/simple/\n",
            "Looking in links: https://pytorch-geometric.com/whl/torch-1.13.1+cu116.html\n",
            "Requirement already satisfied: torch-spline-conv in /usr/local/lib/python3.9/dist-packages (1.2.1+pt113cu116)\n",
            "Looking in indexes: https://pypi.org/simple, https://us-python.pkg.dev/colab-wheels/public/simple/\n",
            "Requirement already satisfied: torch-geometric in /usr/local/lib/python3.9/dist-packages (2.2.0)\n",
            "Requirement already satisfied: requests in /usr/local/lib/python3.9/dist-packages (from torch-geometric) (2.25.1)\n",
            "Requirement already satisfied: numpy in /usr/local/lib/python3.9/dist-packages (from torch-geometric) (1.22.4)\n",
            "Requirement already satisfied: psutil>=5.8.0 in /usr/local/lib/python3.9/dist-packages (from torch-geometric) (5.9.4)\n",
            "Requirement already satisfied: tqdm in /usr/local/lib/python3.9/dist-packages (from torch-geometric) (4.65.0)\n",
            "Requirement already satisfied: jinja2 in /usr/local/lib/python3.9/dist-packages (from torch-geometric) (3.1.2)\n",
            "Requirement already satisfied: scikit-learn in /usr/local/lib/python3.9/dist-packages (from torch-geometric) (1.2.1)\n",
            "Requirement already satisfied: pyparsing in /usr/local/lib/python3.9/dist-packages (from torch-geometric) (3.0.9)\n",
            "Requirement already satisfied: scipy in /usr/local/lib/python3.9/dist-packages (from torch-geometric) (1.10.1)\n",
            "Requirement already satisfied: MarkupSafe>=2.0 in /usr/local/lib/python3.9/dist-packages (from jinja2->torch-geometric) (2.1.2)\n",
            "Requirement already satisfied: urllib3<1.27,>=1.21.1 in /usr/local/lib/python3.9/dist-packages (from requests->torch-geometric) (1.26.14)\n",
            "Requirement already satisfied: certifi>=2017.4.17 in /usr/local/lib/python3.9/dist-packages (from requests->torch-geometric) (2022.12.7)\n",
            "Requirement already satisfied: chardet<5,>=3.0.2 in /usr/local/lib/python3.9/dist-packages (from requests->torch-geometric) (4.0.0)\n",
            "Requirement already satisfied: idna<3,>=2.5 in /usr/local/lib/python3.9/dist-packages (from requests->torch-geometric) (2.10)\n",
            "Requirement already satisfied: threadpoolctl>=2.0.0 in /usr/local/lib/python3.9/dist-packages (from scikit-learn->torch-geometric) (3.1.0)\n",
            "Requirement already satisfied: joblib>=1.1.1 in /usr/local/lib/python3.9/dist-packages (from scikit-learn->torch-geometric) (1.2.0)\n"
          ]
        }
      ],
      "source": [
        "########## INSTALL TORCH GEOMETRIC ##################\n",
        "# https://pytorch-geometric.readthedocs.io/en/latest/ \n",
        "#####################################################\n",
        "import torch \n",
        "\n",
        "def format_pytorch_version(version):\n",
        "  return version.split('+')[0]\n",
        "\n",
        "TORCH_version = torch.__version__\n",
        "TORCH = format_pytorch_version(TORCH_version)\n",
        "\n",
        "def format_cuda_version(version):\n",
        "  return 'cu' + version.replace('.', '')\n",
        "\n",
        "CUDA_version = torch.version.cuda\n",
        "CUDA = format_cuda_version(CUDA_version)\n",
        "\n",
        "!pip install torch-scatter     -f https://pytorch-geometric.com/whl/torch-{TORCH}+{CUDA}.html\n",
        "!pip install torch-sparse      -f https://pytorch-geometric.com/whl/torch-{TORCH}+{CUDA}.html\n",
        "!pip install torch-cluster     -f https://pytorch-geometric.com/whl/torch-{TORCH}+{CUDA}.html\n",
        "!pip install torch-spline-conv -f https://pytorch-geometric.com/whl/torch-{TORCH}+{CUDA}.html\n",
        "!pip install torch-geometric"
      ]
    },
    {
      "cell_type": "markdown",
      "metadata": {
        "id": "04JPKXjDclTj"
      },
      "source": [
        "### Import required packages\n",
        "\n",
        "Run the following cell to import all required packages. This cell **must not** be modified.\n",
        "\n",
        "To significantly accelerate your training, it is advised to use GPU. Using Google Colab, you need to activate it : \n",
        "\n",
        "*   Edit --> Notebook Setting --> Hardware accelerator --> GPU"
      ]
    },
    {
      "cell_type": "code",
      "execution_count": 3,
      "metadata": {
        "id": "qXGDmBMYgA_x"
      },
      "outputs": [],
      "source": [
        "#####################################################\n",
        "################## PACKAGES #########################\n",
        "#####################################################\n",
        "import numpy as np\n",
        "import matplotlib.pyplot as plt\n",
        "\n",
        "import torch.nn as nn\n",
        "import torch_geometric.nn as graphnn\n",
        "from sklearn.metrics import f1_score\n",
        "from torch_geometric.datasets import PPI\n",
        "from torch_geometric.loader import DataLoader\n",
        "import torch.nn.functional as F"
      ]
    },
    {
      "cell_type": "markdown",
      "metadata": {
        "id": "3UvCNG8FgdS-"
      },
      "source": [
        "### Dataset\n",
        "\n",
        "We use the Protein-Protein Interaction (PPI) network dataset which includes:\n",
        "- 20 graphs for training \n",
        "- 2 graphs for validation\n",
        "- 2 graphs for testing\n",
        "\n",
        "One graph of the PPI dataset has on average 2372 nodes. Each node:\n",
        "- 50 features : positional gene sets / motif gene / immunological signatures ...\n",
        "- 121 (binary) labels : gene ontology sets (way to classify gene products like proteins).\n",
        "\n",
        "**This problem aims to predict, for a given PPI graph, the correct node's labels**.\n",
        "\n",
        "**It is a node (multi-level) classification task** (trained using supervised learning). \n",
        "\n",
        "For your curiosity, more details information on the dataset and some applications:\n",
        "- https://cs.stanford.edu/~jure/pubs/pathways-psb18.pdf\n",
        "- https://arxiv.org/abs/1707.04638\n",
        "\n",
        "To understand how a graph data is implemented in Pytorch Geometric, refer to : https://pytorch-geometric.readthedocs.io/en/latest/get_started/introduction.html\n"
      ]
    },
    {
      "cell_type": "code",
      "execution_count": 4,
      "metadata": {
        "colab": {
          "base_uri": "https://localhost:8080/"
        },
        "id": "IwdNhvzVNkZB",
        "outputId": "93ccc797-05e4-40f7-914e-8fdcdb8d94d9"
      },
      "outputs": [
        {
          "output_type": "stream",
          "name": "stderr",
          "text": [
            "Downloading https://data.dgl.ai/dataset/ppi.zip\n",
            "Extracting ./ppi.zip\n",
            "Processing...\n"
          ]
        },
        {
          "output_type": "stream",
          "name": "stdout",
          "text": [
            "Number of samples in the train dataset:  20\n",
            "Number of samples in the val dataset:  2\n",
            "Number of samples in the test dataset:  2\n",
            "Output of one sample from the train dataset:  Data(x=[1767, 50], edge_index=[2, 32318], y=[1767, 121])\n",
            "Edge_index :\n",
            "tensor([[   0,    0,    0,  ..., 1744, 1745, 1749],\n",
            "        [ 372, 1101,  766,  ..., 1745, 1744, 1739]])\n",
            "Number of features per node:  50\n",
            "Number of classes per node:  121\n"
          ]
        },
        {
          "output_type": "stream",
          "name": "stderr",
          "text": [
            "Done!\n"
          ]
        }
      ],
      "source": [
        "### LOAD DATASETS\n",
        "\n",
        "BATCH_SIZE = 2 \n",
        "\n",
        "# Train Dataset\n",
        "train_dataset = PPI(root=\"\", split='train')\n",
        "train_dataloader = DataLoader(train_dataset, batch_size=BATCH_SIZE)\n",
        "# Val Dataset\n",
        "val_dataset = PPI(root=\"\", split='val')\n",
        "val_dataloader = DataLoader(val_dataset, batch_size=BATCH_SIZE)\n",
        "# Test Dataset\n",
        "test_dataset = PPI(root=\"\", split='test')\n",
        "test_dataloader = DataLoader(test_dataset, batch_size=BATCH_SIZE)\n",
        "\n",
        "# Number of features and classes\n",
        "n_features, n_classes = train_dataset[0].x.shape[1], train_dataset[0].y.shape[1]\n",
        "\n",
        "print(\"Number of samples in the train dataset: \", len(train_dataset))\n",
        "print(\"Number of samples in the val dataset: \", len(test_dataset))\n",
        "print(\"Number of samples in the test dataset: \", len(test_dataset))\n",
        "print(\"Output of one sample from the train dataset: \", train_dataset[0])\n",
        "print(\"Edge_index :\")\n",
        "print(train_dataset[0].edge_index)\n",
        "print(\"Number of features per node: \", n_features)\n",
        "print(\"Number of classes per node: \", n_classes)"
      ]
    },
    {
      "cell_type": "markdown",
      "metadata": {
        "id": "hiCcn9qeO6Nm"
      },
      "source": [
        "### Define a basic Model"
      ]
    },
    {
      "cell_type": "markdown",
      "metadata": {
        "id": "8RjzEiJ-eVot"
      },
      "source": [
        "Here we define a very simple Graph Neural Network model which will be used as our baseline. This model consists of three graph convolutional layers (from https://arxiv.org/pdf/1609.02907.pdf). The first two layers computes 256 features, followed by an ELU activation function. The last layer is used for (multi-level) classification task, computing 121 features."
      ]
    },
    {
      "cell_type": "code",
      "execution_count": 7,
      "metadata": {
        "id": "2Km-GN1aMpd_"
      },
      "outputs": [],
      "source": [
        "#####################################################\n",
        "################## MODEL ############################\n",
        "#####################################################\n",
        "class BasicGraphModel(nn.Module):\n",
        "\n",
        "    def __init__(self, input_size, hidden_size, output_size):\n",
        "        super().__init__()\n",
        "\n",
        "        self.graphconv1 = graphnn.GCNConv(input_size, hidden_size)\n",
        "        self.graphconv2 = graphnn.GCNConv(hidden_size, hidden_size)\n",
        "        self.graphconv3 = graphnn.GCNConv(hidden_size, output_size)\n",
        "\n",
        "        self.elu = nn.ELU()\n",
        "\n",
        "    def forward(self, x, edge_index):\n",
        "\n",
        "        x = self.graphconv1(x, edge_index)\n",
        "        x = self.elu(x)\n",
        "        x = self.graphconv2(x, edge_index)\n",
        "        x = self.elu(x)\n",
        "        x = self.graphconv3(x, edge_index)\n",
        "\n",
        "        return x\n"
      ]
    },
    {
      "cell_type": "markdown",
      "metadata": {
        "id": "6ekk0TrOktOB"
      },
      "source": [
        "Next we construct the function to train the model."
      ]
    },
    {
      "cell_type": "code",
      "execution_count": 8,
      "metadata": {
        "id": "m4lneoadMxqy"
      },
      "outputs": [],
      "source": [
        "#####################################################\n",
        "############## TRAIN FUNCTION #######################\n",
        "#####################################################\n",
        "def train(model, loss_fcn, device, optimizer, max_epochs, train_dataloader, val_dataloader):\n",
        "\n",
        "    epoch_list = []\n",
        "    scores_list = []\n",
        "\n",
        "    # loop over epochs\n",
        "    for epoch in range(max_epochs):\n",
        "        model.train()\n",
        "        losses = []\n",
        "        # loop over batches\n",
        "        for i, train_batch in enumerate(train_dataloader):\n",
        "            optimizer.zero_grad()\n",
        "            train_batch_device = train_batch.to(device)\n",
        "            # logits is the output of the model\n",
        "            logits = model(train_batch_device.x, train_batch_device.edge_index)\n",
        "            # compute the loss\n",
        "            loss = loss_fcn(logits, train_batch_device.y)\n",
        "            # optimizer step\n",
        "            loss.backward()\n",
        "            optimizer.step()\n",
        "            losses.append(loss.item())\n",
        "        loss_data = np.array(losses).mean()\n",
        "        print(\"Epoch {:05d} | Loss: {:.4f}\".format(epoch + 1, loss_data))\n",
        "\n",
        "        if epoch % 5 == 0:\n",
        "            # evaluate the model on the validation set\n",
        "            # computes the f1-score (see next function)\n",
        "            score = evaluate(model, loss_fcn, device, val_dataloader)\n",
        "            print(\"F1-Score: {:.4f}\".format(score))\n",
        "            scores_list.append(score)\n",
        "            epoch_list.append(epoch)\n",
        "\n",
        "    return epoch_list, scores_list"
      ]
    },
    {
      "cell_type": "markdown",
      "metadata": {
        "id": "PTd9OqaelLni"
      },
      "source": [
        "Next function is designed to evaluate the performance of the model, computing the F1-Score"
      ]
    },
    {
      "cell_type": "code",
      "execution_count": 9,
      "metadata": {
        "id": "PajZzg5zM7V1"
      },
      "outputs": [],
      "source": [
        "#####################################################\n",
        "############### TEST FUNCTION #######################\n",
        "#####################################################\n",
        "def evaluate(model, loss_fcn, device, dataloader):\n",
        "\n",
        "    score_list_batch = []\n",
        "\n",
        "    model.eval()\n",
        "    for i, batch in enumerate(dataloader):\n",
        "        batch = batch.to(device)\n",
        "        output = model(batch.x, batch.edge_index)\n",
        "        loss_test = loss_fcn(output, batch.y)\n",
        "        predict = np.where(output.detach().cpu().numpy() >= 0, 1, 0)\n",
        "        score = f1_score(batch.y.cpu().numpy(), predict, average=\"micro\")\n",
        "        score_list_batch.append(score)\n",
        "\n",
        "    return np.array(score_list_batch).mean()"
      ]
    },
    {
      "cell_type": "markdown",
      "metadata": {
        "id": "EilgopwMlpsu"
      },
      "source": [
        "Let's train this model !"
      ]
    },
    {
      "cell_type": "code",
      "execution_count": 10,
      "metadata": {
        "colab": {
          "base_uri": "https://localhost:8080/"
        },
        "id": "Xkqo7e0gNACE",
        "outputId": "15850616-98f4-4645-b074-eecbc261cdc7"
      },
      "outputs": [
        {
          "output_type": "stream",
          "name": "stdout",
          "text": [
            "\n",
            "Device:  cuda\n",
            "Epoch 00001 | Loss: 0.6379\n",
            "F1-Score: 0.4502\n",
            "Epoch 00002 | Loss: 0.5815\n",
            "Epoch 00003 | Loss: 0.5623\n",
            "Epoch 00004 | Loss: 0.5562\n",
            "Epoch 00005 | Loss: 0.5512\n",
            "Epoch 00006 | Loss: 0.5456\n",
            "F1-Score: 0.4850\n",
            "Epoch 00007 | Loss: 0.5411\n",
            "Epoch 00008 | Loss: 0.5371\n",
            "Epoch 00009 | Loss: 0.5340\n",
            "Epoch 00010 | Loss: 0.5314\n",
            "Epoch 00011 | Loss: 0.5288\n",
            "F1-Score: 0.5288\n",
            "Epoch 00012 | Loss: 0.5264\n",
            "Epoch 00013 | Loss: 0.5240\n",
            "Epoch 00014 | Loss: 0.5216\n",
            "Epoch 00015 | Loss: 0.5193\n",
            "Epoch 00016 | Loss: 0.5170\n",
            "F1-Score: 0.5090\n",
            "Epoch 00017 | Loss: 0.5145\n",
            "Epoch 00018 | Loss: 0.5120\n",
            "Epoch 00019 | Loss: 0.5097\n",
            "Epoch 00020 | Loss: 0.5077\n",
            "Epoch 00021 | Loss: 0.5057\n",
            "F1-Score: 0.5325\n",
            "Epoch 00022 | Loss: 0.5036\n",
            "Epoch 00023 | Loss: 0.5017\n",
            "Epoch 00024 | Loss: 0.4996\n",
            "Epoch 00025 | Loss: 0.4977\n",
            "Epoch 00026 | Loss: 0.4957\n",
            "F1-Score: 0.5420\n",
            "Epoch 00027 | Loss: 0.4937\n",
            "Epoch 00028 | Loss: 0.4918\n",
            "Epoch 00029 | Loss: 0.4900\n",
            "Epoch 00030 | Loss: 0.4882\n",
            "Epoch 00031 | Loss: 0.4865\n",
            "F1-Score: 0.5524\n",
            "Epoch 00032 | Loss: 0.4850\n",
            "Epoch 00033 | Loss: 0.4832\n",
            "Epoch 00034 | Loss: 0.4817\n",
            "Epoch 00035 | Loss: 0.4802\n",
            "Epoch 00036 | Loss: 0.4787\n",
            "F1-Score: 0.5682\n",
            "Epoch 00037 | Loss: 0.4776\n",
            "Epoch 00038 | Loss: 0.4760\n",
            "Epoch 00039 | Loss: 0.4750\n",
            "Epoch 00040 | Loss: 0.4731\n",
            "Epoch 00041 | Loss: 0.4720\n",
            "F1-Score: 0.5660\n",
            "Epoch 00042 | Loss: 0.4705\n",
            "Epoch 00043 | Loss: 0.4697\n",
            "Epoch 00044 | Loss: 0.4681\n",
            "Epoch 00045 | Loss: 0.4671\n",
            "Epoch 00046 | Loss: 0.4663\n",
            "F1-Score: 0.5754\n",
            "Epoch 00047 | Loss: 0.4660\n",
            "Epoch 00048 | Loss: 0.4644\n",
            "Epoch 00049 | Loss: 0.4637\n",
            "Epoch 00050 | Loss: 0.4631\n",
            "Epoch 00051 | Loss: 0.4633\n",
            "F1-Score: 0.5928\n",
            "Epoch 00052 | Loss: 0.4617\n",
            "Epoch 00053 | Loss: 0.4601\n",
            "Epoch 00054 | Loss: 0.4585\n",
            "Epoch 00055 | Loss: 0.4585\n",
            "Epoch 00056 | Loss: 0.4571\n",
            "F1-Score: 0.5910\n",
            "Epoch 00057 | Loss: 0.4557\n",
            "Epoch 00058 | Loss: 0.4542\n",
            "Epoch 00059 | Loss: 0.4543\n",
            "Epoch 00060 | Loss: 0.4536\n",
            "Epoch 00061 | Loss: 0.4526\n",
            "F1-Score: 0.6045\n",
            "Epoch 00062 | Loss: 0.4524\n",
            "Epoch 00063 | Loss: 0.4522\n",
            "Epoch 00064 | Loss: 0.4507\n",
            "Epoch 00065 | Loss: 0.4498\n",
            "Epoch 00066 | Loss: 0.4497\n",
            "F1-Score: 0.5943\n",
            "Epoch 00067 | Loss: 0.4490\n",
            "Epoch 00068 | Loss: 0.4490\n",
            "Epoch 00069 | Loss: 0.4501\n",
            "Epoch 00070 | Loss: 0.4510\n",
            "Epoch 00071 | Loss: 0.4503\n",
            "F1-Score: 0.5887\n",
            "Epoch 00072 | Loss: 0.4499\n",
            "Epoch 00073 | Loss: 0.4505\n",
            "Epoch 00074 | Loss: 0.4527\n",
            "Epoch 00075 | Loss: 0.4509\n",
            "Epoch 00076 | Loss: 0.4471\n",
            "F1-Score: 0.5546\n",
            "Epoch 00077 | Loss: 0.4460\n",
            "Epoch 00078 | Loss: 0.4448\n",
            "Epoch 00079 | Loss: 0.4447\n",
            "Epoch 00080 | Loss: 0.4438\n",
            "Epoch 00081 | Loss: 0.4423\n",
            "F1-Score: 0.6039\n",
            "Epoch 00082 | Loss: 0.4406\n",
            "Epoch 00083 | Loss: 0.4395\n",
            "Epoch 00084 | Loss: 0.4389\n",
            "Epoch 00085 | Loss: 0.4381\n",
            "Epoch 00086 | Loss: 0.4386\n",
            "F1-Score: 0.5765\n",
            "Epoch 00087 | Loss: 0.4385\n",
            "Epoch 00088 | Loss: 0.4382\n",
            "Epoch 00089 | Loss: 0.4388\n",
            "Epoch 00090 | Loss: 0.4400\n",
            "Epoch 00091 | Loss: 0.4422\n",
            "F1-Score: 0.6012\n",
            "Epoch 00092 | Loss: 0.4416\n",
            "Epoch 00093 | Loss: 0.4399\n",
            "Epoch 00094 | Loss: 0.4382\n",
            "Epoch 00095 | Loss: 0.4377\n",
            "Epoch 00096 | Loss: 0.4356\n",
            "F1-Score: 0.5954\n",
            "Epoch 00097 | Loss: 0.4346\n",
            "Epoch 00098 | Loss: 0.4326\n",
            "Epoch 00099 | Loss: 0.4312\n",
            "Epoch 00100 | Loss: 0.4308\n",
            "Epoch 00101 | Loss: 0.4310\n",
            "F1-Score: 0.5996\n",
            "Epoch 00102 | Loss: 0.4321\n",
            "Epoch 00103 | Loss: 0.4311\n",
            "Epoch 00104 | Loss: 0.4312\n",
            "Epoch 00105 | Loss: 0.4309\n",
            "Epoch 00106 | Loss: 0.4299\n",
            "F1-Score: 0.6058\n",
            "Epoch 00107 | Loss: 0.4306\n",
            "Epoch 00108 | Loss: 0.4298\n",
            "Epoch 00109 | Loss: 0.4284\n",
            "Epoch 00110 | Loss: 0.4287\n",
            "Epoch 00111 | Loss: 0.4283\n",
            "F1-Score: 0.5711\n",
            "Epoch 00112 | Loss: 0.4299\n",
            "Epoch 00113 | Loss: 0.4311\n",
            "Epoch 00114 | Loss: 0.4316\n",
            "Epoch 00115 | Loss: 0.4298\n",
            "Epoch 00116 | Loss: 0.4302\n",
            "F1-Score: 0.6180\n",
            "Epoch 00117 | Loss: 0.4313\n",
            "Epoch 00118 | Loss: 0.4319\n",
            "Epoch 00119 | Loss: 0.4281\n",
            "Epoch 00120 | Loss: 0.4267\n",
            "Epoch 00121 | Loss: 0.4263\n",
            "F1-Score: 0.6156\n",
            "Epoch 00122 | Loss: 0.4266\n",
            "Epoch 00123 | Loss: 0.4269\n",
            "Epoch 00124 | Loss: 0.4243\n",
            "Epoch 00125 | Loss: 0.4238\n",
            "Epoch 00126 | Loss: 0.4237\n",
            "F1-Score: 0.6100\n",
            "Epoch 00127 | Loss: 0.4246\n",
            "Epoch 00128 | Loss: 0.4250\n",
            "Epoch 00129 | Loss: 0.4248\n",
            "Epoch 00130 | Loss: 0.4258\n",
            "Epoch 00131 | Loss: 0.4250\n",
            "F1-Score: 0.6332\n",
            "Epoch 00132 | Loss: 0.4231\n",
            "Epoch 00133 | Loss: 0.4219\n",
            "Epoch 00134 | Loss: 0.4214\n",
            "Epoch 00135 | Loss: 0.4215\n",
            "Epoch 00136 | Loss: 0.4209\n",
            "F1-Score: 0.5892\n",
            "Epoch 00137 | Loss: 0.4188\n",
            "Epoch 00138 | Loss: 0.4191\n",
            "Epoch 00139 | Loss: 0.4188\n",
            "Epoch 00140 | Loss: 0.4192\n",
            "Epoch 00141 | Loss: 0.4176\n",
            "F1-Score: 0.6164\n",
            "Epoch 00142 | Loss: 0.4196\n",
            "Epoch 00143 | Loss: 0.4200\n",
            "Epoch 00144 | Loss: 0.4191\n",
            "Epoch 00145 | Loss: 0.4193\n",
            "Epoch 00146 | Loss: 0.4205\n",
            "F1-Score: 0.6143\n",
            "Epoch 00147 | Loss: 0.4199\n",
            "Epoch 00148 | Loss: 0.4184\n",
            "Epoch 00149 | Loss: 0.4172\n",
            "Epoch 00150 | Loss: 0.4161\n",
            "Epoch 00151 | Loss: 0.4155\n",
            "F1-Score: 0.6072\n",
            "Epoch 00152 | Loss: 0.4143\n",
            "Epoch 00153 | Loss: 0.4135\n",
            "Epoch 00154 | Loss: 0.4131\n",
            "Epoch 00155 | Loss: 0.4140\n",
            "Epoch 00156 | Loss: 0.4143\n",
            "F1-Score: 0.6467\n",
            "Epoch 00157 | Loss: 0.4136\n",
            "Epoch 00158 | Loss: 0.4122\n",
            "Epoch 00159 | Loss: 0.4136\n",
            "Epoch 00160 | Loss: 0.4161\n",
            "Epoch 00161 | Loss: 0.4169\n",
            "F1-Score: 0.5915\n",
            "Epoch 00162 | Loss: 0.4174\n",
            "Epoch 00163 | Loss: 0.4176\n",
            "Epoch 00164 | Loss: 0.4184\n",
            "Epoch 00165 | Loss: 0.4179\n",
            "Epoch 00166 | Loss: 0.4160\n",
            "F1-Score: 0.6373\n",
            "Epoch 00167 | Loss: 0.4165\n",
            "Epoch 00168 | Loss: 0.4172\n",
            "Epoch 00169 | Loss: 0.4153\n",
            "Epoch 00170 | Loss: 0.4148\n",
            "Epoch 00171 | Loss: 0.4139\n",
            "F1-Score: 0.6419\n",
            "Epoch 00172 | Loss: 0.4130\n",
            "Epoch 00173 | Loss: 0.4110\n",
            "Epoch 00174 | Loss: 0.4130\n",
            "Epoch 00175 | Loss: 0.4123\n",
            "Epoch 00176 | Loss: 0.4116\n",
            "F1-Score: 0.6266\n",
            "Epoch 00177 | Loss: 0.4106\n",
            "Epoch 00178 | Loss: 0.4091\n",
            "Epoch 00179 | Loss: 0.4073\n",
            "Epoch 00180 | Loss: 0.4088\n",
            "Epoch 00181 | Loss: 0.4063\n",
            "F1-Score: 0.6377\n",
            "Epoch 00182 | Loss: 0.4067\n",
            "Epoch 00183 | Loss: 0.4044\n",
            "Epoch 00184 | Loss: 0.4034\n",
            "Epoch 00185 | Loss: 0.4035\n",
            "Epoch 00186 | Loss: 0.4025\n",
            "F1-Score: 0.6213\n",
            "Epoch 00187 | Loss: 0.4021\n",
            "Epoch 00188 | Loss: 0.4018\n",
            "Epoch 00189 | Loss: 0.4010\n",
            "Epoch 00190 | Loss: 0.4012\n",
            "Epoch 00191 | Loss: 0.4023\n",
            "F1-Score: 0.6348\n",
            "Epoch 00192 | Loss: 0.4039\n",
            "Epoch 00193 | Loss: 0.4048\n",
            "Epoch 00194 | Loss: 0.4062\n",
            "Epoch 00195 | Loss: 0.4076\n",
            "Epoch 00196 | Loss: 0.4111\n",
            "F1-Score: 0.6416\n",
            "Epoch 00197 | Loss: 0.4134\n",
            "Epoch 00198 | Loss: 0.4159\n",
            "Epoch 00199 | Loss: 0.4143\n",
            "Epoch 00200 | Loss: 0.4108\n"
          ]
        }
      ],
      "source": [
        "### DEVICE GPU OR CPU : will select GPU if available\n",
        "device = torch.device('cuda' if torch.cuda.is_available() else 'cpu')\n",
        "print(\"\\nDevice: \", device)\n",
        "\n",
        "### Max number of epochs\n",
        "max_epochs = 200\n",
        "\n",
        "### DEFINE THE MODEL\n",
        "basic_model = BasicGraphModel(  input_size = n_features, \n",
        "                                hidden_size = 256, \n",
        "                                output_size = n_classes).to(device)\n",
        "\n",
        "### DEFINE LOSS FUNCTION\n",
        "loss_fcn = nn.BCEWithLogitsLoss()\n",
        "\n",
        "### DEFINE OPTIMIZER\n",
        "optimizer = torch.optim.Adam(basic_model.parameters(), lr=0.005)\n",
        "\n",
        "### TRAIN THE MODEL\n",
        "epoch_list, basic_model_scores = train(basic_model, loss_fcn, device, optimizer, max_epochs, train_dataloader, val_dataloader)"
      ]
    },
    {
      "cell_type": "markdown",
      "metadata": {
        "id": "2sGc5g7Xmap2"
      },
      "source": [
        "Let's evaluate the performance of this basic model"
      ]
    },
    {
      "cell_type": "code",
      "execution_count": 11,
      "metadata": {
        "colab": {
          "base_uri": "https://localhost:8080/",
          "height": 354
        },
        "id": "ztfbbg2TNP7F",
        "outputId": "69c63382-63b5-425d-fd93-ddd5460834f7"
      },
      "outputs": [
        {
          "output_type": "stream",
          "name": "stdout",
          "text": [
            "Basic Model : F1-Score on the test set: 0.6560\n"
          ]
        },
        {
          "output_type": "display_data",
          "data": {
            "text/plain": [
              "<Figure size 720x360 with 1 Axes>"
            ],
            "image/png": "[encoded data removed]"
          },
          "metadata": {
            "needs_background": "light"
          }
        }
      ],
      "source": [
        "### F1-SCORE ON TEST DATASET\n",
        "score_test = evaluate(basic_model, loss_fcn, device, test_dataloader)\n",
        "print(\"Basic Model : F1-Score on the test set: {:.4f}\".format(score_test))\n",
        "\n",
        "### PLOT EVOLUTION OF F1-SCORE W.R.T EPOCHS\n",
        "def plot_f1_score(epoch_list, scores) :\n",
        "    plt.figure(figsize=[10,5])\n",
        "    plt.plot(epoch_list, scores)\n",
        "    plt.title(\"Evolution of F1S-Score w.r.t epochs\")\n",
        "    plt.ylim([0.0, 1.0])\n",
        "    plt.show()\n",
        "    \n",
        "plot_f1_score(epoch_list, basic_model_scores)"
      ]
    },
    {
      "cell_type": "markdown",
      "metadata": {
        "id": "TRVsy5vLnWm_"
      },
      "source": [
        "### Define a better model\n",
        "\n",
        "Now, it's your turn to improve this basic model ! To do so, complete whenever ###### YOUR ANSWER ######## and run the two following cells.\n",
        "\n",
        "**HINT :** https://arxiv.org/pdf/1710.10903.pdf"
      ]
    },
    {
      "cell_type": "code",
      "execution_count": 42,
      "metadata": {
        "id": "qTo7PxFpRHzL"
      },
      "outputs": [],
      "source": [
        "from torch_geometric.nn import GATv2Conv\n",
        "class StudentModel(nn.Module):\n",
        "\n",
        "\n",
        "\n",
        "    def __init__(self, input_size, hidden_size, output_size):\n",
        "        super().__init__()\n",
        "\n",
        "        self.graph1 = GATv2Conv(input_size, hidden_size)\n",
        "        self.graph2 = GATv2Conv(hidden_size, hidden_size)\n",
        "        self.graph3 = GATv2Conv(hidden_size, output_size)\n",
        "\n",
        "        self.elu = nn.ELU()\n",
        "\n",
        "    def forward(self, x, edge_index):\n",
        "\n",
        "        x = self.graph1(x, edge_index)\n",
        "        x = self.elu(x)\n",
        "        x = self.graph2(x, edge_index)\n",
        "        x = self.elu(x)\n",
        "        x = self.graph3(x, edge_index)\n",
        "\n",
        "        return x"
      ]
    },
    {
      "cell_type": "markdown",
      "metadata": {
        "id": "4yGdQ2uxpCAX"
      },
      "source": [
        "Let's train your model !"
      ]
    },
    {
      "cell_type": "code",
      "execution_count": 43,
      "metadata": {
        "id": "6XIYzkYRo3AQ",
        "colab": {
          "base_uri": "https://localhost:8080/"
        },
        "outputId": "e14ca244-a7eb-4a72-a9a4-66d10677c055"
      },
      "outputs": [
        {
          "output_type": "stream",
          "name": "stdout",
          "text": [
            "Epoch 00001 | Loss: 176.2522\n",
            "F1-Score: 0.5171\n",
            "Epoch 00002 | Loss: 174.7864\n",
            "Epoch 00003 | Loss: 174.6139\n",
            "Epoch 00004 | Loss: 173.7602\n",
            "Epoch 00005 | Loss: 173.6008\n",
            "Epoch 00006 | Loss: 173.2662\n",
            "F1-Score: 0.5532\n",
            "Epoch 00007 | Loss: 172.6562\n",
            "Epoch 00008 | Loss: 172.0548\n",
            "Epoch 00009 | Loss: 171.6959\n",
            "Epoch 00010 | Loss: 171.3791\n",
            "Epoch 00011 | Loss: 171.0317\n",
            "F1-Score: 0.5819\n",
            "Epoch 00012 | Loss: 170.8289\n",
            "Epoch 00013 | Loss: 170.6082\n",
            "Epoch 00014 | Loss: 170.3119\n",
            "Epoch 00015 | Loss: 170.7415\n",
            "Epoch 00016 | Loss: 170.5480\n",
            "F1-Score: 0.5958\n",
            "Epoch 00017 | Loss: 169.8183\n",
            "Epoch 00018 | Loss: 169.3654\n",
            "Epoch 00019 | Loss: 169.3975\n",
            "Epoch 00020 | Loss: 169.0724\n",
            "Epoch 00021 | Loss: 168.9325\n",
            "F1-Score: 0.6102\n",
            "Epoch 00022 | Loss: 168.8029\n",
            "Epoch 00023 | Loss: 168.8460\n",
            "Epoch 00024 | Loss: 168.4998\n",
            "Epoch 00025 | Loss: 168.4011\n",
            "Epoch 00026 | Loss: 168.4097\n",
            "F1-Score: 0.6111\n",
            "Epoch 00027 | Loss: 168.1607\n",
            "Epoch 00028 | Loss: 167.7862\n",
            "Epoch 00029 | Loss: 169.4274\n",
            "Epoch 00030 | Loss: 168.9872\n",
            "Epoch 00031 | Loss: 168.0278\n",
            "F1-Score: 0.6182\n",
            "Epoch 00032 | Loss: 167.6175\n",
            "Epoch 00033 | Loss: 167.3261\n",
            "Epoch 00034 | Loss: 166.9924\n",
            "Epoch 00035 | Loss: 166.8684\n",
            "Epoch 00036 | Loss: 166.9953\n",
            "F1-Score: 0.6249\n",
            "Epoch 00037 | Loss: 167.0084\n",
            "Epoch 00038 | Loss: 167.1041\n",
            "Epoch 00039 | Loss: 166.5995\n",
            "Epoch 00040 | Loss: 165.9802\n",
            "Epoch 00041 | Loss: 165.7784\n",
            "F1-Score: 0.6324\n",
            "Epoch 00042 | Loss: 166.3953\n",
            "Epoch 00043 | Loss: 166.2819\n",
            "Epoch 00044 | Loss: 166.0125\n",
            "Epoch 00045 | Loss: 166.3430\n",
            "Epoch 00046 | Loss: 166.2769\n",
            "F1-Score: 0.6138\n",
            "Epoch 00047 | Loss: 165.6255\n",
            "Epoch 00048 | Loss: 165.1098\n",
            "Epoch 00049 | Loss: 165.2414\n",
            "Epoch 00050 | Loss: 165.3269\n",
            "Epoch 00051 | Loss: 165.4336\n",
            "F1-Score: 0.6260\n",
            "Epoch 00052 | Loss: 165.0149\n",
            "Epoch 00053 | Loss: 164.9769\n",
            "Epoch 00054 | Loss: 164.6762\n",
            "Epoch 00055 | Loss: 164.3939\n",
            "Epoch 00056 | Loss: 164.2925\n",
            "F1-Score: 0.6300\n",
            "Epoch 00057 | Loss: 164.6371\n",
            "Epoch 00058 | Loss: 164.6976\n",
            "Epoch 00059 | Loss: 164.4182\n",
            "Epoch 00060 | Loss: 164.3660\n",
            "Epoch 00061 | Loss: 164.2167\n",
            "F1-Score: 0.6155\n",
            "Epoch 00062 | Loss: 164.1115\n",
            "Epoch 00063 | Loss: 163.9562\n",
            "Epoch 00064 | Loss: 164.1172\n",
            "Epoch 00065 | Loss: 164.2449\n",
            "Epoch 00066 | Loss: 164.0165\n",
            "F1-Score: 0.6078\n",
            "Epoch 00067 | Loss: 163.6009\n",
            "Epoch 00068 | Loss: 164.0141\n",
            "Epoch 00069 | Loss: 163.9256\n",
            "Epoch 00070 | Loss: 163.8679\n",
            "Epoch 00071 | Loss: 163.5329\n",
            "F1-Score: 0.6133\n",
            "Epoch 00072 | Loss: 163.2337\n",
            "Epoch 00073 | Loss: 162.9941\n",
            "Epoch 00074 | Loss: 162.8849\n",
            "Epoch 00075 | Loss: 162.9993\n",
            "Epoch 00076 | Loss: 163.0251\n",
            "F1-Score: 0.6043\n",
            "Epoch 00077 | Loss: 163.2757\n",
            "Epoch 00078 | Loss: 163.0554\n",
            "Epoch 00079 | Loss: 162.7577\n",
            "Epoch 00080 | Loss: 162.7948\n",
            "Epoch 00081 | Loss: 162.5821\n",
            "F1-Score: 0.6045\n",
            "Epoch 00082 | Loss: 162.5215\n",
            "Epoch 00083 | Loss: 162.3843\n",
            "Epoch 00084 | Loss: 162.4731\n",
            "Epoch 00085 | Loss: 162.4709\n",
            "Epoch 00086 | Loss: 162.1440\n",
            "F1-Score: 0.6078\n",
            "Epoch 00087 | Loss: 162.0353\n",
            "Epoch 00088 | Loss: 162.1749\n",
            "Epoch 00089 | Loss: 162.1105\n",
            "Epoch 00090 | Loss: 161.9085\n",
            "Epoch 00091 | Loss: 161.9322\n",
            "F1-Score: 0.6038\n",
            "Epoch 00092 | Loss: 162.2176\n",
            "Epoch 00093 | Loss: 162.3503\n",
            "Epoch 00094 | Loss: 162.0380\n",
            "Epoch 00095 | Loss: 161.8462\n",
            "Epoch 00096 | Loss: 161.7144\n",
            "F1-Score: 0.6149\n",
            "Epoch 00097 | Loss: 161.6715\n",
            "Epoch 00098 | Loss: 161.7539\n",
            "Epoch 00099 | Loss: 161.7484\n",
            "Epoch 00100 | Loss: 161.5911\n",
            "Epoch 00101 | Loss: 161.6404\n",
            "F1-Score: 0.5950\n",
            "Epoch 00102 | Loss: 161.7424\n",
            "Epoch 00103 | Loss: 161.4331\n",
            "Epoch 00104 | Loss: 161.7011\n",
            "Epoch 00105 | Loss: 161.6532\n",
            "Epoch 00106 | Loss: 161.4167\n",
            "F1-Score: 0.5965\n",
            "Epoch 00107 | Loss: 161.1256\n",
            "Epoch 00108 | Loss: 161.0369\n",
            "Epoch 00109 | Loss: 161.0005\n",
            "Epoch 00110 | Loss: 160.9717\n",
            "Epoch 00111 | Loss: 161.0841\n",
            "F1-Score: 0.5948\n",
            "Epoch 00112 | Loss: 160.9864\n",
            "Epoch 00113 | Loss: 161.0253\n",
            "Epoch 00114 | Loss: 161.0279\n",
            "Epoch 00115 | Loss: 161.0415\n",
            "Epoch 00116 | Loss: 161.4186\n",
            "F1-Score: 0.5751\n",
            "Epoch 00117 | Loss: 161.7925\n",
            "Epoch 00118 | Loss: 161.5177\n",
            "Epoch 00119 | Loss: 161.2493\n",
            "Epoch 00120 | Loss: 160.8571\n",
            "Epoch 00121 | Loss: 160.5537\n",
            "F1-Score: 0.5913\n",
            "Epoch 00122 | Loss: 160.3615\n",
            "Epoch 00123 | Loss: 160.3096\n",
            "Epoch 00124 | Loss: 160.3897\n",
            "Epoch 00125 | Loss: 160.3127\n",
            "Epoch 00126 | Loss: 160.2632\n",
            "F1-Score: 0.5755\n",
            "Epoch 00127 | Loss: 160.1646\n",
            "Epoch 00128 | Loss: 160.6201\n",
            "Epoch 00129 | Loss: 160.9029\n",
            "Epoch 00130 | Loss: 160.6540\n",
            "Epoch 00131 | Loss: 160.5390\n",
            "F1-Score: 0.5859\n",
            "Epoch 00132 | Loss: 160.4026\n",
            "Epoch 00133 | Loss: 160.3944\n",
            "Epoch 00134 | Loss: 160.1704\n",
            "Epoch 00135 | Loss: 160.0402\n",
            "Epoch 00136 | Loss: 160.1216\n",
            "F1-Score: 0.5766\n",
            "Epoch 00137 | Loss: 160.1428\n",
            "Epoch 00138 | Loss: 159.9654\n",
            "Epoch 00139 | Loss: 159.7232\n",
            "Epoch 00140 | Loss: 159.5987\n",
            "Epoch 00141 | Loss: 159.3672\n",
            "F1-Score: 0.5994\n",
            "Epoch 00142 | Loss: 159.3178\n",
            "Epoch 00143 | Loss: 159.3123\n",
            "Epoch 00144 | Loss: 159.4345\n",
            "Epoch 00145 | Loss: 159.3888\n",
            "Epoch 00146 | Loss: 159.3653\n",
            "F1-Score: 0.5743\n",
            "Epoch 00147 | Loss: 159.5006\n",
            "Epoch 00148 | Loss: 159.5536\n",
            "Epoch 00149 | Loss: 159.4907\n",
            "Epoch 00150 | Loss: 159.4165\n",
            "Epoch 00151 | Loss: 159.4101\n",
            "F1-Score: 0.5807\n",
            "Epoch 00152 | Loss: 159.3990\n",
            "Epoch 00153 | Loss: 159.2500\n",
            "Epoch 00154 | Loss: 159.0238\n",
            "Epoch 00155 | Loss: 159.1320\n",
            "Epoch 00156 | Loss: 159.3057\n",
            "F1-Score: 0.5714\n",
            "Epoch 00157 | Loss: 159.3179\n",
            "Epoch 00158 | Loss: 159.2508\n",
            "Epoch 00159 | Loss: 159.2690\n",
            "Epoch 00160 | Loss: 159.1209\n",
            "Epoch 00161 | Loss: 159.0413\n",
            "F1-Score: 0.5759\n",
            "Epoch 00162 | Loss: 159.0784\n",
            "Epoch 00163 | Loss: 158.9130\n",
            "Epoch 00164 | Loss: 159.0849\n",
            "Epoch 00165 | Loss: 159.2159\n",
            "Epoch 00166 | Loss: 159.2975\n",
            "F1-Score: 0.5731\n",
            "Epoch 00167 | Loss: 158.9847\n",
            "Epoch 00168 | Loss: 158.8457\n",
            "Epoch 00169 | Loss: 158.8581\n",
            "Epoch 00170 | Loss: 158.6273\n",
            "Epoch 00171 | Loss: 158.3784\n",
            "F1-Score: 0.5748\n",
            "Epoch 00172 | Loss: 158.4252\n",
            "Epoch 00173 | Loss: 158.8822\n",
            "Epoch 00174 | Loss: 159.9896\n",
            "Epoch 00175 | Loss: 159.9545\n",
            "Epoch 00176 | Loss: 159.2434\n",
            "F1-Score: 0.5792\n",
            "Epoch 00177 | Loss: 158.8497\n",
            "Epoch 00178 | Loss: 158.4407\n",
            "Epoch 00179 | Loss: 158.3804\n",
            "Epoch 00180 | Loss: 158.3653\n",
            "Epoch 00181 | Loss: 158.2396\n",
            "F1-Score: 0.5764\n",
            "Epoch 00182 | Loss: 158.1253\n",
            "Epoch 00183 | Loss: 158.4406\n",
            "Epoch 00184 | Loss: 158.8836\n",
            "Epoch 00185 | Loss: 159.0901\n",
            "Epoch 00186 | Loss: 158.4796\n",
            "F1-Score: 0.5803\n",
            "Epoch 00187 | Loss: 158.1535\n",
            "Epoch 00188 | Loss: 158.0986\n",
            "Epoch 00189 | Loss: 158.0026\n",
            "Epoch 00190 | Loss: 157.9455\n",
            "Epoch 00191 | Loss: 158.2527\n",
            "F1-Score: 0.5712\n",
            "Epoch 00192 | Loss: 158.2866\n",
            "Epoch 00193 | Loss: 158.8303\n",
            "Epoch 00194 | Loss: 159.4706\n",
            "Epoch 00195 | Loss: 159.6628\n",
            "Epoch 00196 | Loss: 159.1783\n",
            "F1-Score: 0.5795\n",
            "Epoch 00197 | Loss: 158.5074\n",
            "Epoch 00198 | Loss: 158.0199\n",
            "Epoch 00199 | Loss: 157.6996\n",
            "Epoch 00200 | Loss: 157.7848\n"
          ]
        }
      ],
      "source": [
        "\n",
        "## Student model\n",
        "student_model = StudentModel(input_size = n_features, hidden_size = 256, output_size = n_classes).to(device)\n",
        "\n",
        "### DEFINE LOSS FUNCTION AND OPTIMIZER\n",
        "optimizer = torch.optim.Adam(student_model.parameters(), lr=0.01)\n",
        "loss_fcn = nn.CrossEntropyLoss()\n",
        "### TRAIN\n",
        "epoch_list, student_model_scores = train(student_model, loss_fcn, device, optimizer, max_epochs, train_dataloader, val_dataloader)"
      ]
    },
    {
      "cell_type": "markdown",
      "metadata": {
        "id": "aWatNTPBpQGY"
      },
      "source": [
        "Let's evaluate the performance of your model"
      ]
    },
    {
      "cell_type": "code",
      "execution_count": 36,
      "metadata": {
        "id": "WFWMqwDuSj7b",
        "colab": {
          "base_uri": "https://localhost:8080/",
          "height": 368
        },
        "outputId": "a9b9eeee-b44b-40ed-a4a4-dc5e36067ab9"
      },
      "outputs": [
        {
          "output_type": "stream",
          "name": "stdout",
          "text": [
            "Student Model : F1-Score on the test set: 0.8243\n"
          ]
        },
        {
          "output_type": "display_data",
          "data": {
            "text/plain": [
              "<Figure size 720x360 with 1 Axes>"
            ],
            "image/png": "[encoded data removed]"
          },
          "metadata": {
            "needs_background": "light"
          }
        }
      ],
      "source": [
        "score_test = evaluate(student_model, loss_fcn, device, test_dataloader)\n",
        "print(\"Student Model : F1-Score on the test set: {:.4f}\".format(score_test))\n",
        "\n",
        "def plot_f1_score(epoch_list, basic_model_scores, student_model_scores) :\n",
        "    plt.figure(figsize = [10,5])\n",
        "    plt.plot(epoch_list, basic_model_scores, 'b', label = \"Basic Model\")\n",
        "    plt.plot(epoch_list, student_model_scores, 'r', label = \"Student Model\")\n",
        "    plt.title(\"Evolution of f1 score w.r.t epochs\")\n",
        "    plt.ylim([0.0, 1.0])\n",
        "    plt.ylabel(\"Epochs\")\n",
        "    plt.xlabel(\"F1-Score\")\n",
        "    plt.legend()\n",
        "    plt.show()\n",
        "    \n",
        "plot_f1_score(epoch_list, basic_model_scores, student_model_scores)"
      ]
    },
    {
      "cell_type": "markdown",
      "metadata": {
        "id": "i9aVEYkuR3fp"
      },
      "source": [
        "## **PART 2 : QUESTIONS** (12/20)"
      ]
    },
    {
      "cell_type": "markdown",
      "metadata": {
        "id": "vZ-r6AWtR-Co"
      },
      "source": [
        "**1. Make a small paragraph that : (4pts)**\n",
        "1. Explains your achitecture and justify your choices (why the Graph Layer you chose is more efficient than the GCNLayer from the Basic Model?).\n",
        "2. Analyses your results (what is the F1-Score ? are your results convincing ? what is your position w.r.t state-of-the-art ?)."
      ]
    },
    {
      "cell_type": "markdown",
      "metadata": {
        "id": "4aiCvW4q5jRY"
      },
      "source": [
        "(ANSWER)"
      ]
    },
    {
      "cell_type": "markdown",
      "metadata": {
        "id": "5HIVqG4u5jfc"
      },
      "source": [
        "**2. Provide a diagramm of your architecture, which includes a good and clear legend as well as shapes information. The diagramm must be submitted as an external file, along with this notebook (PDF, JEPG or PNG format accepted). (2pts)**"
      ]
    },
    {
      "cell_type": "markdown",
      "metadata": {
        "id": "crMHLjkJ5pxl"
      },
      "source": [
        "**3. Make a small paragraph that explains: (6pts)**\n",
        "1. **What _oversmoothing_ is in the context of Graph Neural Network. Why is it an issue ?** <p>\n",
        "Oversmoothing in Graph Neural Networks (GNNs) refers to the phenomenon where the node representations become too similar after several layers of message passing, leading to a loss of discriminative power and hindering the GNN's ability to distinguish between nodes with different characteristics. This issue arises due to the aggregation process in each GNN layer, which can lead to an averaging effect. Oversmoothing is a particular concern in semi-supervised learning settings and can limit the GNN's ability to learn a meaningful classifier. Several techniques have been proposed to address this issue, including skip connections, residual connections, and adaptive normalization techniques, to preserve the discriminative power of node representations over multiple layers of message passing.\n",
        "\n",
        "2. **Are there solutions to overcome it ?** <p>\n",
        "Yes, there are several techniques that have been proposed to address the issue of oversmoothing in Graph Neural Networks (GNNs). One approach is to use skip connections or residual connections, similar to those used in convolutional neural networks (CNNs), to allow information to bypass some of the layers and preserve the original input information. Another approach is to use adaptive normalization techniques, such as layer normalization or batch normalization, to ensure that the node representations remain diverse across multiple layers of message passing. Additionally, some recent research has focused on developing new architectures for GNNs, such as graph attention networks or graph convolutional networks with attention mechanisms, that can selectively attend to different parts of the graph and avoid oversmoothing. These techniques have shown promise in improving the performance of GNNs on tasks that require the ability to distinguish between nodes with different characteristics.\n",
        "\n",
        "3. **Do you think the model you constructed is robust with respect to oversmoothing ? Why ?** <p>\n",
        "The model we constructed, which is a simple Graph Convolutional Network (GCN) with two layers of graph convolutions, may be susceptible to oversmoothing if used on large graphs or if the number of layers is increased. However, it is not possible to definitively say whether the model is robust to oversmoothing without evaluating its performance on a specific task and dataset. To make the GCN more robust to oversmoothing, we can incorporate some of the techniques that have been proposed to address this issue, such as skip connections, residual connections, or adaptive normalization techniques. Additionally, we can experiment with different numbers of layers, learning rates, and other hyperparameters to optimize the performance of the GCN on the task at hand. Ultimately, the robustness of a GNN model with respect to oversmoothing will depend on many factors, including the size and complexity of the graph, the amount of labeled data available, and the specific task being addressed. Therefore, it is important to carefully evaluate the performance of any GNN model on the target task and dataset, and to experiment with different architectures and hyperparameters to optimize its performance. <p>"
      ]
    }
  ],
  "metadata": {
    "accelerator": "GPU",
    "colab": {
      "provenance": []
    },
    "gpuClass": "standard",
    "kernelspec": {
      "display_name": "Python 3",
      "language": "python",
      "name": "python3"
    },
    "language_info": {
      "codemirror_mode": {
        "name": "ipython",
        "version": 3
      },
      "file_extension": ".py",
      "mimetype": "text/x-python",
      "name": "python",
      "nbconvert_exporter": "python",
      "pygments_lexer": "ipython3",
      "version": "3.7.6"
    }
  },
  "nbformat": 4,
  "nbformat_minor": 0
}