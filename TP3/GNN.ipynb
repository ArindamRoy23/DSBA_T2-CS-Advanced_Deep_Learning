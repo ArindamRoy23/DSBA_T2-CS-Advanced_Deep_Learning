{
  "cells": [
    {
      "cell_type": "markdown",
      "metadata": {
        "id": "nlCNZsWlOSfP"
      },
      "source": [
        "# Practical Session on Graph Neural Networks\n",
        "\n",
        "**by Matthieu Nastorg**"
      ]
    },
    {
      "cell_type": "markdown",
      "metadata": {
        "id": "p0RMEfCaEehI"
      },
      "source": [
        "## **PART 1 : CODING** (8/20)"
      ]
    },
    {
      "cell_type": "markdown",
      "metadata": {
        "id": "v5Lp4PasOby4"
      },
      "source": [
        "### Install Pytorch Geometric\n",
        "\n",
        "To handle graph data, we use the library Pytorch Geometric : https://pytorch-geometric.readthedocs.io/en/latest/\n",
        "\n",
        "*   If you use _Google Colab_, simply run the following cell to install Pytorch Geometric (**advised**).\n",
        "*   If you plan using your _own environment_, follow the documentation to install Pytorch Geometric : https://pytorch-geometric.readthedocs.io/en/latest/install/installation.html and skip the following cell."
      ]
    },
    {
      "cell_type": "code",
      "execution_count": 1,
      "metadata": {
        "colab": {
          "base_uri": "https://localhost:8080/",
          "height": 1000
        },
        "id": "buW3eZmrj1N2",
        "outputId": "f69e699b-6fad-44c2-b895-f13f3fadddcd"
      },
      "outputs": [
        {
          "output_type": "stream",
          "name": "stdout",
          "text": [
            "Looking in indexes: https://pypi.org/simple, https://us-python.pkg.dev/colab-wheels/public/simple/\n",
            "Looking in links: https://pytorch-geometric.com/whl/torch-1.13.1+cu116.html\n",
            "Collecting torch-scatter\n",
            "  Downloading https://data.pyg.org/whl/torch-1.13.0%2Bcu116/torch_scatter-2.1.0%2Bpt113cu116-cp38-cp38-linux_x86_64.whl (9.4 MB)\n",
            "\u001b[2K     \u001b[90m━━━━━━━━━━━━━━━━━━━━━━━━━━━━━━━━━━━━━━━━\u001b[0m \u001b[32m9.4/9.4 MB\u001b[0m \u001b[31m31.5 MB/s\u001b[0m eta \u001b[36m0:00:00\u001b[0m\n",
            "\u001b[?25hInstalling collected packages: torch-scatter\n",
            "Successfully installed torch-scatter-2.1.0+pt113cu116\n",
            "Looking in indexes: https://pypi.org/simple, https://us-python.pkg.dev/colab-wheels/public/simple/\n",
            "Looking in links: https://pytorch-geometric.com/whl/torch-1.13.1+cu116.html\n",
            "Collecting torch-sparse\n",
            "  Downloading https://data.pyg.org/whl/torch-1.13.0%2Bcu116/torch_sparse-0.6.16%2Bpt113cu116-cp38-cp38-linux_x86_64.whl (4.5 MB)\n",
            "\u001b[2K     \u001b[90m━━━━━━━━━━━━━━━━━━━━━━━━━━━━━━━━━━━━━━━━\u001b[0m \u001b[32m4.5/4.5 MB\u001b[0m \u001b[31m15.5 MB/s\u001b[0m eta \u001b[36m0:00:00\u001b[0m\n",
            "\u001b[?25hRequirement already satisfied: scipy in /usr/local/lib/python3.8/dist-packages (from torch-sparse) (1.10.1)\n",
            "Requirement already satisfied: numpy<1.27.0,>=1.19.5 in /usr/local/lib/python3.8/dist-packages (from scipy->torch-sparse) (1.22.4)\n",
            "Installing collected packages: torch-sparse\n",
            "Successfully installed torch-sparse-0.6.16+pt113cu116\n",
            "Looking in indexes: https://pypi.org/simple, https://us-python.pkg.dev/colab-wheels/public/simple/\n",
            "Looking in links: https://pytorch-geometric.com/whl/torch-1.13.1+cu116.html\n",
            "Collecting torch-cluster\n",
            "  Downloading https://data.pyg.org/whl/torch-1.13.0%2Bcu116/torch_cluster-1.6.0%2Bpt113cu116-cp38-cp38-linux_x86_64.whl (3.2 MB)\n",
            "\u001b[2K     \u001b[90m━━━━━━━━━━━━━━━━━━━━━━━━━━━━━━━━━━━━━━━━\u001b[0m \u001b[32m3.2/3.2 MB\u001b[0m \u001b[31m33.8 MB/s\u001b[0m eta \u001b[36m0:00:00\u001b[0m\n",
            "\u001b[?25hRequirement already satisfied: scipy in /usr/local/lib/python3.8/dist-packages (from torch-cluster) (1.10.1)\n",
            "Requirement already satisfied: numpy<1.27.0,>=1.19.5 in /usr/local/lib/python3.8/dist-packages (from scipy->torch-cluster) (1.22.4)\n",
            "Installing collected packages: torch-cluster\n",
            "Successfully installed torch-cluster-1.6.0+pt113cu116\n",
            "Looking in indexes: https://pypi.org/simple, https://us-python.pkg.dev/colab-wheels/public/simple/\n",
            "Looking in links: https://pytorch-geometric.com/whl/torch-1.13.1+cu116.html\n",
            "Collecting torch-spline-conv\n",
            "  Downloading https://data.pyg.org/whl/torch-1.13.0%2Bcu116/torch_spline_conv-1.2.1%2Bpt113cu116-cp38-cp38-linux_x86_64.whl (873 kB)\n",
            "\u001b[2K     \u001b[90m━━━━━━━━━━━━━━━━━━━━━━━━━━━━━━━━━━━━━━\u001b[0m \u001b[32m873.9/873.9 KB\u001b[0m \u001b[31m12.7 MB/s\u001b[0m eta \u001b[36m0:00:00\u001b[0m\n",
            "\u001b[?25hInstalling collected packages: torch-spline-conv\n",
            "Successfully installed torch-spline-conv-1.2.1+pt113cu116\n",
            "Looking in indexes: https://pypi.org/simple, https://us-python.pkg.dev/colab-wheels/public/simple/\n",
            "Collecting torch-geometric\n",
            "  Downloading torch_geometric-2.2.0.tar.gz (564 kB)\n",
            "\u001b[2K     \u001b[90m━━━━━━━━━━━━━━━━━━━━━━━━━━━━━━━━━━━━━━\u001b[0m \u001b[32m565.0/565.0 KB\u001b[0m \u001b[31m11.0 MB/s\u001b[0m eta \u001b[36m0:00:00\u001b[0m\n",
            "\u001b[?25h  Preparing metadata (setup.py) ... \u001b[?25l\u001b[?25hdone\n",
            "Requirement already satisfied: tqdm in /usr/local/lib/python3.8/dist-packages (from torch-geometric) (4.64.1)\n",
            "Requirement already satisfied: numpy in /usr/local/lib/python3.8/dist-packages (from torch-geometric) (1.22.4)\n",
            "Requirement already satisfied: scipy in /usr/local/lib/python3.8/dist-packages (from torch-geometric) (1.10.1)\n",
            "Requirement already satisfied: jinja2 in /usr/local/lib/python3.8/dist-packages (from torch-geometric) (3.1.2)\n",
            "Requirement already satisfied: requests in /usr/local/lib/python3.8/dist-packages (from torch-geometric) (2.25.1)\n",
            "Requirement already satisfied: pyparsing in /usr/local/lib/python3.8/dist-packages (from torch-geometric) (3.0.9)\n",
            "Requirement already satisfied: scikit-learn in /usr/local/lib/python3.8/dist-packages (from torch-geometric) (1.2.1)\n",
            "Collecting psutil>=5.8.0\n",
            "  Downloading psutil-5.9.4-cp36-abi3-manylinux_2_12_x86_64.manylinux2010_x86_64.manylinux_2_17_x86_64.manylinux2014_x86_64.whl (280 kB)\n",
            "\u001b[2K     \u001b[90m━━━━━━━━━━━━━━━━━━━━━━━━━━━━━━━━━━━━━━\u001b[0m \u001b[32m280.2/280.2 KB\u001b[0m \u001b[31m35.9 MB/s\u001b[0m eta \u001b[36m0:00:00\u001b[0m\n",
            "\u001b[?25hRequirement already satisfied: MarkupSafe>=2.0 in /usr/local/lib/python3.8/dist-packages (from jinja2->torch-geometric) (2.1.2)\n",
            "Requirement already satisfied: urllib3<1.27,>=1.21.1 in /usr/local/lib/python3.8/dist-packages (from requests->torch-geometric) (1.26.14)\n",
            "Requirement already satisfied: idna<3,>=2.5 in /usr/local/lib/python3.8/dist-packages (from requests->torch-geometric) (2.10)\n",
            "Requirement already satisfied: chardet<5,>=3.0.2 in /usr/local/lib/python3.8/dist-packages (from requests->torch-geometric) (4.0.0)\n",
            "Requirement already satisfied: certifi>=2017.4.17 in /usr/local/lib/python3.8/dist-packages (from requests->torch-geometric) (2022.12.7)\n",
            "Requirement already satisfied: joblib>=1.1.1 in /usr/local/lib/python3.8/dist-packages (from scikit-learn->torch-geometric) (1.2.0)\n",
            "Requirement already satisfied: threadpoolctl>=2.0.0 in /usr/local/lib/python3.8/dist-packages (from scikit-learn->torch-geometric) (3.1.0)\n",
            "Building wheels for collected packages: torch-geometric\n",
            "  Building wheel for torch-geometric (setup.py) ... \u001b[?25l\u001b[?25hdone\n",
            "  Created wheel for torch-geometric: filename=torch_geometric-2.2.0-py3-none-any.whl size=773302 sha256=49983f4d86b3e149ebf62167fa51c7b9a94cd213914c6623f59ac80cf05376e9\n",
            "  Stored in directory: /root/.cache/pip/wheels/59/a3/20/198928106d3169865ae73afcbd3d3d1796cf6b429b55c65378\n",
            "Successfully built torch-geometric\n",
            "Installing collected packages: psutil, torch-geometric\n",
            "  Attempting uninstall: psutil\n",
            "    Found existing installation: psutil 5.4.8\n",
            "    Uninstalling psutil-5.4.8:\n",
            "      Successfully uninstalled psutil-5.4.8\n",
            "Successfully installed psutil-5.9.4 torch-geometric-2.2.0\n"
          ]
        },
        {
          "output_type": "display_data",
          "data": {
            "application/vnd.colab-display-data+json": {
              "pip_warning": {
                "packages": [
                  "psutil"
                ]
              }
            }
          },
          "metadata": {}
        }
      ],
      "source": [
        "########## INSTALL TORCH GEOMETRIC ##################\n",
        "# https://pytorch-geometric.readthedocs.io/en/latest/ \n",
        "#####################################################\n",
        "import torch \n",
        "\n",
        "def format_pytorch_version(version):\n",
        "  return version.split('+')[0]\n",
        "\n",
        "TORCH_version = torch.__version__\n",
        "TORCH = format_pytorch_version(TORCH_version)\n",
        "\n",
        "def format_cuda_version(version):\n",
        "  return 'cu' + version.replace('.', '')\n",
        "\n",
        "CUDA_version = torch.version.cuda\n",
        "CUDA = format_cuda_version(CUDA_version)\n",
        "\n",
        "!pip install torch-scatter     -f https://pytorch-geometric.com/whl/torch-{TORCH}+{CUDA}.html\n",
        "!pip install torch-sparse      -f https://pytorch-geometric.com/whl/torch-{TORCH}+{CUDA}.html\n",
        "!pip install torch-cluster     -f https://pytorch-geometric.com/whl/torch-{TORCH}+{CUDA}.html\n",
        "!pip install torch-spline-conv -f https://pytorch-geometric.com/whl/torch-{TORCH}+{CUDA}.html\n",
        "!pip install torch-geometric"
      ]
    },
    {
      "cell_type": "markdown",
      "metadata": {
        "id": "04JPKXjDclTj"
      },
      "source": [
        "### Import required packages\n",
        "\n",
        "Run the following cell to import all required packages. This cell **must not** be modified.\n",
        "\n",
        "To significantly accelerate your training, it is advised to use GPU. Using Google Colab, you need to activate it : \n",
        "\n",
        "*   Edit --> Notebook Setting --> Hardware accelerator --> GPU"
      ]
    },
    {
      "cell_type": "code",
      "execution_count": 3,
      "metadata": {
        "id": "qXGDmBMYgA_x"
      },
      "outputs": [],
      "source": [
        "#####################################################\n",
        "################## PACKAGES #########################\n",
        "#####################################################\n",
        "import numpy as np\n",
        "import matplotlib.pyplot as plt\n",
        "\n",
        "import torch.nn as nn\n",
        "import torch_geometric.nn as graphnn\n",
        "from sklearn.metrics import f1_score\n",
        "from torch_geometric.datasets import PPI\n",
        "from torch_geometric.loader import DataLoader\n",
        "import torch.nn.functional as F"
      ]
    },
    {
      "cell_type": "markdown",
      "metadata": {
        "id": "3UvCNG8FgdS-"
      },
      "source": [
        "### Dataset\n",
        "\n",
        "We use the Protein-Protein Interaction (PPI) network dataset which includes:\n",
        "- 20 graphs for training \n",
        "- 2 graphs for validation\n",
        "- 2 graphs for testing\n",
        "\n",
        "One graph of the PPI dataset has on average 2372 nodes. Each node:\n",
        "- 50 features : positional gene sets / motif gene / immunological signatures ...\n",
        "- 121 (binary) labels : gene ontology sets (way to classify gene products like proteins).\n",
        "\n",
        "**This problem aims to predict, for a given PPI graph, the correct node's labels**.\n",
        "\n",
        "**It is a node (multi-level) classification task** (trained using supervised learning). \n",
        "\n",
        "For your curiosity, more details information on the dataset and some applications:\n",
        "- https://cs.stanford.edu/~jure/pubs/pathways-psb18.pdf\n",
        "- https://arxiv.org/abs/1707.04638\n",
        "\n",
        "To understand how a graph data is implemented in Pytorch Geometric, refer to : https://pytorch-geometric.readthedocs.io/en/latest/get_started/introduction.html\n"
      ]
    },
    {
      "cell_type": "code",
      "execution_count": 4,
      "metadata": {
        "colab": {
          "base_uri": "https://localhost:8080/"
        },
        "id": "IwdNhvzVNkZB",
        "outputId": "a9704723-efe4-4d48-bbfd-c32fbc151297"
      },
      "outputs": [
        {
          "output_type": "stream",
          "name": "stderr",
          "text": [
            "Downloading https://data.dgl.ai/dataset/ppi.zip\n",
            "Extracting ./ppi.zip\n",
            "Processing...\n"
          ]
        },
        {
          "output_type": "stream",
          "name": "stdout",
          "text": [
            "Number of samples in the train dataset:  20\n",
            "Number of samples in the val dataset:  2\n",
            "Number of samples in the test dataset:  2\n",
            "Output of one sample from the train dataset:  Data(x=[1767, 50], edge_index=[2, 32318], y=[1767, 121])\n",
            "Edge_index :\n",
            "tensor([[   0,    0,    0,  ..., 1744, 1745, 1749],\n",
            "        [ 372, 1101,  766,  ..., 1745, 1744, 1739]])\n",
            "Number of features per node:  50\n",
            "Number of classes per node:  121\n"
          ]
        },
        {
          "output_type": "stream",
          "name": "stderr",
          "text": [
            "Done!\n"
          ]
        }
      ],
      "source": [
        "### LOAD DATASETS\n",
        "\n",
        "BATCH_SIZE = 2 \n",
        "\n",
        "# Train Dataset\n",
        "train_dataset = PPI(root=\"\", split='train')\n",
        "train_dataloader = DataLoader(train_dataset, batch_size=BATCH_SIZE)\n",
        "# Val Dataset\n",
        "val_dataset = PPI(root=\"\", split='val')\n",
        "val_dataloader = DataLoader(val_dataset, batch_size=BATCH_SIZE)\n",
        "# Test Dataset\n",
        "test_dataset = PPI(root=\"\", split='test')\n",
        "test_dataloader = DataLoader(test_dataset, batch_size=BATCH_SIZE)\n",
        "\n",
        "# Number of features and classes\n",
        "n_features, n_classes = train_dataset[0].x.shape[1], train_dataset[0].y.shape[1]\n",
        "\n",
        "print(\"Number of samples in the train dataset: \", len(train_dataset))\n",
        "print(\"Number of samples in the val dataset: \", len(test_dataset))\n",
        "print(\"Number of samples in the test dataset: \", len(test_dataset))\n",
        "print(\"Output of one sample from the train dataset: \", train_dataset[0])\n",
        "print(\"Edge_index :\")\n",
        "print(train_dataset[0].edge_index)\n",
        "print(\"Number of features per node: \", n_features)\n",
        "print(\"Number of classes per node: \", n_classes)"
      ]
    },
    {
      "cell_type": "markdown",
      "metadata": {
        "id": "hiCcn9qeO6Nm"
      },
      "source": [
        "### Define a basic Model"
      ]
    },
    {
      "cell_type": "markdown",
      "metadata": {
        "id": "8RjzEiJ-eVot"
      },
      "source": [
        "Here we define a very simple Graph Neural Network model which will be used as our baseline. This model consists of three graph convolutional layers (from https://arxiv.org/pdf/1609.02907.pdf). The first two layers computes 256 features, followed by an ELU activation function. The last layer is used for (multi-level) classification task, computing 121 features."
      ]
    },
    {
      "cell_type": "code",
      "execution_count": 5,
      "metadata": {
        "id": "2Km-GN1aMpd_"
      },
      "outputs": [],
      "source": [
        "#####################################################\n",
        "################## MODEL ############################\n",
        "#####################################################\n",
        "class BasicGraphModel(nn.Module):\n",
        "\n",
        "    def __init__(self, input_size, hidden_size, output_size):\n",
        "        super().__init__()\n",
        "\n",
        "        self.graphconv1 = graphnn.GCNConv(input_size, hidden_size)\n",
        "        self.graphconv2 = graphnn.GCNConv(hidden_size, hidden_size)\n",
        "        self.graphconv3 = graphnn.GCNConv(hidden_size, output_size)\n",
        "\n",
        "        self.elu = nn.ELU()\n",
        "\n",
        "    def forward(self, x, edge_index):\n",
        "\n",
        "        x = self.graphconv1(x, edge_index)\n",
        "        x = self.elu(x)\n",
        "        x = self.graphconv2(x, edge_index)\n",
        "        x = self.elu(x)\n",
        "        x = self.graphconv3(x, edge_index)\n",
        "\n",
        "        return x"
      ]
    },
    {
      "cell_type": "markdown",
      "metadata": {
        "id": "6ekk0TrOktOB"
      },
      "source": [
        "Next we construct the function to train the model."
      ]
    },
    {
      "cell_type": "code",
      "execution_count": 6,
      "metadata": {
        "id": "m4lneoadMxqy"
      },
      "outputs": [],
      "source": [
        "#####################################################\n",
        "############## TRAIN FUNCTION #######################\n",
        "#####################################################\n",
        "def train(model, loss_fcn, device, optimizer, max_epochs, train_dataloader, val_dataloader):\n",
        "\n",
        "    epoch_list = []\n",
        "    scores_list = []\n",
        "\n",
        "    # loop over epochs\n",
        "    for epoch in range(max_epochs):\n",
        "        model.train()\n",
        "        losses = []\n",
        "        # loop over batches\n",
        "        for i, train_batch in enumerate(train_dataloader):\n",
        "            optimizer.zero_grad()\n",
        "            train_batch_device = train_batch.to(device)\n",
        "            # logits is the output of the model\n",
        "            logits = model(train_batch_device.x, train_batch_device.edge_index)\n",
        "            # compute the loss\n",
        "            loss = loss_fcn(logits, train_batch_device.y)\n",
        "            # optimizer step\n",
        "            loss.backward()\n",
        "            optimizer.step()\n",
        "            losses.append(loss.item())\n",
        "        loss_data = np.array(losses).mean()\n",
        "        print(\"Epoch {:05d} | Loss: {:.4f}\".format(epoch + 1, loss_data))\n",
        "\n",
        "        if epoch % 5 == 0:\n",
        "            # evaluate the model on the validation set\n",
        "            # computes the f1-score (see next function)\n",
        "            score = evaluate(model, loss_fcn, device, val_dataloader)\n",
        "            print(\"F1-Score: {:.4f}\".format(score))\n",
        "            scores_list.append(score)\n",
        "            epoch_list.append(epoch)\n",
        "\n",
        "    return epoch_list, scores_list"
      ]
    },
    {
      "cell_type": "markdown",
      "metadata": {
        "id": "PTd9OqaelLni"
      },
      "source": [
        "Next function is designed to evaluate the performance of the model, computing the F1-Score"
      ]
    },
    {
      "cell_type": "code",
      "execution_count": 7,
      "metadata": {
        "id": "PajZzg5zM7V1"
      },
      "outputs": [],
      "source": [
        "#####################################################\n",
        "############### TEST FUNCTION #######################\n",
        "#####################################################\n",
        "def evaluate(model, loss_fcn, device, dataloader):\n",
        "\n",
        "    score_list_batch = []\n",
        "\n",
        "    model.eval()\n",
        "    for i, batch in enumerate(dataloader):\n",
        "        batch = batch.to(device)\n",
        "        output = model(batch.x, batch.edge_index)\n",
        "        loss_test = loss_fcn(output, batch.y)\n",
        "        predict = np.where(output.detach().cpu().numpy() >= 0, 1, 0)\n",
        "        score = f1_score(batch.y.cpu().numpy(), predict, average=\"micro\")\n",
        "        score_list_batch.append(score)\n",
        "\n",
        "    return np.array(score_list_batch).mean()"
      ]
    },
    {
      "cell_type": "markdown",
      "metadata": {
        "id": "EilgopwMlpsu"
      },
      "source": [
        "Let's train this model !"
      ]
    },
    {
      "cell_type": "code",
      "execution_count": 8,
      "metadata": {
        "colab": {
          "base_uri": "https://localhost:8080/"
        },
        "id": "Xkqo7e0gNACE",
        "outputId": "0c4f8387-ee94-43a9-81fc-63abb5f8d8ef"
      },
      "outputs": [
        {
          "output_type": "stream",
          "name": "stdout",
          "text": [
            "\n",
            "Device:  cuda\n",
            "Epoch 00001 | Loss: 0.6381\n",
            "F1-Score: 0.4429\n",
            "Epoch 00002 | Loss: 0.5812\n",
            "Epoch 00003 | Loss: 0.5627\n",
            "Epoch 00004 | Loss: 0.5556\n",
            "Epoch 00005 | Loss: 0.5507\n",
            "Epoch 00006 | Loss: 0.5459\n",
            "F1-Score: 0.5128\n",
            "Epoch 00007 | Loss: 0.5423\n",
            "Epoch 00008 | Loss: 0.5381\n",
            "Epoch 00009 | Loss: 0.5340\n",
            "Epoch 00010 | Loss: 0.5308\n",
            "Epoch 00011 | Loss: 0.5281\n",
            "F1-Score: 0.5175\n",
            "Epoch 00012 | Loss: 0.5255\n",
            "Epoch 00013 | Loss: 0.5229\n",
            "Epoch 00014 | Loss: 0.5205\n",
            "Epoch 00015 | Loss: 0.5182\n",
            "Epoch 00016 | Loss: 0.5159\n",
            "F1-Score: 0.5337\n",
            "Epoch 00017 | Loss: 0.5136\n",
            "Epoch 00018 | Loss: 0.5114\n",
            "Epoch 00019 | Loss: 0.5092\n",
            "Epoch 00020 | Loss: 0.5071\n",
            "Epoch 00021 | Loss: 0.5049\n",
            "F1-Score: 0.5439\n",
            "Epoch 00022 | Loss: 0.5029\n",
            "Epoch 00023 | Loss: 0.5009\n",
            "Epoch 00024 | Loss: 0.4990\n",
            "Epoch 00025 | Loss: 0.4970\n",
            "Epoch 00026 | Loss: 0.4952\n",
            "F1-Score: 0.5560\n",
            "Epoch 00027 | Loss: 0.4934\n",
            "Epoch 00028 | Loss: 0.4917\n",
            "Epoch 00029 | Loss: 0.4901\n",
            "Epoch 00030 | Loss: 0.4888\n",
            "Epoch 00031 | Loss: 0.4877\n",
            "F1-Score: 0.5660\n",
            "Epoch 00032 | Loss: 0.4868\n",
            "Epoch 00033 | Loss: 0.4862\n",
            "Epoch 00034 | Loss: 0.4839\n",
            "Epoch 00035 | Loss: 0.4822\n",
            "Epoch 00036 | Loss: 0.4813\n",
            "F1-Score: 0.5636\n",
            "Epoch 00037 | Loss: 0.4805\n",
            "Epoch 00038 | Loss: 0.4790\n",
            "Epoch 00039 | Loss: 0.4789\n",
            "Epoch 00040 | Loss: 0.4783\n",
            "Epoch 00041 | Loss: 0.4774\n",
            "F1-Score: 0.5579\n",
            "Epoch 00042 | Loss: 0.4762\n",
            "Epoch 00043 | Loss: 0.4728\n",
            "Epoch 00044 | Loss: 0.4704\n",
            "Epoch 00045 | Loss: 0.4687\n",
            "Epoch 00046 | Loss: 0.4675\n",
            "F1-Score: 0.5633\n",
            "Epoch 00047 | Loss: 0.4663\n",
            "Epoch 00048 | Loss: 0.4654\n",
            "Epoch 00049 | Loss: 0.4640\n",
            "Epoch 00050 | Loss: 0.4637\n",
            "Epoch 00051 | Loss: 0.4626\n",
            "F1-Score: 0.5619\n",
            "Epoch 00052 | Loss: 0.4618\n",
            "Epoch 00053 | Loss: 0.4607\n",
            "Epoch 00054 | Loss: 0.4594\n",
            "Epoch 00055 | Loss: 0.4588\n",
            "Epoch 00056 | Loss: 0.4580\n",
            "F1-Score: 0.5705\n",
            "Epoch 00057 | Loss: 0.4564\n",
            "Epoch 00058 | Loss: 0.4560\n",
            "Epoch 00059 | Loss: 0.4543\n",
            "Epoch 00060 | Loss: 0.4535\n",
            "Epoch 00061 | Loss: 0.4527\n",
            "F1-Score: 0.5924\n",
            "Epoch 00062 | Loss: 0.4523\n",
            "Epoch 00063 | Loss: 0.4512\n",
            "Epoch 00064 | Loss: 0.4507\n",
            "Epoch 00065 | Loss: 0.4500\n",
            "Epoch 00066 | Loss: 0.4499\n",
            "F1-Score: 0.6054\n",
            "Epoch 00067 | Loss: 0.4497\n",
            "Epoch 00068 | Loss: 0.4479\n",
            "Epoch 00069 | Loss: 0.4466\n",
            "Epoch 00070 | Loss: 0.4472\n",
            "Epoch 00071 | Loss: 0.4476\n",
            "F1-Score: 0.5655\n",
            "Epoch 00072 | Loss: 0.4461\n",
            "Epoch 00073 | Loss: 0.4461\n",
            "Epoch 00074 | Loss: 0.4468\n",
            "Epoch 00075 | Loss: 0.4457\n",
            "Epoch 00076 | Loss: 0.4468\n",
            "F1-Score: 0.6001\n",
            "Epoch 00077 | Loss: 0.4432\n",
            "Epoch 00078 | Loss: 0.4439\n",
            "Epoch 00079 | Loss: 0.4414\n",
            "Epoch 00080 | Loss: 0.4402\n",
            "Epoch 00081 | Loss: 0.4397\n",
            "F1-Score: 0.6016\n",
            "Epoch 00082 | Loss: 0.4388\n",
            "Epoch 00083 | Loss: 0.4377\n",
            "Epoch 00084 | Loss: 0.4369\n",
            "Epoch 00085 | Loss: 0.4363\n",
            "Epoch 00086 | Loss: 0.4357\n",
            "F1-Score: 0.5868\n",
            "Epoch 00087 | Loss: 0.4346\n",
            "Epoch 00088 | Loss: 0.4351\n",
            "Epoch 00089 | Loss: 0.4346\n",
            "Epoch 00090 | Loss: 0.4344\n",
            "Epoch 00091 | Loss: 0.4340\n",
            "F1-Score: 0.5911\n",
            "Epoch 00092 | Loss: 0.4334\n",
            "Epoch 00093 | Loss: 0.4323\n",
            "Epoch 00094 | Loss: 0.4315\n",
            "Epoch 00095 | Loss: 0.4306\n",
            "Epoch 00096 | Loss: 0.4294\n",
            "F1-Score: 0.5985\n",
            "Epoch 00097 | Loss: 0.4285\n",
            "Epoch 00098 | Loss: 0.4284\n",
            "Epoch 00099 | Loss: 0.4278\n",
            "Epoch 00100 | Loss: 0.4265\n",
            "Epoch 00101 | Loss: 0.4262\n",
            "F1-Score: 0.6183\n",
            "Epoch 00102 | Loss: 0.4261\n",
            "Epoch 00103 | Loss: 0.4256\n",
            "Epoch 00104 | Loss: 0.4265\n",
            "Epoch 00105 | Loss: 0.4257\n",
            "Epoch 00106 | Loss: 0.4259\n",
            "F1-Score: 0.6074\n",
            "Epoch 00107 | Loss: 0.4250\n",
            "Epoch 00108 | Loss: 0.4257\n",
            "Epoch 00109 | Loss: 0.4258\n",
            "Epoch 00110 | Loss: 0.4278\n",
            "Epoch 00111 | Loss: 0.4257\n",
            "F1-Score: 0.6179\n",
            "Epoch 00112 | Loss: 0.4246\n",
            "Epoch 00113 | Loss: 0.4238\n",
            "Epoch 00114 | Loss: 0.4228\n",
            "Epoch 00115 | Loss: 0.4225\n",
            "Epoch 00116 | Loss: 0.4203\n",
            "F1-Score: 0.6230\n",
            "Epoch 00117 | Loss: 0.4189\n",
            "Epoch 00118 | Loss: 0.4188\n",
            "Epoch 00119 | Loss: 0.4185\n",
            "Epoch 00120 | Loss: 0.4183\n",
            "Epoch 00121 | Loss: 0.4179\n",
            "F1-Score: 0.6279\n",
            "Epoch 00122 | Loss: 0.4169\n",
            "Epoch 00123 | Loss: 0.4175\n",
            "Epoch 00124 | Loss: 0.4175\n",
            "Epoch 00125 | Loss: 0.4190\n",
            "Epoch 00126 | Loss: 0.4220\n",
            "F1-Score: 0.6354\n",
            "Epoch 00127 | Loss: 0.4206\n",
            "Epoch 00128 | Loss: 0.4203\n",
            "Epoch 00129 | Loss: 0.4206\n",
            "Epoch 00130 | Loss: 0.4203\n",
            "Epoch 00131 | Loss: 0.4206\n",
            "F1-Score: 0.6208\n",
            "Epoch 00132 | Loss: 0.4232\n",
            "Epoch 00133 | Loss: 0.4186\n",
            "Epoch 00134 | Loss: 0.4192\n",
            "Epoch 00135 | Loss: 0.4214\n",
            "Epoch 00136 | Loss: 0.4215\n",
            "F1-Score: 0.5943\n",
            "Epoch 00137 | Loss: 0.4228\n",
            "Epoch 00138 | Loss: 0.4222\n",
            "Epoch 00139 | Loss: 0.4227\n",
            "Epoch 00140 | Loss: 0.4191\n",
            "Epoch 00141 | Loss: 0.4195\n",
            "F1-Score: 0.6051\n",
            "Epoch 00142 | Loss: 0.4198\n",
            "Epoch 00143 | Loss: 0.4192\n",
            "Epoch 00144 | Loss: 0.4183\n",
            "Epoch 00145 | Loss: 0.4178\n",
            "Epoch 00146 | Loss: 0.4183\n",
            "F1-Score: 0.6445\n",
            "Epoch 00147 | Loss: 0.4163\n",
            "Epoch 00148 | Loss: 0.4146\n",
            "Epoch 00149 | Loss: 0.4142\n",
            "Epoch 00150 | Loss: 0.4136\n",
            "Epoch 00151 | Loss: 0.4151\n",
            "F1-Score: 0.6399\n",
            "Epoch 00152 | Loss: 0.4221\n",
            "Epoch 00153 | Loss: 0.4238\n",
            "Epoch 00154 | Loss: 0.4240\n",
            "Epoch 00155 | Loss: 0.4221\n",
            "Epoch 00156 | Loss: 0.4280\n",
            "F1-Score: 0.6413\n",
            "Epoch 00157 | Loss: 0.4244\n",
            "Epoch 00158 | Loss: 0.4198\n",
            "Epoch 00159 | Loss: 0.4157\n",
            "Epoch 00160 | Loss: 0.4166\n",
            "Epoch 00161 | Loss: 0.4138\n",
            "F1-Score: 0.6379\n",
            "Epoch 00162 | Loss: 0.4146\n",
            "Epoch 00163 | Loss: 0.4115\n",
            "Epoch 00164 | Loss: 0.4097\n",
            "Epoch 00165 | Loss: 0.4098\n",
            "Epoch 00166 | Loss: 0.4088\n",
            "F1-Score: 0.6332\n",
            "Epoch 00167 | Loss: 0.4089\n",
            "Epoch 00168 | Loss: 0.4075\n",
            "Epoch 00169 | Loss: 0.4074\n",
            "Epoch 00170 | Loss: 0.4049\n",
            "Epoch 00171 | Loss: 0.4048\n",
            "F1-Score: 0.6305\n",
            "Epoch 00172 | Loss: 0.4034\n",
            "Epoch 00173 | Loss: 0.4027\n",
            "Epoch 00174 | Loss: 0.4020\n",
            "Epoch 00175 | Loss: 0.4019\n",
            "Epoch 00176 | Loss: 0.4025\n",
            "F1-Score: 0.6409\n",
            "Epoch 00177 | Loss: 0.4025\n",
            "Epoch 00178 | Loss: 0.4039\n",
            "Epoch 00179 | Loss: 0.4034\n",
            "Epoch 00180 | Loss: 0.4053\n",
            "Epoch 00181 | Loss: 0.4061\n",
            "F1-Score: 0.6195\n",
            "Epoch 00182 | Loss: 0.4081\n",
            "Epoch 00183 | Loss: 0.4087\n",
            "Epoch 00184 | Loss: 0.4086\n",
            "Epoch 00185 | Loss: 0.4083\n",
            "Epoch 00186 | Loss: 0.4068\n",
            "F1-Score: 0.6193\n",
            "Epoch 00187 | Loss: 0.4040\n",
            "Epoch 00188 | Loss: 0.4053\n",
            "Epoch 00189 | Loss: 0.4062\n",
            "Epoch 00190 | Loss: 0.4062\n",
            "Epoch 00191 | Loss: 0.4071\n",
            "F1-Score: 0.6567\n",
            "Epoch 00192 | Loss: 0.4099\n",
            "Epoch 00193 | Loss: 0.4161\n",
            "Epoch 00194 | Loss: 0.4137\n",
            "Epoch 00195 | Loss: 0.4116\n",
            "Epoch 00196 | Loss: 0.4111\n",
            "F1-Score: 0.6486\n",
            "Epoch 00197 | Loss: 0.4074\n",
            "Epoch 00198 | Loss: 0.4045\n",
            "Epoch 00199 | Loss: 0.4044\n",
            "Epoch 00200 | Loss: 0.4037\n"
          ]
        }
      ],
      "source": [
        "### DEVICE GPU OR CPU : will select GPU if available\n",
        "device = torch.device('cuda' if torch.cuda.is_available() else 'cpu')\n",
        "print(\"\\nDevice: \", device)\n",
        "\n",
        "### Max number of epochs\n",
        "max_epochs = 200\n",
        "\n",
        "### DEFINE THE MODEL\n",
        "basic_model = BasicGraphModel(  input_size = n_features, \n",
        "                                hidden_size = 256, \n",
        "                                output_size = n_classes).to(device)\n",
        "\n",
        "### DEFINE LOSS FUNCTION\n",
        "loss_fcn = nn.BCEWithLogitsLoss()\n",
        "\n",
        "### DEFINE OPTIMIZER\n",
        "optimizer = torch.optim.Adam(basic_model.parameters(), lr=0.005)\n",
        "\n",
        "### TRAIN THE MODEL\n",
        "epoch_list, basic_model_scores = train(basic_model, loss_fcn, device, optimizer, max_epochs, train_dataloader, val_dataloader)"
      ]
    },
    {
      "cell_type": "markdown",
      "metadata": {
        "id": "2sGc5g7Xmap2"
      },
      "source": [
        "Let's evaluate the performance of this basic model"
      ]
    },
    {
      "cell_type": "code",
      "execution_count": 9,
      "metadata": {
        "colab": {
          "base_uri": "https://localhost:8080/",
          "height": 354
        },
        "id": "ztfbbg2TNP7F",
        "outputId": "4eb8027e-d124-4a32-862c-1d4e0681a979"
      },
      "outputs": [
        {
          "output_type": "stream",
          "name": "stdout",
          "text": [
            "Basic Model : F1-Score on the test set: 0.6371\n"
          ]
        },
        {
          "output_type": "display_data",
          "data": {
            "text/plain": [
              "<Figure size 720x360 with 1 Axes>"
            ],
            "image/png": "[encoded data removed]"
          },
          "metadata": {
            "needs_background": "light"
          }
        }
      ],
      "source": [
        "### F1-SCORE ON TEST DATASET\n",
        "score_test = evaluate(basic_model, loss_fcn, device, test_dataloader)\n",
        "print(\"Basic Model : F1-Score on the test set: {:.4f}\".format(score_test))\n",
        "\n",
        "### PLOT EVOLUTION OF F1-SCORE W.R.T EPOCHS\n",
        "def plot_f1_score(epoch_list, scores) :\n",
        "    plt.figure(figsize=[10,5])\n",
        "    plt.plot(epoch_list, scores)\n",
        "    plt.title(\"Evolution of F1S-Score w.r.t epochs\")\n",
        "    plt.ylim([0.0, 1.0])\n",
        "    plt.show()\n",
        "    \n",
        "plot_f1_score(epoch_list, basic_model_scores)"
      ]
    },
    {
      "cell_type": "markdown",
      "metadata": {
        "id": "TRVsy5vLnWm_"
      },
      "source": [
        "### Define a better model\n",
        "\n",
        "Now, it's your turn to improve this basic model ! To do so, complete whenever ###### YOUR ANSWER ######## and run the two following cells.\n",
        "\n",
        "**HINT :** https://arxiv.org/pdf/1710.10903.pdf"
      ]
    },
    {
      "cell_type": "code",
      "execution_count": 32,
      "metadata": {
        "id": "qTo7PxFpRHzL"
      },
      "outputs": [],
      "source": [
        "class StudentModel(nn.Module):\n",
        "  def __init__(self, input_size, hidden_size, output_size):\n",
        "      super(StudentModel, self).__init__()\n",
        "      self.conv1 = graphnn.GCNConv(input_size, hidden_size)\n",
        "      self.conv2 = graphnn.GCNConv(hidden_size, hidden_size)\n",
        "      self.conv3 = graphnn.GCNConv(hidden_size, hidden_size)\n",
        "      self.fc = nn.Linear(hidden_size, output_size)\n",
        "      \n",
        "      ####### YOUR ANSWER #######\n",
        "      \n",
        "  def forward(self, x, edge_index):\n",
        "    x = F.relu(self.conv1(x, edge_index))\n",
        "    x = F.relu(self.conv2(x, edge_index))\n",
        "    x = F.relu(self.conv3(x, edge_index))\n",
        "    x = self.fc(x)\n",
        "    return x\n",
        "\n",
        "      ####### YOUR ANSWER #######"
      ]
    },
    {
      "cell_type": "markdown",
      "metadata": {
        "id": "4yGdQ2uxpCAX"
      },
      "source": [
        "Let's train your model !"
      ]
    },
    {
      "cell_type": "code",
      "execution_count": 33,
      "metadata": {
        "id": "6XIYzkYRo3AQ",
        "colab": {
          "base_uri": "https://localhost:8080/"
        },
        "outputId": "b4409487-f629-4e1a-99e7-7fd602543ca0"
      },
      "outputs": [
        {
          "output_type": "stream",
          "name": "stdout",
          "text": [
            "Epoch 00001 | Loss: 0.6192\n",
            "F1-Score: 0.4155\n",
            "Epoch 00002 | Loss: 0.5778\n",
            "Epoch 00003 | Loss: 0.5584\n",
            "Epoch 00004 | Loss: 0.5535\n",
            "Epoch 00005 | Loss: 0.5474\n",
            "Epoch 00006 | Loss: 0.5394\n",
            "F1-Score: 0.4357\n",
            "Epoch 00007 | Loss: 0.5280\n",
            "Epoch 00008 | Loss: 0.5231\n",
            "Epoch 00009 | Loss: 0.5195\n",
            "Epoch 00010 | Loss: 0.5186\n",
            "Epoch 00011 | Loss: 0.5126\n",
            "F1-Score: 0.5075\n",
            "Epoch 00012 | Loss: 0.5102\n",
            "Epoch 00013 | Loss: 0.5082\n",
            "Epoch 00014 | Loss: 0.5061\n",
            "Epoch 00015 | Loss: 0.5022\n",
            "Epoch 00016 | Loss: 0.4961\n",
            "F1-Score: 0.5218\n",
            "Epoch 00017 | Loss: 0.4926\n",
            "Epoch 00018 | Loss: 0.4892\n",
            "Epoch 00019 | Loss: 0.4889\n",
            "Epoch 00020 | Loss: 0.4840\n",
            "Epoch 00021 | Loss: 0.4821\n",
            "F1-Score: 0.5438\n",
            "Epoch 00022 | Loss: 0.4790\n",
            "Epoch 00023 | Loss: 0.4763\n",
            "Epoch 00024 | Loss: 0.4930\n",
            "Epoch 00025 | Loss: 0.4850\n",
            "Epoch 00026 | Loss: 0.4805\n",
            "F1-Score: 0.5663\n",
            "Epoch 00027 | Loss: 0.4823\n",
            "Epoch 00028 | Loss: 0.4766\n",
            "Epoch 00029 | Loss: 0.4726\n",
            "Epoch 00030 | Loss: 0.4726\n",
            "Epoch 00031 | Loss: 0.4741\n",
            "F1-Score: 0.5758\n",
            "Epoch 00032 | Loss: 0.4756\n",
            "Epoch 00033 | Loss: 0.4719\n",
            "Epoch 00034 | Loss: 0.4654\n",
            "Epoch 00035 | Loss: 0.4630\n",
            "Epoch 00036 | Loss: 0.4642\n",
            "F1-Score: 0.5848\n",
            "Epoch 00037 | Loss: 0.4687\n",
            "Epoch 00038 | Loss: 0.4649\n",
            "Epoch 00039 | Loss: 0.4613\n",
            "Epoch 00040 | Loss: 0.4557\n",
            "Epoch 00041 | Loss: 0.4526\n",
            "F1-Score: 0.5688\n",
            "Epoch 00042 | Loss: 0.4508\n",
            "Epoch 00043 | Loss: 0.4491\n",
            "Epoch 00044 | Loss: 0.4487\n",
            "Epoch 00045 | Loss: 0.4486\n",
            "Epoch 00046 | Loss: 0.4485\n",
            "F1-Score: 0.5637\n",
            "Epoch 00047 | Loss: 0.4476\n",
            "Epoch 00048 | Loss: 0.4503\n",
            "Epoch 00049 | Loss: 0.4608\n",
            "Epoch 00050 | Loss: 0.4677\n",
            "Epoch 00051 | Loss: 0.4570\n",
            "F1-Score: 0.5764\n",
            "Epoch 00052 | Loss: 0.4476\n",
            "Epoch 00053 | Loss: 0.4445\n",
            "Epoch 00054 | Loss: 0.4424\n",
            "Epoch 00055 | Loss: 0.4401\n",
            "Epoch 00056 | Loss: 0.4362\n",
            "F1-Score: 0.5996\n",
            "Epoch 00057 | Loss: 0.4326\n",
            "Epoch 00058 | Loss: 0.4304\n",
            "Epoch 00059 | Loss: 0.4299\n",
            "Epoch 00060 | Loss: 0.4304\n",
            "Epoch 00061 | Loss: 0.4344\n",
            "F1-Score: 0.5860\n",
            "Epoch 00062 | Loss: 0.4334\n",
            "Epoch 00063 | Loss: 0.4299\n",
            "Epoch 00064 | Loss: 0.4269\n",
            "Epoch 00065 | Loss: 0.4273\n",
            "Epoch 00066 | Loss: 0.4275\n",
            "F1-Score: 0.6033\n",
            "Epoch 00067 | Loss: 0.4277\n",
            "Epoch 00068 | Loss: 0.4385\n",
            "Epoch 00069 | Loss: 0.4492\n",
            "Epoch 00070 | Loss: 0.4314\n",
            "Epoch 00071 | Loss: 0.4243\n",
            "F1-Score: 0.6317\n",
            "Epoch 00072 | Loss: 0.4202\n",
            "Epoch 00073 | Loss: 0.4154\n",
            "Epoch 00074 | Loss: 0.4114\n",
            "Epoch 00075 | Loss: 0.4086\n",
            "Epoch 00076 | Loss: 0.4072\n",
            "F1-Score: 0.6318\n",
            "Epoch 00077 | Loss: 0.4070\n",
            "Epoch 00078 | Loss: 0.4069\n",
            "Epoch 00079 | Loss: 0.4073\n",
            "Epoch 00080 | Loss: 0.4093\n",
            "Epoch 00081 | Loss: 0.4107\n",
            "F1-Score: 0.6372\n",
            "Epoch 00082 | Loss: 0.4043\n",
            "Epoch 00083 | Loss: 0.4059\n",
            "Epoch 00084 | Loss: 0.4072\n",
            "Epoch 00085 | Loss: 0.4048\n",
            "Epoch 00086 | Loss: 0.4045\n",
            "F1-Score: 0.6383\n",
            "Epoch 00087 | Loss: 0.4048\n",
            "Epoch 00088 | Loss: 0.3959\n",
            "Epoch 00089 | Loss: 0.3967\n",
            "Epoch 00090 | Loss: 0.3918\n",
            "Epoch 00091 | Loss: 0.3897\n",
            "F1-Score: 0.6701\n",
            "Epoch 00092 | Loss: 0.3898\n",
            "Epoch 00093 | Loss: 0.3959\n",
            "Epoch 00094 | Loss: 0.3895\n",
            "Epoch 00095 | Loss: 0.3899\n",
            "Epoch 00096 | Loss: 0.3914\n",
            "F1-Score: 0.6293\n",
            "Epoch 00097 | Loss: 0.3864\n",
            "Epoch 00098 | Loss: 0.3838\n",
            "Epoch 00099 | Loss: 0.3802\n",
            "Epoch 00100 | Loss: 0.3793\n",
            "Epoch 00101 | Loss: 0.3786\n",
            "F1-Score: 0.6122\n",
            "Epoch 00102 | Loss: 0.3826\n",
            "Epoch 00103 | Loss: 0.4095\n",
            "Epoch 00104 | Loss: 0.4217\n",
            "Epoch 00105 | Loss: 0.4007\n",
            "Epoch 00106 | Loss: 0.3906\n",
            "F1-Score: 0.6765\n",
            "Epoch 00107 | Loss: 0.3843\n",
            "Epoch 00108 | Loss: 0.3777\n",
            "Epoch 00109 | Loss: 0.3743\n",
            "Epoch 00110 | Loss: 0.3742\n",
            "Epoch 00111 | Loss: 0.3720\n",
            "F1-Score: 0.6880\n",
            "Epoch 00112 | Loss: 0.3692\n",
            "Epoch 00113 | Loss: 0.3709\n",
            "Epoch 00114 | Loss: 0.3685\n",
            "Epoch 00115 | Loss: 0.3667\n",
            "Epoch 00116 | Loss: 0.3692\n",
            "F1-Score: 0.6738\n",
            "Epoch 00117 | Loss: 0.3666\n",
            "Epoch 00118 | Loss: 0.3651\n",
            "Epoch 00119 | Loss: 0.3668\n",
            "Epoch 00120 | Loss: 0.3619\n",
            "Epoch 00121 | Loss: 0.3612\n",
            "F1-Score: 0.6955\n",
            "Epoch 00122 | Loss: 0.3629\n",
            "Epoch 00123 | Loss: 0.3670\n",
            "Epoch 00124 | Loss: 0.3715\n",
            "Epoch 00125 | Loss: 0.3752\n",
            "Epoch 00126 | Loss: 0.4011\n",
            "F1-Score: 0.6632\n",
            "Epoch 00127 | Loss: 0.3865\n",
            "Epoch 00128 | Loss: 0.3786\n",
            "Epoch 00129 | Loss: 0.3718\n",
            "Epoch 00130 | Loss: 0.3637\n",
            "Epoch 00131 | Loss: 0.3620\n",
            "F1-Score: 0.6721\n",
            "Epoch 00132 | Loss: 0.3600\n",
            "Epoch 00133 | Loss: 0.3640\n",
            "Epoch 00134 | Loss: 0.3697\n",
            "Epoch 00135 | Loss: 0.3679\n",
            "Epoch 00136 | Loss: 0.3569\n",
            "F1-Score: 0.6785\n",
            "Epoch 00137 | Loss: 0.3516\n",
            "Epoch 00138 | Loss: 0.3549\n",
            "Epoch 00139 | Loss: 0.3546\n",
            "Epoch 00140 | Loss: 0.3554\n",
            "Epoch 00141 | Loss: 0.3549\n",
            "F1-Score: 0.6784\n",
            "Epoch 00142 | Loss: 0.3528\n",
            "Epoch 00143 | Loss: 0.3515\n",
            "Epoch 00144 | Loss: 0.3521\n",
            "Epoch 00145 | Loss: 0.3489\n",
            "Epoch 00146 | Loss: 0.3491\n",
            "F1-Score: 0.6950\n",
            "Epoch 00147 | Loss: 0.3476\n",
            "Epoch 00148 | Loss: 0.3430\n",
            "Epoch 00149 | Loss: 0.3504\n",
            "Epoch 00150 | Loss: 0.3504\n",
            "Epoch 00151 | Loss: 0.3523\n",
            "F1-Score: 0.7085\n",
            "Epoch 00152 | Loss: 0.3474\n",
            "Epoch 00153 | Loss: 0.3418\n",
            "Epoch 00154 | Loss: 0.3367\n",
            "Epoch 00155 | Loss: 0.3349\n",
            "Epoch 00156 | Loss: 0.3414\n",
            "F1-Score: 0.6775\n",
            "Epoch 00157 | Loss: 0.3497\n",
            "Epoch 00158 | Loss: 0.3511\n",
            "Epoch 00159 | Loss: 0.3440\n",
            "Epoch 00160 | Loss: 0.3362\n",
            "Epoch 00161 | Loss: 0.3346\n",
            "F1-Score: 0.7010\n",
            "Epoch 00162 | Loss: 0.3362\n",
            "Epoch 00163 | Loss: 0.3381\n",
            "Epoch 00164 | Loss: 0.3431\n",
            "Epoch 00165 | Loss: 0.3400\n",
            "Epoch 00166 | Loss: 0.3404\n",
            "F1-Score: 0.7026\n",
            "Epoch 00167 | Loss: 0.3358\n",
            "Epoch 00168 | Loss: 0.3387\n",
            "Epoch 00169 | Loss: 0.3524\n",
            "Epoch 00170 | Loss: 0.3421\n",
            "Epoch 00171 | Loss: 0.3378\n",
            "F1-Score: 0.7022\n",
            "Epoch 00172 | Loss: 0.3340\n",
            "Epoch 00173 | Loss: 0.3360\n",
            "Epoch 00174 | Loss: 0.3397\n",
            "Epoch 00175 | Loss: 0.3412\n",
            "Epoch 00176 | Loss: 0.3369\n",
            "F1-Score: 0.6973\n",
            "Epoch 00177 | Loss: 0.3338\n",
            "Epoch 00178 | Loss: 0.3316\n",
            "Epoch 00179 | Loss: 0.3309\n",
            "Epoch 00180 | Loss: 0.3297\n",
            "Epoch 00181 | Loss: 0.3333\n",
            "F1-Score: 0.6935\n",
            "Epoch 00182 | Loss: 0.3312\n",
            "Epoch 00183 | Loss: 0.3266\n",
            "Epoch 00184 | Loss: 0.3249\n",
            "Epoch 00185 | Loss: 0.3232\n",
            "Epoch 00186 | Loss: 0.3236\n",
            "F1-Score: 0.7261\n",
            "Epoch 00187 | Loss: 0.3249\n",
            "Epoch 00188 | Loss: 0.3265\n",
            "Epoch 00189 | Loss: 0.3301\n",
            "Epoch 00190 | Loss: 0.3337\n",
            "Epoch 00191 | Loss: 0.3359\n",
            "F1-Score: 0.7028\n",
            "Epoch 00192 | Loss: 0.3345\n",
            "Epoch 00193 | Loss: 0.3319\n",
            "Epoch 00194 | Loss: 0.3287\n",
            "Epoch 00195 | Loss: 0.3293\n",
            "Epoch 00196 | Loss: 0.3309\n",
            "F1-Score: 0.7006\n",
            "Epoch 00197 | Loss: 0.3383\n",
            "Epoch 00198 | Loss: 0.3434\n",
            "Epoch 00199 | Loss: 0.3378\n",
            "Epoch 00200 | Loss: 0.3321\n"
          ]
        }
      ],
      "source": [
        "## Student model\n",
        "student_model = StudentModel(input_size = n_features, hidden_size = 256, output_size = n_classes).to(device)\n",
        "\n",
        "### DEFINE LOSS FUNCTION AND OPTIMIZER\n",
        "optimizer = torch.optim.Adam(student_model.parameters(), lr=0.01)\n",
        "\n",
        "### TRAIN\n",
        "epoch_list, student_model_scores = train(student_model, loss_fcn, device, optimizer, max_epochs, train_dataloader, val_dataloader)"
      ]
    },
    {
      "cell_type": "markdown",
      "metadata": {
        "id": "aWatNTPBpQGY"
      },
      "source": [
        "Let's evaluate the performance of your model"
      ]
    },
    {
      "cell_type": "code",
      "execution_count": 34,
      "metadata": {
        "id": "WFWMqwDuSj7b",
        "colab": {
          "base_uri": "https://localhost:8080/",
          "height": 368
        },
        "outputId": "79cda97e-9692-4229-eb28-c37ddfe61b1a"
      },
      "outputs": [
        {
          "output_type": "stream",
          "name": "stdout",
          "text": [
            "Student Model : F1-Score on the test set: 0.7390\n"
          ]
        },
        {
          "output_type": "display_data",
          "data": {
            "text/plain": [
              "<Figure size 720x360 with 1 Axes>"
            ],
            "image/png": "[encoded data removed]"
          },
          "metadata": {
            "needs_background": "light"
          }
        }
      ],
      "source": [
        "score_test = evaluate(student_model, loss_fcn, device, test_dataloader)\n",
        "print(\"Student Model : F1-Score on the test set: {:.4f}\".format(score_test))\n",
        "\n",
        "def plot_f1_score(epoch_list, basic_model_scores, student_model_scores) :\n",
        "    plt.figure(figsize = [10,5])\n",
        "    plt.plot(epoch_list, basic_model_scores, 'b', label = \"Basic Model\")\n",
        "    plt.plot(epoch_list, student_model_scores, 'r', label = \"Student Model\")\n",
        "    plt.title(\"Evolution of f1 score w.r.t epochs\")\n",
        "    plt.ylim([0.0, 1.0])\n",
        "    plt.ylabel(\"Epochs\")\n",
        "    plt.xlabel(\"F1-Score\")\n",
        "    plt.legend()\n",
        "    plt.show()\n",
        "    \n",
        "plot_f1_score(epoch_list, basic_model_scores, student_model_scores)"
      ]
    },
    {
      "cell_type": "markdown",
      "metadata": {
        "id": "i9aVEYkuR3fp"
      },
      "source": [
        "## **PART 2 : QUESTIONS** (12/20)"
      ]
    },
    {
      "cell_type": "markdown",
      "metadata": {
        "id": "vZ-r6AWtR-Co"
      },
      "source": [
        "**1. Make a small paragraph that : (4pts)**\n",
        "1. Explains your achitecture and justify your choices (why the Graph Layer you chose is more efficient than the GCNLayer from the Basic Model?).\n",
        "2. Analyses your results (what is the F1-Score ? are your results convincing ? what is your position w.r.t state-of-the-art ?)."
      ]
    },
    {
      "cell_type": "markdown",
      "metadata": {
        "id": "4aiCvW4q5jRY"
      },
      "source": [
        "(ANSWER)"
      ]
    },
    {
      "cell_type": "markdown",
      "metadata": {
        "id": "5HIVqG4u5jfc"
      },
      "source": [
        "**2. Provide a diagramm of your architecture, which includes a good and clear legend as well as shapes information. The diagramm must be submitted as an external file, along with this notebook (PDF, JEPG or PNG format accepted). (2pts)**"
      ]
    },
    {
      "cell_type": "markdown",
      "metadata": {
        "id": "crMHLjkJ5pxl"
      },
      "source": [
        "**3. Make a small paragraph that explains: (6pts)**\n",
        "1. **What _oversmoothing_ is in the context of Graph Neural Network. Why is it an issue ?** <p>\n",
        "Oversmoothing in Graph Neural Networks (GNNs) refers to the phenomenon where the node representations become too similar after several layers of message passing, leading to a loss of discriminative power and hindering the GNN's ability to distinguish between nodes with different characteristics. This issue arises due to the aggregation process in each GNN layer, which can lead to an averaging effect. Oversmoothing is a particular concern in semi-supervised learning settings and can limit the GNN's ability to learn a meaningful classifier. Several techniques have been proposed to address this issue, including skip connections, residual connections, and adaptive normalization techniques, to preserve the discriminative power of node representations over multiple layers of message passing.\n",
        "\n",
        "2. **Are there solutions to overcome it ?** <p>\n",
        "Yes, there are several techniques that have been proposed to address the issue of oversmoothing in Graph Neural Networks (GNNs). One approach is to use skip connections or residual connections, similar to those used in convolutional neural networks (CNNs), to allow information to bypass some of the layers and preserve the original input information. Another approach is to use adaptive normalization techniques, such as layer normalization or batch normalization, to ensure that the node representations remain diverse across multiple layers of message passing. Additionally, some recent research has focused on developing new architectures for GNNs, such as graph attention networks or graph convolutional networks with attention mechanisms, that can selectively attend to different parts of the graph and avoid oversmoothing. These techniques have shown promise in improving the performance of GNNs on tasks that require the ability to distinguish between nodes with different characteristics.\n",
        "\n",
        "3. **Do you think the model you constructed is robust with respect to oversmoothing ? Why ?** <p>\n",
        "The model we constructed, which is a simple Graph Convolutional Network (GCN) with two layers of graph convolutions, may be susceptible to oversmoothing if used on large graphs or if the number of layers is increased. However, it is not possible to definitively say whether the model is robust to oversmoothing without evaluating its performance on a specific task and dataset. To make the GCN more robust to oversmoothing, we can incorporate some of the techniques that have been proposed to address this issue, such as skip connections, residual connections, or adaptive normalization techniques. Additionally, we can experiment with different numbers of layers, learning rates, and other hyperparameters to optimize the performance of the GCN on the task at hand. Ultimately, the robustness of a GNN model with respect to oversmoothing will depend on many factors, including the size and complexity of the graph, the amount of labeled data available, and the specific task being addressed. Therefore, it is important to carefully evaluate the performance of any GNN model on the target task and dataset, and to experiment with different architectures and hyperparameters to optimize its performance. <p>"
      ]
    }
  ],
  "metadata": {
    "accelerator": "GPU",
    "colab": {
      "provenance": []
    },
    "gpuClass": "standard",
    "kernelspec": {
      "display_name": "Python 3",
      "language": "python",
      "name": "python3"
    },
    "language_info": {
      "codemirror_mode": {
        "name": "ipython",
        "version": 3
      },
      "file_extension": ".py",
      "mimetype": "text/x-python",
      "name": "python",
      "nbconvert_exporter": "python",
      "pygments_lexer": "ipython3",
      "version": "3.7.6"
    }
  },
  "nbformat": 4,
  "nbformat_minor": 0
}